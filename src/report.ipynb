{
 "cells": [
  {
   "cell_type": "markdown",
   "metadata": {},
   "source": [
    "# Test Results Review Report\n",
    "\n",
    "This is supposed to help create the milestone report for now and eventuall generate it automatically. It is an interactive document containing code segments and their output. It is part of the JDP project which aims to create an *easily accessible* system for exploring test results and automating *arbitrary* workflows.\n",
    "\n",
    "Eventually this workbook should be easily installable locally or accessible from some remote location with zero knowledge of Julia or Jupyter. However right now it is not, but you can still try by visiting: https://github.com/richiejp/jdp\n",
    "\n",
    "## Setup\n",
    "\n",
    "First we need to load the JDP library which does the heavy lifting; importing and transforming the test result data from OpenQA into something useable. Note that this assumes you started this notebook by running `julia src/notebook.jl`."
   ]
  },
  {
   "cell_type": "code",
   "execution_count": 65,
   "metadata": {
    "collapsed": true
   },
   "outputs": [
    {
     "name": "stdout",
     "output_type": "stream",
     "text": [
      "\u001b[32m\u001b[1m  Updating\u001b[22m\u001b[39m registry at `~/.julia/registries/General`\n",
      "\u001b[32m\u001b[1m  Updating\u001b[22m\u001b[39m git-repo `https://github.com/JuliaRegistries/General.git`\n",
      "\u001b[2K\u001b[?25h[1mFetching:\u001b[22m\u001b[39m [========================================>]  100.0 %.0 %"
     ]
    }
   ],
   "source": [
    "# Bring Pkg (the Package manager library) into our namespace so that we can access it's members with Pkg.member\n",
    "import Pkg\n",
    "\n",
    "# Bring DataFrame's _members_ into our namespace, so we can call them directly\n",
    "using DataFrames\n",
    "\n",
    "# Assumes you started the notebook with jdp/src/notebook.jl\n",
    "# Switch our 'environment' to the JDP project\n",
    "Pkg.activate(\"../\")\n",
    "# Make sure the project dependencies are downloaded and precompiled (this can take a while)\n",
    "Pkg.instantiate()\n",
    "\n",
    "using JDP\n",
    "using JDP.OpenQA\n",
    "using JDP.TableDB"
   ]
  },
  {
   "cell_type": "markdown",
   "metadata": {},
   "source": [
    "Next we set some variables so that we get the data from the correct location. You can download the JSON data from OpenQA with\n",
    "```julia\n",
    "OpenQA.save_job_json(OpenQA.osd, datadir, group_id)\n",
    "``` \n",
    "if you are feeling brave (probably you should wait until I find another way of providing the data)."
   ]
  },
  {
   "cell_type": "code",
   "execution_count": 14,
   "metadata": {
    "collapsed": true
   },
   "outputs": [
    {
     "data": {
      "text/plain": [
       ":binary"
      ]
     },
     "execution_count": 14,
     "metadata": {},
     "output_type": "execute_result"
    }
   ],
   "source": [
    "datadir = \"/home/rich/qa/data/osd\" # The cache dir for the OpenQA test result data\n",
    "cache_type = :binary # Set to :json to use the raw JSON data from OpenQA"
   ]
  },
  {
   "cell_type": "markdown",
   "metadata": {},
   "source": [
    "Now we load the data into memory, this can take a while"
   ]
  },
  {
   "cell_type": "code",
   "execution_count": 66,
   "metadata": {},
   "outputs": [
    {
     "data": {
      "text/plain": [
       "\"Loaded 300224 results\""
      ]
     },
     "execution_count": 66,
     "metadata": {},
     "output_type": "execute_result"
    }
   ],
   "source": [
    "json = nothing\n",
    "df = nothing\n",
    "\n",
    "if cache_type == :binary\n",
    "    # The raw data from OpenQA is absurdly huge, so to save on start up time, we can use a binarary format\n",
    "    df = TableDB.load_module_results(joinpath(datadir, \"cache.jld2\"))\n",
    "else\n",
    "    json = OpenQA.load_job_results_json(datadir)\n",
    "    df = TableDB.get_module_results(json)\n",
    "end\n",
    "\n",
    "\"Loaded $(nrow(df)) results\""
   ]
  },
  {
   "cell_type": "markdown",
   "metadata": {},
   "source": [
    "The function `describe` from the DataFrames package gives us some stats and information about the structure of the loaded data"
   ]
  },
  {
   "cell_type": "code",
   "execution_count": 23,
   "metadata": {},
   "outputs": [
    {
     "data": {
      "text/html": [
       "<table class=\"data-frame\"><thead><tr><th></th><th>variable</th><th>nunique</th><th>min</th><th>max</th><th>eltype</th></tr></thead><tbody><tr><th>1</th><td>build</td><td>41</td><td>0250</td><td>0393</td><td>String</td></tr><tr><th>2</th><td>name</td><td>2400</td><td>1_fs_stress</td><td>xfs-490</td><td>String</td></tr><tr><th>3</th><td>result</td><td>5</td><td>canceled</td><td>softfailed</td><td>String</td></tr><tr><th>4</th><td>arch</td><td>4</td><td>aarch64</td><td>x86_64</td><td>String</td></tr><tr><th>5</th><td>suit</td><td>22</td><td>(\"LTP\", \"cve\")</td><td>(\"fstests\", \"xfs\")</td><td>Tuple{String,Union{Missing, String}}</td></tr><tr><th>6</th><td>bugrefs</td><td>151</td><td>[]</td><td>[\"t#2009216\"]</td><td>Array{SubString,N} where N</td></tr></tbody></table>"
      ],
      "text/plain": [
       "6×5 DataFrame. Omitted printing of 1 columns\n",
       "│ Row │ variable │ nunique │ min            │ max                │\n",
       "│     │ \u001b[90mSymbol\u001b[39m   │ \u001b[90mInt64\u001b[39m   │ \u001b[90mAny\u001b[39m            │ \u001b[90mAny\u001b[39m                │\n",
       "├─────┼──────────┼─────────┼────────────────┼────────────────────┤\n",
       "│ 1   │ build    │ 41      │ 0250           │ 0393               │\n",
       "│ 2   │ name     │ 2400    │ 1_fs_stress    │ xfs-490            │\n",
       "│ 3   │ result   │ 5       │ canceled       │ softfailed         │\n",
       "│ 4   │ arch     │ 4       │ aarch64        │ x86_64             │\n",
       "│ 5   │ suit     │ 22      │ (\"LTP\", \"cve\") │ (\"fstests\", \"xfs\") │\n",
       "│ 6   │ bugrefs  │ 151     │ []             │ [\"t#2009216\"]      │"
      ]
     },
     "execution_count": 23,
     "metadata": {},
     "output_type": "execute_result"
    }
   ],
   "source": [
    "describe(df, stats = [:nunique, :min, :max, :eltype])"
   ]
  },
  {
   "cell_type": "markdown",
   "metadata": {},
   "source": [
    "## Failed tests for build\n",
    "\n",
    "Let's look at what tests failed for a given build. First we need to filter out passed test results and results from other builds. Then we can group the results by test name and suit, amalgamating some of the columns to make the table easier to view. Filter is fairly simple, but the grouping is a bit more complex and there is a bit of Julia magic, see [Split-Apply-Combine](http://juliadata.github.io/DataFrames.jl/stable/man/split_apply_combine.html) for help."
   ]
  },
  {
   "cell_type": "code",
   "execution_count": 64,
   "metadata": {},
   "outputs": [
    {
     "data": {
      "text/plain": [
       "\"68 tests failed this build\""
      ]
     },
     "execution_count": 64,
     "metadata": {},
     "output_type": "execute_result"
    }
   ],
   "source": [
    "build = \"0393\"\n",
    "\n",
    "# The syntax \"var -> expr\" is an anonymous function, strings starting with 'r' are regexs\n",
    "fails = filter(r -> r.build == build && occursin(r\"failed\", r[:result]), df)\n",
    "\n",
    "# group by name then apply the function defined by `do r ...` to each group\n",
    "# Putting 'do' after `by` is like writing `by(r -> ...`\n",
    "fails_by_name = by(fails, [:name, :suit]) do r\n",
    "    DataFrame(\n",
    "        # We have to write Tuple otherwise DataFrame creates a multi-row result\n",
    "        result = Tuple(unique(r.result)), \n",
    "        arch = Tuple(unique(r.arch)),\n",
    "        # Three dots `...` 'splats' an array into multiple function arguments \n",
    "        # and `vcat` concatenates it's arguments together\n",
    "        bugrefs = Tuple(unique(vcat(r.bugrefs...)))\n",
    "    )\n",
    "end\n",
    "\n",
    "\"$(nrow(fails_by_name)) tests failed this build\""
   ]
  },
  {
   "cell_type": "markdown",
   "metadata": {},
   "source": [
    "We probably have too many failures to display in Jupyter, so let's just trying displaying failures for which there are no bug tags"
   ]
  },
  {
   "cell_type": "code",
   "execution_count": 51,
   "metadata": {},
   "outputs": [
    {
     "data": {
      "text/html": [
       "<table class=\"data-frame\"><thead><tr><th></th><th>name</th><th>suit</th><th>result</th><th>arch</th><th>bugrefs</th></tr></thead><tbody><tr><th>1</th><td>btrfs-152</td><td>(\"fstests\", \"btrfs\")</td><td>(\"failed\",)</td><td>(\"aarch64\",)</td><td>()</td></tr><tr><th>2</th><td>generic-427</td><td>(\"fstests\", \"btrfs\")</td><td>(\"failed\",)</td><td>(\"aarch64\",)</td><td>()</td></tr><tr><th>3</th><td>generate_report</td><td>(\"fstests\", \"xfs\")</td><td>(\"failed\",)</td><td>(\"aarch64\",)</td><td>()</td></tr><tr><th>4</th><td>xfs-113</td><td>(\"fstests\", \"xfs\")</td><td>(\"failed\",)</td><td>(\"aarch64\",)</td><td>()</td></tr><tr><th>5</th><td>xfs-278</td><td>(\"fstests\", \"xfs\")</td><td>(\"failed\",)</td><td>(\"aarch64\", \"ppc64le\", \"x86_64\")</td><td>()</td></tr><tr><th>6</th><td>boot_ltp</td><td>(\"LTP\", \"syscalls\")</td><td>(\"failed\",)</td><td>(\"aarch64\", \"x86_64\")</td><td>()</td></tr><tr><th>7</th><td>Numa-testcases</td><td>(\"LTP\", \"numa\")</td><td>(\"failed\",)</td><td>(\"aarch64\",)</td><td>()</td></tr><tr><th>8</th><td>boot_ltp</td><td>(\"LTP\", \"net.multicast\")</td><td>(\"failed\",)</td><td>(\"aarch64\",)</td><td>()</td></tr><tr><th>9</th><td>fallocate05</td><td>(\"LTP\", \"syscalls\")</td><td>(\"failed\",)</td><td>(\"ppc64le\",)</td><td>()</td></tr><tr><th>10</th><td>generic-119</td><td>(\"fstests\", \"btrfs\")</td><td>(\"failed\",)</td><td>(\"ppc64le\",)</td><td>()</td></tr><tr><th>11</th><td>install_ltp</td><td>(\"OpenQA\", \"kernel\")</td><td>(\"failed\",)</td><td>(\"x86_64\",)</td><td>()</td></tr><tr><th>12</th><td>boot_ltp</td><td>(\"LTP\", \"net_stress.interface\")</td><td>(\"failed\",)</td><td>(\"x86_64\",)</td><td>()</td></tr><tr><th>13</th><td>boot_ltp</td><td>(\"LTP\", \"net.ipv6_lib\")</td><td>(\"failed\",)</td><td>(\"x86_64\",)</td><td>()</td></tr><tr><th>14</th><td>statx05</td><td>(\"LTP\", \"syscalls\")</td><td>(\"failed\",)</td><td>(\"s390x\",)</td><td>()</td></tr><tr><th>15</th><td>enable_kdump</td><td>(\"fstests\", \"btrfs\")</td><td>(\"softfailed\",)</td><td>(\"s390x\",)</td><td>()</td></tr><tr><th>16</th><td>partition</td><td>(\"fstests\", \"btrfs\")</td><td>(\"failed\",)</td><td>(\"s390x\",)</td><td>()</td></tr><tr><th>17</th><td>btrfs-007</td><td>(\"fstests\", \"btrfs\")</td><td>(\"failed\",)</td><td>(\"aarch64\",)</td><td>()</td></tr><tr><th>18</th><td>generic-091</td><td>(\"fstests\", \"btrfs\")</td><td>(\"failed\",)</td><td>(\"aarch64\",)</td><td>()</td></tr></tbody></table>"
      ],
      "text/plain": [
       "18×5 DataFrame. Omitted printing of 2 columns\n",
       "│ Row │ name            │ suit                            │ result          │\n",
       "│     │ \u001b[90mString\u001b[39m          │ \u001b[90mTuple…\u001b[39m                          │ \u001b[90mTuple{String}\u001b[39m   │\n",
       "├─────┼─────────────────┼─────────────────────────────────┼─────────────────┤\n",
       "│ 1   │ btrfs-152       │ (\"fstests\", \"btrfs\")            │ (\"failed\",)     │\n",
       "│ 2   │ generic-427     │ (\"fstests\", \"btrfs\")            │ (\"failed\",)     │\n",
       "│ 3   │ generate_report │ (\"fstests\", \"xfs\")              │ (\"failed\",)     │\n",
       "│ 4   │ xfs-113         │ (\"fstests\", \"xfs\")              │ (\"failed\",)     │\n",
       "│ 5   │ xfs-278         │ (\"fstests\", \"xfs\")              │ (\"failed\",)     │\n",
       "│ 6   │ boot_ltp        │ (\"LTP\", \"syscalls\")             │ (\"failed\",)     │\n",
       "│ 7   │ Numa-testcases  │ (\"LTP\", \"numa\")                 │ (\"failed\",)     │\n",
       "│ 8   │ boot_ltp        │ (\"LTP\", \"net.multicast\")        │ (\"failed\",)     │\n",
       "│ 9   │ fallocate05     │ (\"LTP\", \"syscalls\")             │ (\"failed\",)     │\n",
       "│ 10  │ generic-119     │ (\"fstests\", \"btrfs\")            │ (\"failed\",)     │\n",
       "│ 11  │ install_ltp     │ (\"OpenQA\", \"kernel\")            │ (\"failed\",)     │\n",
       "│ 12  │ boot_ltp        │ (\"LTP\", \"net_stress.interface\") │ (\"failed\",)     │\n",
       "│ 13  │ boot_ltp        │ (\"LTP\", \"net.ipv6_lib\")         │ (\"failed\",)     │\n",
       "│ 14  │ statx05         │ (\"LTP\", \"syscalls\")             │ (\"failed\",)     │\n",
       "│ 15  │ enable_kdump    │ (\"fstests\", \"btrfs\")            │ (\"softfailed\",) │\n",
       "│ 16  │ partition       │ (\"fstests\", \"btrfs\")            │ (\"failed\",)     │\n",
       "│ 17  │ btrfs-007       │ (\"fstests\", \"btrfs\")            │ (\"failed\",)     │\n",
       "│ 18  │ generic-091     │ (\"fstests\", \"btrfs\")            │ (\"failed\",)     │"
      ]
     },
     "execution_count": 51,
     "metadata": {},
     "output_type": "execute_result"
    }
   ],
   "source": [
    "missing_bugrefs = filter(r -> length(r.bugrefs) < 1, fails_by_name)"
   ]
  },
  {
   "cell_type": "markdown",
   "metadata": {},
   "source": [
    "Let's try to find if any of these tests had bug refs in past builds"
   ]
  },
  {
   "cell_type": "code",
   "execution_count": 62,
   "metadata": {},
   "outputs": [
    {
     "data": {
      "text/html": [
       "<table class=\"data-frame\"><thead><tr><th></th><th>name</th><th>suit</th><th>bugrefs</th></tr></thead><tbody><tr><th>1</th><td>boot_ltp</td><td>(\"LTP\", \"cve\")</td><td>(\"bsc#1083900\", \"bsc#1074293\", \"poo#38084\", \"poo#37069\")</td></tr><tr><th>2</th><td>install_ltp</td><td>(\"OpenQA\", \"kernel\")</td><td>(\"poo#38141\", \"bsc#1093797\", \"bsc#1106178\")</td></tr><tr><th>3</th><td>boot_ltp</td><td>(\"LTP\", \"syscalls\")</td><td>(\"bsc#1099134\", \"bsc#1074293\", \"poo#35347\", \"bsc#1099173\", \"bsc#1102358\", \"bsc#1102250\", \"bsc#1108010\", \"bsc#1108028\", \"poo#40424\")</td></tr><tr><th>4</th><td>fallocate05</td><td>(\"LTP\", \"syscalls\")</td><td>(\"bsc#1099134\", \"bsc#1074293\", \"poo#35347\", \"bsc#1099173\", \"bsc#1102358\", \"bsc#1102250\", \"bsc#1108010\", \"bsc#1108028\", \"poo#40424\")</td></tr><tr><th>5</th><td>boot_ltp</td><td>(\"LTP\", \"numa\")</td><td>(\"bsc#1099878\", \"bsc#1102250\")</td></tr><tr><th>6</th><td>Numa-testcases</td><td>(\"LTP\", \"numa\")</td><td>(\"bsc#1099878\", \"bsc#1102250\")</td></tr><tr><th>7</th><td>boot_ltp</td><td>(\"LTP\", \"syscalls-ipc\")</td><td>()</td></tr><tr><th>8</th><td>boot_ltp</td><td>(\"LTP\", \"ima\")</td><td>(\"poo#37480\", \"poo#37838\")</td></tr><tr><th>9</th><td>boot_ltp</td><td>(\"LTP\", \"net.ipv6\")</td><td>()</td></tr><tr><th>10</th><td>boot_ltp</td><td>(\"LTP\", \"net.multicast\")</td><td>(\"bsc#1102250\",)</td></tr><tr><th>11</th><td>boot_ltp</td><td>(\"LTP\", \"net_stress.broken_ip\")</td><td>(\"bsc#1102250\",)</td></tr><tr><th>12</th><td>boot_ltp</td><td>(\"LTP\", \"net.ipv6_lib\")</td><td>(\"poo#38450\",)</td></tr><tr><th>13</th><td>enable_kdump</td><td>(\"fstests\", \"xfs\")</td><td>(\"poo#38165\", \"bsc#1101787\", \"poo#38954\", \"gh#os\", \"poo#39239\", \"bsc#1105017\", \"bsc#1073390\", \"bsc#1105025\", \"bsc#1106887\")</td></tr><tr><th>14</th><td>partition</td><td>(\"fstests\", \"xfs\")</td><td>(\"poo#38165\", \"bsc#1101787\", \"poo#38591\", \"poo#38954\", \"gh#os\", \"bsc#1093797\", \"poo#39239\", \"bsc#1105017\", \"bsc#1073390\", \"bsc#1105025\", \"poo#40205\", \"bsc#1106887\")</td></tr><tr><th>15</th><td>generate_report</td><td>(\"fstests\", \"xfs\")</td><td>(\"poo#38165\", \"bsc#1101787\", \"poo#38591\", \"poo#38954\", \"gh#os\", \"bsc#1093797\", \"poo#39239\", \"bsc#1105017\", \"bsc#1073390\", \"bsc#1105025\", \"poo#40205\", \"bsc#1106887\")</td></tr><tr><th>16</th><td>generic-427</td><td>(\"fstests\", \"xfs\")</td><td>(\"bsc#1106887\",)</td></tr><tr><th>17</th><td>enable_kdump</td><td>(\"fstests\", \"btrfs\")</td><td>(\"poo#38165\", \"bsc#1101267\", \"bsc#1101596\", \"bsc#1101787\", \"bsc#1102527\", \"bsc#1094827\", \"poo#36315\", \"poo#38954\", \"gh#os\", \"bsc#1103543\", \"bsc#1081390\", \"bsc#1093797\", \"bsc#1104778\", \"poo#37895\", \"bsc#1105453\", \"gh#SUSE\", \"bsc#1106387\")</td></tr><tr><th>18</th><td>partition</td><td>(\"fstests\", \"btrfs\")</td><td>(\"poo#38165\", \"bsc#1101267\", \"bsc#1101596\", \"bsc#1101787\", \"bsc#1102527\", \"bsc#1094827\", \"poo#38591\", \"poo#36315\", \"poo#38954\", \"gh#os\", \"bsc#1103543\", \"bsc#1093797\", \"bsc#1081390\", \"bsc#1104778\", \"poo#37895\", \"bsc#1105453\", \"poo#40205\", \"gh#SUSE\", \"bsc#1106387\")</td></tr><tr><th>19</th><td>generate_report</td><td>(\"fstests\", \"btrfs\")</td><td>(\"poo#38165\", \"bsc#1101267\", \"bsc#1101596\", \"bsc#1101787\", \"bsc#1102527\", \"bsc#1094827\", \"poo#38591\", \"poo#36315\", \"poo#38954\", \"gh#os\", \"bsc#1103543\", \"bsc#1093797\", \"bsc#1081390\", \"bsc#1104778\", \"poo#37895\", \"bsc#1105453\", \"poo#40205\", \"gh#SUSE\", \"bsc#1106387\")</td></tr><tr><th>20</th><td>generic-091</td><td>(\"fstests\", \"btrfs\")</td><td>(\"bsc#1101596\",)</td></tr><tr><th>21</th><td>generic-119</td><td>(\"fstests\", \"btrfs\")</td><td>()</td></tr><tr><th>22</th><td>btrfs-007</td><td>(\"fstests\", \"btrfs\")</td><td>()</td></tr><tr><th>23</th><td>btrfs-152</td><td>(\"fstests\", \"btrfs\")</td><td>(\"bsc#1102527\", \"bsc#1094827\")</td></tr><tr><th>24</th><td>generic-427</td><td>(\"fstests\", \"btrfs\")</td><td>(\"gh#SUSE\", \"bsc#1106387\")</td></tr><tr><th>25</th><td>generic-091</td><td>(\"fstests\", \"xfs\")</td><td>()</td></tr><tr><th>26</th><td>generic-119</td><td>(\"fstests\", \"xfs\")</td><td>()</td></tr><tr><th>27</th><td>xfs-113</td><td>(\"fstests\", \"xfs\")</td><td>()</td></tr><tr><th>28</th><td>xfs-278</td><td>(\"fstests\", \"xfs\")</td><td>()</td></tr><tr><th>29</th><td>boot_ltp</td><td>(\"LTP\", \"net_stress.interface\")</td><td>()</td></tr><tr><th>30</th><td>boot_ltp</td><td>(\"LTP\", \"net.sctp\")</td><td>(\"bsc#1083710\", \"poo#35059\")</td></tr><tr><th>&vellip;</th><td>&vellip;</td><td>&vellip;</td><td>&vellip;</td></tr></tbody></table>"
      ],
      "text/plain": [
       "31×3 DataFrame. Omitted printing of 1 columns\n",
       "│ Row │ name           │ suit                            │\n",
       "│     │ \u001b[90mString\u001b[39m         │ \u001b[90mTuple…\u001b[39m                          │\n",
       "├─────┼────────────────┼─────────────────────────────────┤\n",
       "│ 1   │ boot_ltp       │ (\"LTP\", \"cve\")                  │\n",
       "│ 2   │ install_ltp    │ (\"OpenQA\", \"kernel\")            │\n",
       "│ 3   │ boot_ltp       │ (\"LTP\", \"syscalls\")             │\n",
       "│ 4   │ fallocate05    │ (\"LTP\", \"syscalls\")             │\n",
       "│ 5   │ boot_ltp       │ (\"LTP\", \"numa\")                 │\n",
       "│ 6   │ Numa-testcases │ (\"LTP\", \"numa\")                 │\n",
       "│ 7   │ boot_ltp       │ (\"LTP\", \"syscalls-ipc\")         │\n",
       "│ 8   │ boot_ltp       │ (\"LTP\", \"ima\")                  │\n",
       "│ 9   │ boot_ltp       │ (\"LTP\", \"net.ipv6\")             │\n",
       "│ 10  │ boot_ltp       │ (\"LTP\", \"net.multicast\")        │\n",
       "⋮\n",
       "│ 21  │ generic-119    │ (\"fstests\", \"btrfs\")            │\n",
       "│ 22  │ btrfs-007      │ (\"fstests\", \"btrfs\")            │\n",
       "│ 23  │ btrfs-152      │ (\"fstests\", \"btrfs\")            │\n",
       "│ 24  │ generic-427    │ (\"fstests\", \"btrfs\")            │\n",
       "│ 25  │ generic-091    │ (\"fstests\", \"xfs\")              │\n",
       "│ 26  │ generic-119    │ (\"fstests\", \"xfs\")              │\n",
       "│ 27  │ xfs-113        │ (\"fstests\", \"xfs\")              │\n",
       "│ 28  │ xfs-278        │ (\"fstests\", \"xfs\")              │\n",
       "│ 29  │ boot_ltp       │ (\"LTP\", \"net_stress.interface\") │\n",
       "│ 30  │ boot_ltp       │ (\"LTP\", \"net.sctp\")             │\n",
       "│ 31  │ statx05        │ (\"LTP\", \"syscalls\")             │"
      ]
     },
     "execution_count": 62,
     "metadata": {},
     "output_type": "execute_result"
    }
   ],
   "source": [
    "names_index = Set(missing_bugrefs.name)\n",
    "\n",
    "past_results = by(filter(r -> r.name in names_index, df), [:name, :suit]) do r\n",
    "    DataFrame(bugrefs = Tuple(\n",
    "        # Remove OpenQA's self references with !startswith\n",
    "        filter(br -> !startswith(br, \"t#\"), unique(vcat(r.bugrefs...)))\n",
    "    ))\n",
    "end"
   ]
  },
  {
   "cell_type": "markdown",
   "metadata": {},
   "source": [
    "You may still find that there are still too many results to view here. It is left as an excercise to the reader to filter out even more (you may just want to blacklist tests like `boot_ltp` and `partition` which create a lot of noise).\n",
    "\n",
    "And finally (for now), let's get the completely tagless tests on their own"
   ]
  },
  {
   "cell_type": "code",
   "execution_count": 63,
   "metadata": {},
   "outputs": [
    {
     "data": {
      "text/html": [
       "<table class=\"data-frame\"><thead><tr><th></th><th>name</th><th>suit</th><th>bugrefs</th></tr></thead><tbody><tr><th>1</th><td>boot_ltp</td><td>(\"LTP\", \"syscalls-ipc\")</td><td>()</td></tr><tr><th>2</th><td>boot_ltp</td><td>(\"LTP\", \"net.ipv6\")</td><td>()</td></tr><tr><th>3</th><td>generic-119</td><td>(\"fstests\", \"btrfs\")</td><td>()</td></tr><tr><th>4</th><td>btrfs-007</td><td>(\"fstests\", \"btrfs\")</td><td>()</td></tr><tr><th>5</th><td>generic-091</td><td>(\"fstests\", \"xfs\")</td><td>()</td></tr><tr><th>6</th><td>generic-119</td><td>(\"fstests\", \"xfs\")</td><td>()</td></tr><tr><th>7</th><td>xfs-113</td><td>(\"fstests\", \"xfs\")</td><td>()</td></tr><tr><th>8</th><td>xfs-278</td><td>(\"fstests\", \"xfs\")</td><td>()</td></tr><tr><th>9</th><td>boot_ltp</td><td>(\"LTP\", \"net_stress.interface\")</td><td>()</td></tr></tbody></table>"
      ],
      "text/plain": [
       "9×3 DataFrame\n",
       "│ Row │ name        │ suit                            │ bugrefs │\n",
       "│     │ \u001b[90mString\u001b[39m      │ \u001b[90mTuple…\u001b[39m                          │ \u001b[90mTuple…\u001b[39m  │\n",
       "├─────┼─────────────┼─────────────────────────────────┼─────────┤\n",
       "│ 1   │ boot_ltp    │ (\"LTP\", \"syscalls-ipc\")         │ ()      │\n",
       "│ 2   │ boot_ltp    │ (\"LTP\", \"net.ipv6\")             │ ()      │\n",
       "│ 3   │ generic-119 │ (\"fstests\", \"btrfs\")            │ ()      │\n",
       "│ 4   │ btrfs-007   │ (\"fstests\", \"btrfs\")            │ ()      │\n",
       "│ 5   │ generic-091 │ (\"fstests\", \"xfs\")              │ ()      │\n",
       "│ 6   │ generic-119 │ (\"fstests\", \"xfs\")              │ ()      │\n",
       "│ 7   │ xfs-113     │ (\"fstests\", \"xfs\")              │ ()      │\n",
       "│ 8   │ xfs-278     │ (\"fstests\", \"xfs\")              │ ()      │\n",
       "│ 9   │ boot_ltp    │ (\"LTP\", \"net_stress.interface\") │ ()      │"
      ]
     },
     "execution_count": 63,
     "metadata": {},
     "output_type": "execute_result"
    }
   ],
   "source": [
    "filter(r -> length(r.bugrefs) < 1, past_results)"
   ]
  }
 ],
 "metadata": {
  "kernelspec": {
   "display_name": "Julia 1.0.0",
   "language": "julia",
   "name": "julia-1.0"
  },
  "language_info": {
   "file_extension": ".jl",
   "mimetype": "application/julia",
   "name": "julia",
   "version": "1.0.0"
  }
 },
 "nbformat": 4,
 "nbformat_minor": 2
}
