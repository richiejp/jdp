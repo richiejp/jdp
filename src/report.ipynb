{
 "cells": [
  {
   "cell_type": "markdown",
   "metadata": {},
   "source": [
    "# Test Results Review Report\n",
    "\n",
    "This helps create the milestone report.\n",
    "\n",
    "## Setup\n",
    "\n",
    "First we need to load the JDP library which does the heavy lifting; importing and transforming the test result data from OpenQA into something useable. This assumes you started this notebook by running `julia src/notebook.jl`"
   ]
  },
  {
   "cell_type": "code",
   "execution_count": 16,
   "metadata": {},
   "outputs": [],
   "source": [
    "import Pkg\n",
    "\n",
    "using DataFrames\n",
    "\n",
    "# Assumes you started the notebook with jdp/src/notebook.jl\n",
    "Pkg.activate(\"../\")\n",
    "\n",
    "using JDP\n",
    "using JDP.OpenQA\n",
    "using JDP.TableDB"
   ]
  },
  {
   "cell_type": "markdown",
   "metadata": {},
   "source": [
    "Next we set some variables so that we get the data from the correct location"
   ]
  },
  {
   "cell_type": "code",
   "execution_count": 14,
   "metadata": {},
   "outputs": [
    {
     "data": {
      "text/plain": [
       ":binary"
      ]
     },
     "execution_count": 14,
     "metadata": {},
     "output_type": "execute_result"
    }
   ],
   "source": [
    "datadir = \"/home/rich/qa/data/osd\" # The cache dir for the OpenQA test result data\n",
    "cache_type = :binary # Set to :json to use the raw JSON data from OpenQA"
   ]
  },
  {
   "cell_type": "markdown",
   "metadata": {},
   "source": [
    "Now we load the data into memory, this can take a while"
   ]
  },
  {
   "cell_type": "code",
   "execution_count": 17,
   "metadata": {
    "scrolled": true
   },
   "outputs": [
    {
     "name": "stderr",
     "output_type": "stream",
     "text": [
      "┌ Info: Recompiling stale cache file /home/rich/.julia/compiled/v1.0/JLD2/O1EyT.ji for JLD2 [033835bb-8acc-5ee8-8aae-3f567f8a3819]\n",
      "└ @ Base loading.jl:1184\n"
     ]
    },
    {
     "data": {
      "text/html": [
       "<table class=\"data-frame\"><thead><tr><th></th><th>variable</th><th>mean</th><th>min</th><th>median</th><th>max</th><th>nunique</th><th>nmissing</th><th>eltype</th></tr></thead><tbody><tr><th>1</th><td>build</td><td></td><td>0250</td><td></td><td>0393</td><td>41</td><td></td><td>String</td></tr><tr><th>2</th><td>name</td><td></td><td>1_fs_stress</td><td></td><td>xfs-490</td><td>2400</td><td></td><td>String</td></tr><tr><th>3</th><td>result</td><td></td><td>canceled</td><td></td><td>softfailed</td><td>5</td><td></td><td>String</td></tr><tr><th>4</th><td>arch</td><td></td><td>aarch64</td><td></td><td>x86_64</td><td>4</td><td></td><td>String</td></tr><tr><th>5</th><td>suit</td><td></td><td>(\"LTP\", \"cve\")</td><td></td><td>(\"fstests\", \"xfs\")</td><td>22</td><td></td><td>Tuple{String,Union{Missing, String}}</td></tr><tr><th>6</th><td>bugrefs</td><td></td><td>[]</td><td></td><td>[\"t#2009216\"]</td><td>151</td><td></td><td>Array{SubString,N} where N</td></tr></tbody></table>"
      ],
      "text/plain": [
       "6×8 DataFrame. Omitted printing of 3 columns\n",
       "│ Row │ variable │ mean    │ min            │ median  │ max                │\n",
       "│     │ \u001b[90mSymbol\u001b[39m   │ \u001b[90mNothing\u001b[39m │ \u001b[90mAny\u001b[39m            │ \u001b[90mNothing\u001b[39m │ \u001b[90mAny\u001b[39m                │\n",
       "├─────┼──────────┼─────────┼────────────────┼─────────┼────────────────────┤\n",
       "│ 1   │ build    │         │ 0250           │         │ 0393               │\n",
       "│ 2   │ name     │         │ 1_fs_stress    │         │ xfs-490            │\n",
       "│ 3   │ result   │         │ canceled       │         │ softfailed         │\n",
       "│ 4   │ arch     │         │ aarch64        │         │ x86_64             │\n",
       "│ 5   │ suit     │         │ (\"LTP\", \"cve\") │         │ (\"fstests\", \"xfs\") │\n",
       "│ 6   │ bugrefs  │         │ []             │         │ [\"t#2009216\"]      │"
      ]
     },
     "execution_count": 17,
     "metadata": {},
     "output_type": "execute_result"
    }
   ],
   "source": [
    "json = nothing\n",
    "df = nothing\n",
    "\n",
    "if cache_type == :binary\n",
    "    df = TableDB.load_module_results(joinpath(datadir, \"cache.jld2\"))\n",
    "else\n",
    "    json = OpenQA.load_job_results_json(datadir)\n",
    "    df = TableDB.get_module_results(json)\n",
    "end\n",
    "\n",
    "\"Loaded $(nrow(df)) results\""
   ]
  },
  {
   "cell_type": "markdown",
   "metadata": {},
   "source": [
    "The function `describe` from the DataFrames package gives us some stats and information about the structure of the loaded data"
   ]
  },
  {
   "cell_type": "code",
   "execution_count": 23,
   "metadata": {},
   "outputs": [
    {
     "data": {
      "text/html": [
       "<table class=\"data-frame\"><thead><tr><th></th><th>variable</th><th>nunique</th><th>min</th><th>max</th><th>eltype</th></tr></thead><tbody><tr><th>1</th><td>build</td><td>41</td><td>0250</td><td>0393</td><td>String</td></tr><tr><th>2</th><td>name</td><td>2400</td><td>1_fs_stress</td><td>xfs-490</td><td>String</td></tr><tr><th>3</th><td>result</td><td>5</td><td>canceled</td><td>softfailed</td><td>String</td></tr><tr><th>4</th><td>arch</td><td>4</td><td>aarch64</td><td>x86_64</td><td>String</td></tr><tr><th>5</th><td>suit</td><td>22</td><td>(\"LTP\", \"cve\")</td><td>(\"fstests\", \"xfs\")</td><td>Tuple{String,Union{Missing, String}}</td></tr><tr><th>6</th><td>bugrefs</td><td>151</td><td>[]</td><td>[\"t#2009216\"]</td><td>Array{SubString,N} where N</td></tr></tbody></table>"
      ],
      "text/plain": [
       "6×5 DataFrame. Omitted printing of 1 columns\n",
       "│ Row │ variable │ nunique │ min            │ max                │\n",
       "│     │ \u001b[90mSymbol\u001b[39m   │ \u001b[90mInt64\u001b[39m   │ \u001b[90mAny\u001b[39m            │ \u001b[90mAny\u001b[39m                │\n",
       "├─────┼──────────┼─────────┼────────────────┼────────────────────┤\n",
       "│ 1   │ build    │ 41      │ 0250           │ 0393               │\n",
       "│ 2   │ name     │ 2400    │ 1_fs_stress    │ xfs-490            │\n",
       "│ 3   │ result   │ 5       │ canceled       │ softfailed         │\n",
       "│ 4   │ arch     │ 4       │ aarch64        │ x86_64             │\n",
       "│ 5   │ suit     │ 22      │ (\"LTP\", \"cve\") │ (\"fstests\", \"xfs\") │\n",
       "│ 6   │ bugrefs  │ 151     │ []             │ [\"t#2009216\"]      │"
      ]
     },
     "execution_count": 23,
     "metadata": {},
     "output_type": "execute_result"
    }
   ],
   "source": [
    "describe(df, stats = [:nunique, :min, :max, :eltype])"
   ]
  },
  {
   "cell_type": "markdown",
   "metadata": {},
   "source": [
    "## Failed tests for build"
   ]
  },
  {
   "cell_type": "code",
   "execution_count": 28,
   "metadata": {},
   "outputs": [
    {
     "data": {
      "text/html": [
       "<table class=\"data-frame\"><thead><tr><th></th><th>build</th><th>name</th><th>result</th><th>arch</th><th>suit</th><th>bugrefs</th></tr></thead><tbody><tr><th>1</th><td>0393</td><td>run</td><td>failed</td><td>aarch64</td><td>(\"fstests\", \"btrfs\")</td><td>[\"poo#40205\", \"t#1977181\"]</td></tr><tr><th>2</th><td>0393</td><td>generate_report</td><td>failed</td><td>aarch64</td><td>(\"fstests\", \"btrfs\")</td><td>[\"poo#40205\", \"t#1977181\"]</td></tr><tr><th>3</th><td>0393</td><td>btrfs-078</td><td>failed</td><td>aarch64</td><td>(\"fstests\", \"btrfs\")</td><td>[]</td></tr><tr><th>4</th><td>0393</td><td>btrfs-152</td><td>failed</td><td>aarch64</td><td>(\"fstests\", \"btrfs\")</td><td>[]</td></tr><tr><th>5</th><td>0393</td><td>btrfs-159</td><td>failed</td><td>aarch64</td><td>(\"fstests\", \"btrfs\")</td><td>[]</td></tr><tr><th>6</th><td>0393</td><td>btrfs-168</td><td>failed</td><td>aarch64</td><td>(\"fstests\", \"btrfs\")</td><td>[]</td></tr><tr><th>7</th><td>0393</td><td>btrfs-170</td><td>failed</td><td>aarch64</td><td>(\"fstests\", \"btrfs\")</td><td>[]</td></tr><tr><th>8</th><td>0393</td><td>generic-122</td><td>failed</td><td>aarch64</td><td>(\"fstests\", \"btrfs\")</td><td>[]</td></tr><tr><th>9</th><td>0393</td><td>generic-136</td><td>failed</td><td>aarch64</td><td>(\"fstests\", \"btrfs\")</td><td>[]</td></tr><tr><th>10</th><td>0393</td><td>generic-175</td><td>failed</td><td>aarch64</td><td>(\"fstests\", \"btrfs\")</td><td>[]</td></tr><tr><th>11</th><td>0393</td><td>generic-297</td><td>failed</td><td>aarch64</td><td>(\"fstests\", \"btrfs\")</td><td>[]</td></tr><tr><th>12</th><td>0393</td><td>generic-298</td><td>failed</td><td>aarch64</td><td>(\"fstests\", \"btrfs\")</td><td>[]</td></tr><tr><th>13</th><td>0393</td><td>generic-371</td><td>failed</td><td>aarch64</td><td>(\"fstests\", \"btrfs\")</td><td>[]</td></tr><tr><th>14</th><td>0393</td><td>generic-405</td><td>failed</td><td>aarch64</td><td>(\"fstests\", \"btrfs\")</td><td>[]</td></tr><tr><th>15</th><td>0393</td><td>generic-427</td><td>failed</td><td>aarch64</td><td>(\"fstests\", \"btrfs\")</td><td>[]</td></tr><tr><th>16</th><td>0393</td><td>generic-475</td><td>failed</td><td>aarch64</td><td>(\"fstests\", \"btrfs\")</td><td>[]</td></tr><tr><th>17</th><td>0393</td><td>generic-483</td><td>failed</td><td>aarch64</td><td>(\"fstests\", \"btrfs\")</td><td>[]</td></tr><tr><th>18</th><td>0393</td><td>generic-484</td><td>failed</td><td>aarch64</td><td>(\"fstests\", \"btrfs\")</td><td>[]</td></tr><tr><th>19</th><td>0393</td><td>generic-488</td><td>failed</td><td>aarch64</td><td>(\"fstests\", \"btrfs\")</td><td>[]</td></tr><tr><th>20</th><td>0393</td><td>generic-498</td><td>failed</td><td>aarch64</td><td>(\"fstests\", \"btrfs\")</td><td>[]</td></tr><tr><th>21</th><td>0393</td><td>generic-501</td><td>failed</td><td>aarch64</td><td>(\"fstests\", \"btrfs\")</td><td>[]</td></tr><tr><th>22</th><td>0393</td><td>run</td><td>failed</td><td>aarch64</td><td>(\"fstests\", \"btrfs\")</td><td>[\"poo#40205\", \"t#1977186\"]</td></tr><tr><th>23</th><td>0393</td><td>generate_report</td><td>failed</td><td>aarch64</td><td>(\"fstests\", \"btrfs\")</td><td>[\"poo#40205\", \"t#1977186\"]</td></tr><tr><th>24</th><td>0393</td><td>run</td><td>failed</td><td>aarch64</td><td>(\"fstests\", \"btrfs\")</td><td>[]</td></tr><tr><th>25</th><td>0393</td><td>run</td><td>failed</td><td>aarch64</td><td>(\"fstests\", \"btrfs\")</td><td>[]</td></tr><tr><th>26</th><td>0393</td><td>generate_report</td><td>failed</td><td>aarch64</td><td>(\"fstests\", \"btrfs\")</td><td>[]</td></tr><tr><th>27</th><td>0393</td><td>run</td><td>failed</td><td>aarch64</td><td>(\"fstests\", \"btrfs\")</td><td>[]</td></tr><tr><th>28</th><td>0393</td><td>generate_report</td><td>failed</td><td>aarch64</td><td>(\"fstests\", \"xfs\")</td><td>[]</td></tr><tr><th>29</th><td>0393</td><td>run</td><td>failed</td><td>aarch64</td><td>(\"fstests\", \"xfs\")</td><td>[]</td></tr><tr><th>30</th><td>0393</td><td>generate_report</td><td>failed</td><td>aarch64</td><td>(\"fstests\", \"xfs\")</td><td>[]</td></tr><tr><th>&vellip;</th><td>&vellip;</td><td>&vellip;</td><td>&vellip;</td><td>&vellip;</td><td>&vellip;</td><td>&vellip;</td></tr></tbody></table>"
      ],
      "text/plain": [
       "116×6 DataFrame. Omitted printing of 1 columns\n",
       "│ Row │ build  │ name              │ result │ arch    │ suit                 │\n",
       "│     │ \u001b[90mString\u001b[39m │ \u001b[90mString\u001b[39m            │ \u001b[90mString\u001b[39m │ \u001b[90mString\u001b[39m  │ \u001b[90mTuple…\u001b[39m               │\n",
       "├─────┼────────┼───────────────────┼────────┼─────────┼──────────────────────┤\n",
       "│ 1   │ 0393   │ run               │ failed │ aarch64 │ (\"fstests\", \"btrfs\") │\n",
       "│ 2   │ 0393   │ generate_report   │ failed │ aarch64 │ (\"fstests\", \"btrfs\") │\n",
       "│ 3   │ 0393   │ btrfs-078         │ failed │ aarch64 │ (\"fstests\", \"btrfs\") │\n",
       "│ 4   │ 0393   │ btrfs-152         │ failed │ aarch64 │ (\"fstests\", \"btrfs\") │\n",
       "│ 5   │ 0393   │ btrfs-159         │ failed │ aarch64 │ (\"fstests\", \"btrfs\") │\n",
       "│ 6   │ 0393   │ btrfs-168         │ failed │ aarch64 │ (\"fstests\", \"btrfs\") │\n",
       "│ 7   │ 0393   │ btrfs-170         │ failed │ aarch64 │ (\"fstests\", \"btrfs\") │\n",
       "│ 8   │ 0393   │ generic-122       │ failed │ aarch64 │ (\"fstests\", \"btrfs\") │\n",
       "│ 9   │ 0393   │ generic-136       │ failed │ aarch64 │ (\"fstests\", \"btrfs\") │\n",
       "│ 10  │ 0393   │ generic-175       │ failed │ aarch64 │ (\"fstests\", \"btrfs\") │\n",
       "⋮\n",
       "│ 106 │ 0393   │ statx04           │ failed │ s390x   │ (\"LTP\", \"syscalls\")  │\n",
       "│ 107 │ 0393   │ statx05           │ failed │ s390x   │ (\"LTP\", \"syscalls\")  │\n",
       "│ 108 │ 0393   │ boot_ltp          │ failed │ x86_64  │ (\"LTP\", \"syscalls\")  │\n",
       "│ 109 │ 0393   │ boot_ltp          │ failed │ s390x   │ (\"LTP\", \"ima\")       │\n",
       "│ 110 │ 0393   │ clock_nanosleep02 │ failed │ aarch64 │ (\"LTP\", \"syscalls\")  │\n",
       "│ 111 │ 0393   │ madvise09         │ failed │ aarch64 │ (\"LTP\", \"syscalls\")  │\n",
       "│ 112 │ 0393   │ pselect01_64      │ failed │ aarch64 │ (\"LTP\", \"syscalls\")  │\n",
       "│ 113 │ 0393   │ select04          │ failed │ aarch64 │ (\"LTP\", \"syscalls\")  │\n",
       "│ 114 │ 0393   │ futex_wait05      │ failed │ aarch64 │ (\"LTP\", \"syscalls\")  │\n",
       "│ 115 │ 0393   │ statx04           │ failed │ aarch64 │ (\"LTP\", \"syscalls\")  │\n",
       "│ 116 │ 0393   │ statx04           │ failed │ x86_64  │ (\"LTP\", \"syscalls\")  │"
      ]
     },
     "execution_count": 28,
     "metadata": {},
     "output_type": "execute_result"
    }
   ],
   "source": [
    "build = \"0393\"\n",
    "\n",
    "filter(r -> r[:build] == build && r[:result] == \"failed\", df)"
   ]
  },
  {
   "cell_type": "code",
   "execution_count": null,
   "metadata": {},
   "outputs": [],
   "source": []
  }
 ],
 "metadata": {
  "kernelspec": {
   "display_name": "Julia 1.0.0",
   "language": "julia",
   "name": "julia-1.0"
  },
  "language_info": {
   "file_extension": ".jl",
   "mimetype": "application/julia",
   "name": "julia",
   "version": "1.0.0"
  }
 },
 "nbformat": 4,
 "nbformat_minor": 2
}
