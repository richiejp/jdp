{
 "cells": [
  {
   "cell_type": "markdown",
   "metadata": {},
   "source": [
    "# Bug Reference Utils\n",
    "\n",
    "Code snippets for de"
   ]
  },
  {
   "cell_type": "code",
   "execution_count": 60,
   "metadata": {},
   "outputs": [
    {
     "name": "stderr",
     "output_type": "stream",
     "text": [
      "WARNING: replacing module BugRefsParser.\n",
      "WARNING: replacing module BugRefs.\n"
     ]
    },
    {
     "data": {
      "text/plain": [
       "Main.BugRefs"
      ]
     },
     "execution_count": 60,
     "metadata": {},
     "output_type": "execute_result"
    }
   ],
   "source": [
    "include(\"BugRefsParser.jl\")\n",
    "include(\"BugRefs.jl\")"
   ]
  },
  {
   "cell_type": "markdown",
   "metadata": {},
   "source": [
    "Extract bug references from the specified string and display them as hyper links."
   ]
  },
  {
   "cell_type": "code",
   "execution_count": 61,
   "metadata": {},
   "outputs": [
    {
     "data": {
      "text/markdown": [
       "[bsc#2345](https://bugzilla.suse.com/show_bug.cgi?id=2345)\n",
       "[bsc#2345](https://bugzilla.suse.com/show_bug.cgi?id=2345)\n",
       "[poo#234566](https://progress.opensuse.org/issues/234566)\n",
       "\n"
      ],
      "text/plain": [
       "  bsc#2345 (https://bugzilla.suse.com/show_bug.cgi?id=2345)\n",
       "  bsc#2345 (https://bugzilla.suse.com/show_bug.cgi?id=2345)\n",
       "  poo#234566 (https://progress.opensuse.org/issues/234566)\n",
       "  "
      ]
     },
     "execution_count": 61,
     "metadata": {},
     "output_type": "execute_result"
    }
   ],
   "source": [
    "BugRefs.to_md(BugRefs.extract_refs(\"bsc#2345 bsc#2345 poo#234566\"))"
   ]
  }
 ],
 "metadata": {
  "kernelspec": {
   "display_name": "Julia 1.0.0",
   "language": "julia",
   "name": "julia-1.0"
  },
  "language_info": {
   "file_extension": ".jl",
   "mimetype": "application/julia",
   "name": "julia",
   "version": "1.0.0"
  }
 },
 "nbformat": 4,
 "nbformat_minor": 2
}
