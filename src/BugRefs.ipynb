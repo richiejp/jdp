{
 "cells": [
  {
   "cell_type": "markdown",
   "metadata": {},
   "source": [
    "# Bug Reference Utils\n",
    "\n",
    "Code snippets useful for working with bug references and bug trackers"
   ]
  },
  {
   "cell_type": "code",
   "execution_count": 2,
   "metadata": {},
   "outputs": [
    {
     "name": "stdout",
     "output_type": "stream",
     "text": [
      "Activating JDP package at /home/rich/julia/jdp/\n",
      "Installing project deps if necessary...\n",
      "\u001b[32m\u001b[1m  Updating\u001b[22m\u001b[39m registry at `~/.julia/registries/General`\n",
      "\u001b[32m\u001b[1m  Updating\u001b[22m\u001b[39m git-repo `https://github.com/JuliaRegistries/General.git`\n",
      "\u001b[?25l\u001b[2K\u001b[?25h"
     ]
    },
    {
     "name": "stderr",
     "output_type": "stream",
     "text": [
      "┌ Info: Recompiling stale cache file /home/rich/.julia/compiled/v1.0/JDP/uw0DL.ji for JDP [6d7e372e-c0bd-11e8-2b07-216b8359d694]\n",
      "└ @ Base loading.jl:1184\n"
     ]
    }
   ],
   "source": [
    "include(\"install.jl\") # Configure and install (if necessary) the project\n",
    "\n",
    "import JDP.BugRefs\n",
    "import JDP.Bugzilla"
   ]
  },
  {
   "cell_type": "markdown",
   "metadata": {},
   "source": [
    "Extract bug references from the specified string and display them as hyper links."
   ]
  },
  {
   "cell_type": "code",
   "execution_count": 62,
   "metadata": {},
   "outputs": [
    {
     "data": {
      "text/markdown": [
       "[bsc#1111458](https://bugzilla.suse.com/show_bug.cgi?id=1111458)\n",
       "[bsc#1111464](https://bugzilla.suse.com/show_bug.cgi?id=1111464)\n",
       "[bsc#1111466](https://bugzilla.suse.com/show_bug.cgi?id=1111466)\n",
       "[bsc#1111469](https://bugzilla.suse.com/show_bug.cgi?id=1111469)\n",
       "\n"
      ],
      "text/plain": [
       "  bsc#1111458 (https://bugzilla.suse.com/show_bug.cgi?id=1111458)\n",
       "  bsc#1111464 (https://bugzilla.suse.com/show_bug.cgi?id=1111464)\n",
       "  bsc#1111466 (https://bugzilla.suse.com/show_bug.cgi?id=1111466)\n",
       "  bsc#1111469 (https://bugzilla.suse.com/show_bug.cgi?id=1111469)\n",
       "  "
      ]
     },
     "execution_count": 62,
     "metadata": {},
     "output_type": "execute_result"
    }
   ],
   "source": [
    "BugRefs.to_md(BugRefs.extract_refs(\"bsc#1111458 bsc#1111464 bsc#1111466\n",
    "       bsc#1111469\"))"
   ]
  },
  {
   "cell_type": "code",
   "execution_count": 4,
   "metadata": {},
   "outputs": [
    {
     "name": "stdout",
     "output_type": "stream",
     "text": [
      "User Name: rpalethorpe\n",
      "Password: ········\n"
     ]
    }
   ],
   "source": [
    "ses = Bugzilla.login(\"bsc\");"
   ]
  },
  {
   "cell_type": "code",
   "execution_count": 5,
   "metadata": {
    "scrolled": false
   },
   "outputs": [
    {
     "data": {
      "text/plain": [
       "Dict{Union{String, Symbol},Any} with 40 entries:\n",
       "  \"rep_platform\"           => \"All\"\n",
       "  \"bug_severity\"           => \"Normal\"\n",
       "  \"cclist_accessible\"      => \"1\"\n",
       "  \"bug_status\"             => \"NEW\"\n",
       "  \"cf_nts_priority\"        => SubString{String}[\"\", \"\"]\n",
       "  \"classification_id\"      => \"27\"\n",
       "  \"reporter_accessible\"    => \"1\"\n",
       "  \"bug_id\"                 => \"1111458\"\n",
       "  \"keywords\"               => \"\"\n",
       "  \"cf_marketing_qa_status\" => \"---\"\n",
       "  \"cf_it_deployment\"       => \"---\"\n",
       "  \"estimated_time\"         => \"0.00\"\n",
       "  \"classification\"         => \"SUSE Linux Enterprise Server\"\n",
       "  \"priority\"               => \"P3 - Medium\"\n",
       "  \"short_desc\"             => \"generic/405 test fails with /dev/mapper/thin-vol…\n",
       "  \"cf_foundby\"             => SubString{String}[\"---\", \"---\"]\n",
       "  \"creation_ts\"            => \"2018-10-11 03:25:00 +0000\"\n",
       "  \"assigned_to\"            => EzXML.Node(<ELEMENT_NODE@0x0000000005778710>)\n",
       "  \"op_sys\"                 => \"SLES 12\"\n",
       "  \"version\"                => \"RC 2\"\n",
       "  \"qa_contact\"             => EzXML.Node(<ELEMENT_NODE@0x00000000056895f0>)\n",
       "  \"resolution\"             => \"\"\n",
       "  \"remaining_time\"         => \"0.00\"\n",
       "  \"status_whiteboard\"      => \"\"\n",
       "  \"delta_ts\"               => \"2018-10-11 16:02:33 +0000\"\n",
       "  ⋮                        => ⋮"
      ]
     },
     "execution_count": 5,
     "metadata": {},
     "output_type": "execute_result"
    }
   ],
   "source": [
    "bug = Bugzilla.get_bug(ses, 1111458)"
   ]
  },
  {
   "cell_type": "code",
   "execution_count": 6,
   "metadata": {},
   "outputs": [
    {
     "data": {
      "text/markdown": [
       "**P3 - Medium**(*Normal*) NEW: generic/405 test fails with /dev/mapper/thin-vol is inconsistent on btrfs\n"
      ],
      "text/plain": [
       "  \u001b[1mP3 - Medium\u001b[22m(\u001b[4mNormal\u001b[24m) NEW: generic/405 test fails with /dev/mapper/thin-vol is\n",
       "  inconsistent on btrfs"
      ]
     },
     "execution_count": 6,
     "metadata": {},
     "output_type": "execute_result"
    }
   ],
   "source": [
    "md = Bugzilla.to_md(bug)"
   ]
  }
 ],
 "metadata": {
  "kernelspec": {
   "display_name": "Julia 1.0.0",
   "language": "julia",
   "name": "julia-1.0"
  },
  "language_info": {
   "file_extension": ".jl",
   "mimetype": "application/julia",
   "name": "julia",
   "version": "1.0.0"
  }
 },
 "nbformat": 4,
 "nbformat_minor": 2
}
