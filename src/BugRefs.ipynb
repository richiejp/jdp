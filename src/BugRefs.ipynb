{
 "cells": [
  {
   "cell_type": "markdown",
   "metadata": {},
   "source": [
    "# Bug Reference Utils\n",
    "\n",
    "Code snippets useful for working with bug references and bug trackers"
   ]
  },
  {
   "cell_type": "code",
   "execution_count": 60,
   "metadata": {
    "collapsed": true
   },
   "outputs": [
    {
     "name": "stderr",
     "output_type": "stream",
     "text": [
      "WARNING: replacing module BugRefsParser.\n",
      "WARNING: replacing module BugRefs.\n"
     ]
    },
    {
     "data": {
      "text/plain": [
       "Main.BugRefs"
      ]
     },
     "execution_count": 60,
     "metadata": {},
     "output_type": "execute_result"
    }
   ],
   "source": [
    "include(\"BugRefsParser.jl\")\n",
    "include(\"BugRefs.jl\")"
   ]
  },
  {
   "cell_type": "markdown",
   "metadata": {},
   "source": [
    "Extract bug references from the specified string and display them as hyper links."
   ]
  },
  {
   "cell_type": "code",
   "execution_count": 62,
   "metadata": {},
   "outputs": [
    {
     "data": {
      "text/markdown": [
       "[bsc#1111458](https://bugzilla.suse.com/show_bug.cgi?id=1111458)\n",
       "[bsc#1111464](https://bugzilla.suse.com/show_bug.cgi?id=1111464)\n",
       "[bsc#1111466](https://bugzilla.suse.com/show_bug.cgi?id=1111466)\n",
       "[bsc#1111469](https://bugzilla.suse.com/show_bug.cgi?id=1111469)\n",
       "\n"
      ],
      "text/plain": [
       "  bsc#1111458 (https://bugzilla.suse.com/show_bug.cgi?id=1111458)\n",
       "  bsc#1111464 (https://bugzilla.suse.com/show_bug.cgi?id=1111464)\n",
       "  bsc#1111466 (https://bugzilla.suse.com/show_bug.cgi?id=1111466)\n",
       "  bsc#1111469 (https://bugzilla.suse.com/show_bug.cgi?id=1111469)\n",
       "  "
      ]
     },
     "execution_count": 62,
     "metadata": {},
     "output_type": "execute_result"
    }
   ],
   "source": [
    "BugRefs.to_md(BugRefs.extract_refs(\"bsc#1111458 bsc#1111464 bsc#1111466\n",
    "       bsc#1111469\"))"
   ]
  },
  {
   "cell_type": "code",
   "execution_count": 71,
   "metadata": {},
   "outputs": [
    {
     "name": "stderr",
     "output_type": "stream",
     "text": [
      "WARNING: replacing module Bugzilla.\n"
     ]
    },
    {
     "data": {
      "text/plain": [
       "Main.Bugzilla"
      ]
     },
     "execution_count": 71,
     "metadata": {},
     "output_type": "execute_result"
    }
   ],
   "source": [
    "include(\"Bugzilla.jl\")"
   ]
  },
  {
   "cell_type": "code",
   "execution_count": 73,
   "metadata": {},
   "outputs": [
    {
     "data": {
      "text/plain": [
       "Dict{Union{String, Symbol},Any} with 4 entries:\n",
       "  :version    => \"4.4.12\"\n",
       "  :urlbase    => \"http://bugzilla.suse.com/\"\n",
       "  :maintainer => \"novbugzilla-dev@forge.provo.novell.com\"\n",
       "  \"bug\"       => EzXML.Node(<ELEMENT_NODE@0x0000000002d49600>)"
      ]
     },
     "execution_count": 73,
     "metadata": {},
     "output_type": "execute_result"
    }
   ],
   "source": [
    "bug = Bugzilla.get_bug(Bugzilla.bsc, 1111458)"
   ]
  },
  {
   "cell_type": "code",
   "execution_count": 74,
   "metadata": {},
   "outputs": [
    {
     "data": {
      "text/plain": [
       "XMLDict.XMLDictElement with 2 entries:\n",
       "  \"bug_id\" => \"1111458\"\n",
       "  :error   => \"NotPermitted\""
      ]
     },
     "execution_count": 74,
     "metadata": {},
     "output_type": "execute_result"
    }
   ],
   "source": [
    "bug[\"bug\"]"
   ]
  },
  {
   "cell_type": "code",
   "execution_count": null,
   "metadata": {},
   "outputs": [],
   "source": []
  }
 ],
 "metadata": {
  "kernelspec": {
   "display_name": "Julia 1.0.0",
   "language": "julia",
   "name": "julia-1.0"
  },
  "language_info": {
   "file_extension": ".jl",
   "mimetype": "application/julia",
   "name": "julia",
   "version": "1.0.0"
  }
 },
 "nbformat": 4,
 "nbformat_minor": 2
}
