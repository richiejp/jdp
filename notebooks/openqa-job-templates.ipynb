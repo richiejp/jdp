{
 "cells": [
  {
   "cell_type": "markdown",
   "metadata": {
    "ein.tags": "worksheet-0",
    "slideshow": {
     "slide_type": "-"
    }
   },
   "source": [
    "# OpenQA Job Template Helper\n",
    "\n",
    "This notebook helps with doing bulk operations on OpenQA job templates such as copying or moving the contents of a job group."
   ]
  },
  {
   "cell_type": "code",
   "execution_count": 1,
   "metadata": {
    "autoscroll": false,
    "ein.hycell": false,
    "ein.tags": "worksheet-0",
    "slideshow": {
     "slide_type": "-"
    }
   },
   "outputs": [
    {
     "name": "stderr",
     "output_type": "stream",
     "text": [
      "┌ Info: Activating JDP package at /home/rich/julia/jdp/\n",
      "└ @ Main /home/rich/julia/jdp/src/init.jl:5\n",
      "┌ Info: Precompiling JDP [6d7e372e-c0bd-11e8-2b07-216b8359d694]\n",
      "└ @ Base loading.jl:1186\n"
     ]
    }
   ],
   "source": [
    "include(\"../src/init.jl\")\n",
    "\n",
    "using JDP.Trackers.OpenQA"
   ]
  },
  {
   "cell_type": "markdown",
   "metadata": {
    "ein.tags": "worksheet-0",
    "slideshow": {
     "slide_type": "-"
    }
   },
   "source": [
    "## Product defs map\n",
    "\n",
    "Create a product definition map for the different architectures. Make sure to set the desired product version."
   ]
  },
  {
   "cell_type": "code",
   "execution_count": null,
   "metadata": {
    "autoscroll": false,
    "ein.hycell": false,
    "ein.tags": "worksheet-0",
    "slideshow": {
     "slide_type": "-"
    }
   },
   "outputs": [],
   "source": [
    "prods = OpenQA.get_json(OpenQA.osd, \"products\")[\"Products\"]\n",
    "prods[1]"
   ]
  },
  {
   "cell_type": "code",
   "execution_count": null,
   "metadata": {
    "autoscroll": false,
    "ein.hycell": false,
    "ein.tags": "worksheet-0",
    "slideshow": {
     "slide_type": "-"
    }
   },
   "outputs": [],
   "source": [
    "aprods = map(filter(prods) do p\n",
    "        p[\"flavor\"] == \"Installer-DVD\" && p[\"distri\"] == \"sle\" && p[\"version\"] == \"15-SP1\"\n",
    "    end) do p\n",
    "        p[\"arch\"] => p[\"id\"]\n",
    "    end |> Dict"
   ]
  },
  {
   "cell_type": "code",
   "execution_count": 3,
   "metadata": {
    "autoscroll": false,
    "ein.hycell": false,
    "ein.tags": "worksheet-0",
    "slideshow": {
     "slide_type": "-"
    }
   },
   "outputs": [
    {
     "ename": "HTTP.ExceptionRequest.StatusError",
     "evalue": "HTTP.ExceptionRequest.StatusError(502, HTTP.Messages.Response:\n\"\"\"\nHTTP/1.1 502 Bad Gateway\r\nDate: Tue, 27 Nov 2018 10:52:10 GMT\r\nServer: Apache/2.4.23 (Linux/SUSE)\r\nVary: accept-language,accept-charset\r\nAccept-Ranges: bytes\r\nTransfer-Encoding: chunked\r\nContent-Type: text/html; charset=utf-8\r\nContent-Language: en\r\n\r\n<?xml version=\"1.0\" encoding=\"UTF-8\"?>\n<!DOCTYPE html PUBLIC \"-//W3C//DTD XHTML 1.0 Strict//EN\"\n  \"http://www.w3.org/TR/xhtml1/DTD/xhtml1-strict.dtd\">\n<html xmlns=\"http://www.w3.org/1999/xhtml\" lang=\"en\" xml:lang=\"en\">\n<head>\n<title>Bad Gateway!</title>\n<link rev=\"made\" href=\"mailto:%5bno%20address%20given%5d\" />\n<style type=\"text/css\"><!--/*--><![CDATA[/*><!--*/ \n    body { color: #000000; background-color: #FFFFFF; }\n    a:link { color: #0000CC; }\n    p, address {margin-left: 3em;}\n    span {font-size: smaller;}\n/*]]>*/--></style>\n</head>\n\n<body>\n<h1>Bad Gateway!</h1>\n<p>\n\n\n    The proxy server received an invalid\n    response from an upstream server.\n\n  \n    </p>\n<p>\n\n    The proxy server could not handle the request <em><a href=\"/api/v1/jobs\">GET&nbsp;/api/v1/jobs</a></em>.<p>\nReason: <strong>Error reading from remote server</strong></p>\n  \n    \n</p>\n<p>\nIf you think this is a server error, please contact\nthe <a href=\"mailto:%5bno%20address%20given%5d\">webmaster</a>.\n\n</p>\n\n<h2>Err\n⋮\n1131-byte body\n\"\"\")",
     "output_type": "error",
     "traceback": [
      "HTTP.ExceptionRequest.StatusError(502, HTTP.Messages.Response:\n\"\"\"\nHTTP/1.1 502 Bad Gateway\r\nDate: Tue, 27 Nov 2018 10:52:10 GMT\r\nServer: Apache/2.4.23 (Linux/SUSE)\r\nVary: accept-language,accept-charset\r\nAccept-Ranges: bytes\r\nTransfer-Encoding: chunked\r\nContent-Type: text/html; charset=utf-8\r\nContent-Language: en\r\n\r\n<?xml version=\"1.0\" encoding=\"UTF-8\"?>\n<!DOCTYPE html PUBLIC \"-//W3C//DTD XHTML 1.0 Strict//EN\"\n  \"http://www.w3.org/TR/xhtml1/DTD/xhtml1-strict.dtd\">\n<html xmlns=\"http://www.w3.org/1999/xhtml\" lang=\"en\" xml:lang=\"en\">\n<head>\n<title>Bad Gateway!</title>\n<link rev=\"made\" href=\"mailto:%5bno%20address%20given%5d\" />\n<style type=\"text/css\"><!--/*--><![CDATA[/*><!--*/ \n    body { color: #000000; background-color: #FFFFFF; }\n    a:link { color: #0000CC; }\n    p, address {margin-left: 3em;}\n    span {font-size: smaller;}\n/*]]>*/--></style>\n</head>\n\n<body>\n<h1>Bad Gateway!</h1>\n<p>\n\n\n    The proxy server received an invalid\n    response from an upstream server.\n\n  \n    </p>\n<p>\n\n    The proxy server could not handle the request <em><a href=\"/api/v1/jobs\">GET&nbsp;/api/v1/jobs</a></em>.<p>\nReason: <strong>Error reading from remote server</strong></p>\n  \n    \n</p>\n<p>\nIf you think this is a server error, please contact\nthe <a href=\"mailto:%5bno%20address%20given%5d\">webmaster</a>.\n\n</p>\n\n<h2>Err\n⋮\n1131-byte body\n\"\"\")",
      "",
      "Stacktrace:",
      " [1] #request#1 at /home/rich/.julia/packages/HTTP/YjRCz/src/ExceptionRequest.jl:22 [inlined]",
      " [2] (::getfield(HTTP, Symbol(\"#kw##request\")))(::NamedTuple{(:iofunction, :status_exception, :sslconfig),Tuple{Nothing,Bool,MbedTLS.SSLConfig}}, ::typeof(HTTP.request), ::Type{HTTP.ExceptionRequest.ExceptionLayer{HTTP.ConnectionRequest.ConnectionPoolLayer{HTTP.StreamRequest.StreamLayer}}}, ::HTTP.URIs.URI, ::HTTP.Messages.Request, ::Array{UInt8,1}) at ./none:0",
      " [3] (::getfield(Base, Symbol(\"###44#45#46\")){ExponentialBackOff,getfield(HTTP.RetryRequest, Symbol(\"##2#3\")){Bool,HTTP.Messages.Request},typeof(HTTP.request)})(::Base.Iterators.Pairs{Symbol,Any,Tuple{Symbol,Symbol,Symbol},NamedTuple{(:iofunction, :status_exception, :sslconfig),Tuple{Nothing,Bool,MbedTLS.SSLConfig}}}, ::Function, ::Type, ::Vararg{Any,N} where N) at ./error.jl:216",
      " [4] ##44#47 at ./none:0 [inlined]",
      " [5] #request#1(::Int64, ::Bool, ::Base.Iterators.Pairs{Symbol,Any,Tuple{Symbol,Symbol,Symbol},NamedTuple{(:iofunction, :status_exception, :sslconfig),Tuple{Nothing,Bool,MbedTLS.SSLConfig}}}, ::Function, ::Type{HTTP.RetryRequest.RetryLayer{HTTP.ExceptionRequest.ExceptionLayer{HTTP.ConnectionRequest.ConnectionPoolLayer{HTTP.StreamRequest.StreamLayer}}}}, ::HTTP.URIs.URI, ::HTTP.Messages.Request, ::Array{UInt8,1}) at /home/rich/.julia/packages/HTTP/YjRCz/src/RetryRequest.jl:44",
      " [6] #request#1(::VersionNumber, ::String, ::Nothing, ::Nothing, ::Base.Iterators.Pairs{Symbol,Any,Tuple{Symbol,Symbol},NamedTuple{(:status_exception, :sslconfig),Tuple{Bool,MbedTLS.SSLConfig}}}, ::Function, ::Type{HTTP.MessageRequest.MessageLayer{HTTP.RetryRequest.RetryLayer{HTTP.ExceptionRequest.ExceptionLayer{HTTP.ConnectionRequest.ConnectionPoolLayer{HTTP.StreamRequest.StreamLayer}}}}}, ::String, ::HTTP.URIs.URI, ::Array{Pair{SubString{String},SubString{String}},1}, ::Array{UInt8,1}) at ./none:0",
      " [7] (::getfield(HTTP, Symbol(\"#kw##request\")))(::NamedTuple{(:status_exception, :sslconfig),Tuple{Bool,MbedTLS.SSLConfig}}, ::typeof(HTTP.request), ::Type{HTTP.MessageRequest.MessageLayer{HTTP.RetryRequest.RetryLayer{HTTP.ExceptionRequest.ExceptionLayer{HTTP.ConnectionRequest.ConnectionPoolLayer{HTTP.StreamRequest.StreamLayer}}}}}, ::String, ::HTTP.URIs.URI, ::Array{Pair{SubString{String},SubString{String}},1}, ::Array{UInt8,1}) at ./none:0",
      " [8] #request#1(::Int64, ::Bool, ::Base.Iterators.Pairs{Symbol,Any,Tuple{Symbol,Symbol},NamedTuple{(:status_exception, :sslconfig),Tuple{Bool,MbedTLS.SSLConfig}}}, ::Function, ::Type{HTTP.RedirectRequest.RedirectLayer{HTTP.MessageRequest.MessageLayer{HTTP.RetryRequest.RetryLayer{HTTP.ExceptionRequest.ExceptionLayer{HTTP.ConnectionRequest.ConnectionPoolLayer{HTTP.StreamRequest.StreamLayer}}}}}}, ::String, ::HTTP.URIs.URI, ::Array{Pair{SubString{String},SubString{String}},1}, ::Array{UInt8,1}) at /home/rich/.julia/packages/HTTP/YjRCz/src/RedirectRequest.jl:24",
      " [9] (::getfield(HTTP, Symbol(\"#kw##request\")))(::NamedTuple{(:status_exception, :sslconfig),Tuple{Bool,MbedTLS.SSLConfig}}, ::typeof(HTTP.request), ::Type{HTTP.RedirectRequest.RedirectLayer{HTTP.MessageRequest.MessageLayer{HTTP.RetryRequest.RetryLayer{HTTP.ExceptionRequest.ExceptionLayer{HTTP.ConnectionRequest.ConnectionPoolLayer{HTTP.StreamRequest.StreamLayer}}}}}}, ::String, ::HTTP.URIs.URI, ::Array{Pair{SubString{String},SubString{String}},1}, ::Array{UInt8,1}) at ./none:0",
      " [10] #request#3(::Base.Iterators.Pairs{Symbol,Any,Tuple{Symbol,Symbol},NamedTuple{(:status_exception, :sslconfig),Tuple{Bool,MbedTLS.SSLConfig}}}, ::Function, ::String, ::HTTP.URIs.URI, ::Array{Pair{SubString{String},SubString{String}},1}, ::Array{UInt8,1}) at /home/rich/.julia/packages/HTTP/YjRCz/src/HTTP.jl:302",
      " [11] #request at ./none:0 [inlined]",
      " [12] #request#4 at /home/rich/.julia/packages/HTTP/YjRCz/src/HTTP.jl:316 [inlined]",
      " [13] #request at ./none:0 [inlined] (repeats 2 times)",
      " [14] #get#6 at /home/rich/.julia/packages/HTTP/YjRCz/src/HTTP.jl:349 [inlined]",
      " [15] #get at ./none:0 [inlined]",
      " [16] get_json(::JDP.Trackers.OpenQA.Session, ::String) at /home/rich/julia/jdp/src/trackers/OpenQA.jl:32",
      " [17] top-level scope at In[3]:1"
     ]
    }
   ],
   "source": [
    "jobids = OpenQA.get_json(OpenQA.osd, \"jobs?group_id=155\")"
   ]
  },
  {
   "cell_type": "markdown",
   "metadata": {
    "ein.tags": "worksheet-0",
    "slideshow": {
     "slide_type": "-"
    }
   },
   "source": [
    "## Job template definitions\n",
    "\n",
    "Get the current definitions, filter them and map them to a tuple of new templates (but don't actually sumbit them yet to OpenQA)."
   ]
  },
  {
   "cell_type": "code",
   "execution_count": null,
   "metadata": {
    "autoscroll": false,
    "ein.hycell": false,
    "ein.tags": "worksheet-0",
    "scrolled": true,
    "slideshow": {
     "slide_type": "-"
    }
   },
   "outputs": [],
   "source": [
    "jobs = OpenQA.get_json(OpenQA.osd, \"job_templates?group_id=155\")[\"JobTemplates\"]\n",
    "jobs[1]"
   ]
  },
  {
   "cell_type": "code",
   "execution_count": 51,
   "metadata": {
    "autoscroll": false,
    "ein.hycell": false,
    "ein.tags": "worksheet-0",
    "scrolled": true,
    "slideshow": {
     "slide_type": "-"
    }
   },
   "outputs": [
    {
     "data": {
      "text/plain": [
       "Dict{String,Any} with 6 entries:\n",
       "  \"group_name\" => \"x-released SLE 11 SP4 4.Test Development\"\n",
       "  \"prio\"       => 50\n",
       "  \"id\"         => 6613\n",
       "  \"test_suite\" => Dict{String,Any}(\"name\"=>\"autoinst\",\"id\"=>1650)\n",
       "  \"machine\"    => Dict{String,Any}(\"name\"=>\"ppc64\",\"id\"=>64)\n",
       "  \"product\"    => Dict{String,Any}(\"arch\"=>\"ppc64\",\"flavor\"=>\"Server-DVD\",\"dist…"
      ]
     },
     "execution_count": 51,
     "metadata": {},
     "output_type": "execute_result"
    }
   ],
   "source": [
    "jobs = OpenQA.get_json(OpenQA.osd, \"job_templates\")[\"JobTemplates\"]\n",
    "jobs[1]"
   ]
  },
  {
   "cell_type": "code",
   "execution_count": 55,
   "metadata": {
    "autoscroll": false,
    "ein.hycell": false,
    "ein.tags": "worksheet-0",
    "slideshow": {
     "slide_type": "-"
    }
   },
   "outputs": [
    {
     "data": {
      "text/plain": [
       "0-element Array{Any,1}"
      ]
     },
     "execution_count": 55,
     "metadata": {},
     "output_type": "execute_result"
    }
   ],
   "source": [
    "spvmjobs = filter(jobs) do j\n",
    "    j[\"machine\"][\"name\"] == \"ppc64le-pvm\"\n",
    "end"
   ]
  },
  {
   "cell_type": "code",
   "execution_count": 53,
   "metadata": {
    "autoscroll": false,
    "ein.hycell": false,
    "ein.tags": "worksheet-0",
    "slideshow": {
     "slide_type": "-"
    }
   },
   "outputs": [
    {
     "data": {
      "text/plain": [
       "Dict{String,Any} with 6 entries:\n",
       "  \"group_name\" => \"Functional: Server\"\n",
       "  \"prio\"       => 30\n",
       "  \"id\"         => 14621\n",
       "  \"test_suite\" => Dict{String,Any}(\"name\"=>\"textmode\",\"id\"=>1678)\n",
       "  \"machine\"    => Dict{String,Any}(\"name\"=>\"ppc64le-spvm\",\"id\"=>115)\n",
       "  \"product\"    => Dict{String,Any}(\"arch\"=>\"ppc64le\",\"flavor\"=>\"Server-DVD\",\"di…"
      ]
     },
     "metadata": {},
     "output_type": "display_data"
    },
    {
     "data": {
      "text/plain": [
       "Dict{String,Any} with 6 entries:\n",
       "  \"group_name\" => \"Functional\"\n",
       "  \"prio\"       => 30\n",
       "  \"id\"         => 15876\n",
       "  \"test_suite\" => Dict{String,Any}(\"name\"=>\"textmode\",\"id\"=>1678)\n",
       "  \"machine\"    => Dict{String,Any}(\"name\"=>\"ppc64le-spvm\",\"id\"=>115)\n",
       "  \"product\"    => Dict{String,Any}(\"arch\"=>\"ppc64le\",\"flavor\"=>\"Installer-DVD\",…"
      ]
     },
     "metadata": {},
     "output_type": "display_data"
    }
   ],
   "source": [
    "foreach(display, spvmjobs)"
   ]
  },
  {
   "cell_type": "code",
   "execution_count": 54,
   "metadata": {
    "autoscroll": false,
    "ein.hycell": false,
    "ein.tags": "worksheet-0",
    "slideshow": {
     "slide_type": "-"
    }
   },
   "outputs": [
    {
     "data": {
      "text/plain": [
       "Dict{String,Any} with 6 entries:\n",
       "  \"arch\"    => \"ppc64le\"\n",
       "  \"flavor\"  => \"Server-DVD\"\n",
       "  \"distri\"  => \"sle\"\n",
       "  \"id\"      => 397\n",
       "  \"group\"   => \"sle-12-SP4-Server-DVD\"\n",
       "  \"version\" => \"12-SP4\""
      ]
     },
     "execution_count": 54,
     "metadata": {},
     "output_type": "execute_result"
    }
   ],
   "source": [
    "spvmjobs[1][\"product\"]"
   ]
  },
  {
   "cell_type": "code",
   "execution_count": null,
   "metadata": {
    "autoscroll": false,
    "ein.hycell": false,
    "ein.tags": "worksheet-0",
    "slideshow": {
     "slide_type": "-"
    }
   },
   "outputs": [],
   "source": [
    "nujobs = map(filter(jobs) do j\n",
    "    startswith(j[\"test_suite\"][\"name\"], \"xfstests\")      \n",
    "end) do j\n",
    "    (id = j[\"id\"],\n",
    "     product_id = aprods[j[\"product\"][\"arch\"]],\n",
    "     machine_id = j[\"machine\"][\"id\"],\n",
    "     test_suite_id = j[\"test_suite\"][\"id\"],\n",
    "     name = j[\"test_suite\"][\"name\"])\n",
    "end"
   ]
  },
  {
   "cell_type": "markdown",
   "metadata": {
    "ein.tags": "worksheet-0",
    "slideshow": {
     "slide_type": "-"
    }
   },
   "source": [
    "## Sumbitting changes\n",
    "\n",
    "Send the changes to OpenQA"
   ]
  },
  {
   "cell_type": "code",
   "execution_count": null,
   "metadata": {
    "autoscroll": false,
    "ein.hycell": false,
    "ein.tags": "worksheet-0",
    "slideshow": {
     "slide_type": "-"
    }
   },
   "outputs": [],
   "source": [
    "client_script = `openqa-client --host openqa.suse.de --apikey C6C16EEAC002010A --apisecret A411FEDE926A5A9A`"
   ]
  },
  {
   "cell_type": "markdown",
   "metadata": {
    "ein.tags": "worksheet-0",
    "slideshow": {
     "slide_type": "-"
    }
   },
   "source": [
    "Delete the templates we queried earlier"
   ]
  },
  {
   "cell_type": "code",
   "execution_count": null,
   "metadata": {
    "autoscroll": false,
    "ein.hycell": false,
    "ein.tags": "worksheet-0",
    "slideshow": {
     "slide_type": "-"
    }
   },
   "outputs": [],
   "source": [
    "fails = []\n",
    "\n",
    "for j in nujobs\n",
    "    try\n",
    "        run(`$client_script job_templates/$(j.id) delete`)\n",
    "    catch e\n",
    "        push!(fails, (error = e, job = j))\n",
    "    end\n",
    "end"
   ]
  },
  {
   "cell_type": "markdown",
   "metadata": {
    "ein.tags": "worksheet-0",
    "slideshow": {
     "slide_type": "-"
    }
   },
   "source": [
    "Create new templates from what we queried earlier"
   ]
  },
  {
   "cell_type": "code",
   "execution_count": null,
   "metadata": {
    "autoscroll": false,
    "ein.hycell": false,
    "ein.tags": "worksheet-0",
    "slideshow": {
     "slide_type": "-"
    }
   },
   "outputs": [],
   "source": [
    "fails = []\n",
    "\n",
    "for j in nujobs\n",
    "    try\n",
    "        run(`$client_script job_templates post product_id=$(j.product_id) machine_id=$(j.machine_id) test_suite_id=$(j.test_suite_id) group_id=116`)\n",
    "    catch e\n",
    "        push!(fails, (error = e, job = j))\n",
    "    end\n",
    "end"
   ]
  },
  {
   "cell_type": "markdown",
   "metadata": {
    "ein.tags": "worksheet-0",
    "slideshow": {
     "slide_type": "-"
    }
   },
   "source": [
    "If there were failures then we can try to find out why. Usually it is because some test suite is already being run for a particular product, but in a different group."
   ]
  },
  {
   "cell_type": "code",
   "execution_count": null,
   "metadata": {
    "autoscroll": false,
    "ein.hycell": false,
    "ein.tags": "worksheet-0",
    "scrolled": true,
    "slideshow": {
     "slide_type": "-"
    }
   },
   "outputs": [],
   "source": [
    "ftemplates = map(fails) do f\n",
    "    jid = f.job.test_suite_id\n",
    "    OpenQA.get_json(OpenQA.osd, \"job_templates?test_suite_id=$jid\")[\"JobTemplates\"]\n",
    "end"
   ]
  },
  {
   "cell_type": "code",
   "execution_count": null,
   "metadata": {
    "autoscroll": false,
    "ein.hycell": false,
    "ein.tags": "worksheet-0",
    "scrolled": false,
    "slideshow": {
     "slide_type": "-"
    }
   },
   "outputs": [],
   "source": [
    "for f in ftemplates\n",
    "    println(f[1][\"test_suite\"][\"name\"], \" => \")\n",
    "    for ff in f\n",
    "        if ff[\"product\"][\"version\"] == \"15-SP1\"\n",
    "            println(\"\\t\", ff[\"group_name\"])\n",
    "        end\n",
    "    end\n",
    "end\n",
    "    "
   ]
  }
 ],
 "metadata": {
  "kernelspec": {
   "display_name": "Julia 1.0.1",
   "language": "julia",
   "name": "julia-1.0"
  },
  "language_info": {
   "file_extension": ".jl",
   "mimetype": "application/julia",
   "name": "julia",
   "version": "1.0.1"
  },
  "name": "openqa-job-templates.ipynb"
 },
 "nbformat": 4,
 "nbformat_minor": 2
}
