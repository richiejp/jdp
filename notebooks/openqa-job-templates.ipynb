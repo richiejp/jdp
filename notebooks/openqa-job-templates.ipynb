{
 "cells": [
  {
   "cell_type": "markdown",
   "metadata": {},
   "source": [
    "# OpenQA Job Template Helper\n",
    "\n",
    "This notebook helps with doing bulk operations on OpenQA job templates such as copying or moving the contents of a job group."
   ]
  },
  {
   "cell_type": "code",
   "execution_count": null,
   "metadata": {},
   "outputs": [],
   "source": [
    "include(\"../src/init.jl\")\n",
    "\n",
    "using JDP.Trackers.OpenQA"
   ]
  },
  {
   "cell_type": "markdown",
   "metadata": {},
   "source": [
    "## Product defs map\n",
    "\n",
    "Creat a product definition map for the different architectures. Make sure to set the desired product version."
   ]
  },
  {
   "cell_type": "code",
   "execution_count": null,
   "metadata": {},
   "outputs": [],
   "source": [
    "prods = OpenQA.get_json(OpenQA.osd, \"products\")[\"Products\"]\n",
    "prods[1]"
   ]
  },
  {
   "cell_type": "code",
   "execution_count": null,
   "metadata": {},
   "outputs": [],
   "source": [
    "aprods = map(filter(prods) do p\n",
    "        p[\"flavor\"] == \"Installer-DVD\" && p[\"distri\"] == \"sle\" && p[\"version\"] == \"15-SP1\"\n",
    "    end) do p\n",
    "        p[\"arch\"] => p[\"id\"]\n",
    "    end |> Dict"
   ]
  },
  {
   "cell_type": "markdown",
   "metadata": {},
   "source": [
    "## Job template definitions\n",
    "\n",
    "Get the current definitions, filter them and map them to a tuple of new templates (but don't actually sumbit them yet to OpenQA)."
   ]
  },
  {
   "cell_type": "code",
   "execution_count": null,
   "metadata": {
    "scrolled": true
   },
   "outputs": [],
   "source": [
    "jobs = OpenQA.get_json(OpenQA.osd, \"job_templates?group_id=155\")[\"JobTemplates\"]\n",
    "jobs[1]"
   ]
  },
  {
   "cell_type": "code",
   "execution_count": null,
   "metadata": {},
   "outputs": [],
   "source": [
    "nujobs = map(filter(jobs) do j\n",
    "    startswith(j[\"test_suite\"][\"name\"], \"xfstests\")      \n",
    "end) do j\n",
    "    (id = j[\"id\"],\n",
    "     product_id = aprods[j[\"product\"][\"arch\"]],\n",
    "     machine_id = j[\"machine\"][\"id\"],\n",
    "     test_suite_id = j[\"test_suite\"][\"id\"],\n",
    "     name = j[\"test_suite\"][\"name\"])\n",
    "end"
   ]
  },
  {
   "cell_type": "markdown",
   "metadata": {},
   "source": [
    "## Sumbitting changes\n",
    "\n",
    "Send the changes to OpenQA"
   ]
  },
  {
   "cell_type": "code",
   "execution_count": null,
   "metadata": {},
   "outputs": [],
   "source": [
    "client_script = `openqa-client --host openqa.suse.de --apikey C6C16EEAC002010A --apisecret A411FEDE926A5A9A`"
   ]
  },
  {
   "cell_type": "markdown",
   "metadata": {},
   "source": [
    "Delete the templates we queried earlier"
   ]
  },
  {
   "cell_type": "code",
   "execution_count": null,
   "metadata": {},
   "outputs": [],
   "source": [
    "fails = []\n",
    "\n",
    "for j in nujobs\n",
    "    try\n",
    "        run(`$client_script job_templates/$(j.id) delete`)\n",
    "    catch e\n",
    "        push!(fails, (error = e, job = j))\n",
    "    end\n",
    "end"
   ]
  },
  {
   "cell_type": "markdown",
   "metadata": {},
   "source": [
    "Create new templates from what we queried earlier"
   ]
  },
  {
   "cell_type": "code",
   "execution_count": null,
   "metadata": {},
   "outputs": [],
   "source": [
    "fails = []\n",
    "\n",
    "for j in nujobs\n",
    "    try\n",
    "        run(`$client_script job_templates post product_id=$(j.product_id) machine_id=$(j.machine_id) test_suite_id=$(j.test_suite_id) group_id=116`)\n",
    "    catch e\n",
    "        push!(fails, (error = e, job = j))\n",
    "    end\n",
    "end"
   ]
  },
  {
   "cell_type": "markdown",
   "metadata": {},
   "source": [
    "If there were failures then we can try to find out why. Usually it is because some test suite is already being run for a particular product, but in a different group."
   ]
  },
  {
   "cell_type": "code",
   "execution_count": null,
   "metadata": {
    "scrolled": true
   },
   "outputs": [],
   "source": [
    "ftemplates = map(fails) do f\n",
    "    jid = f.job.test_suite_id\n",
    "    OpenQA.get_json(OpenQA.osd, \"job_templates?test_suite_id=$jid\")[\"JobTemplates\"]\n",
    "end"
   ]
  },
  {
   "cell_type": "code",
   "execution_count": null,
   "metadata": {
    "scrolled": false
   },
   "outputs": [],
   "source": [
    "for f in ftemplates\n",
    "    println(f[1][\"test_suite\"][\"name\"], \" => \")\n",
    "    for ff in f\n",
    "        if ff[\"product\"][\"version\"] == \"15-SP1\"\n",
    "            println(\"\\t\", ff[\"group_name\"])\n",
    "        end\n",
    "    end\n",
    "end\n",
    "    "
   ]
  }
 ],
 "metadata": {
  "kernelspec": {
   "display_name": "Julia 1.0.0",
   "language": "julia",
   "name": "julia-1.0"
  },
  "language_info": {
   "file_extension": ".jl",
   "mimetype": "application/julia",
   "name": "julia",
   "version": "1.0.0"
  }
 },
 "nbformat": 4,
 "nbformat_minor": 2
}
