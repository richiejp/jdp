{
 "cells": [
  {
   "cell_type": "markdown",
   "metadata": {
    "ein.tags": "worksheet-0",
    "slideshow": {
     "slide_type": "-"
    }
   },
   "source": [
    "# OpenQA Job Template Helper\n",
    "\n",
    "This notebook helps with doing bulk operations on OpenQA job templates such as copying or moving the contents of a job group."
   ]
  },
  {
   "cell_type": "code",
   "execution_count": null,
   "metadata": {
    "autoscroll": false,
    "ein.hycell": false,
    "ein.tags": "worksheet-0",
    "slideshow": {
     "slide_type": "-"
    }
   },
   "outputs": [],
   "source": [
    "include(\"../src/init.jl\")\n",
    "\n",
    "using JDP.Trackers.OpenQA"
   ]
  },
  {
   "cell_type": "markdown",
   "metadata": {
    "ein.tags": "worksheet-0",
    "slideshow": {
     "slide_type": "-"
    }
   },
   "source": [
    "## Product defs map\n",
    "\n",
    "Create a product definition map for the different architectures. Make sure to set the desired product version."
   ]
  },
  {
   "cell_type": "code",
   "execution_count": null,
   "metadata": {
    "autoscroll": false,
    "ein.hycell": false,
    "ein.tags": "worksheet-0",
    "slideshow": {
     "slide_type": "-"
    }
   },
   "outputs": [],
   "source": [
    "prods = OpenQA.get_json(OpenQA.osd, \"products\")[\"Products\"]\n",
    "prods[1]"
   ]
  },
  {
   "cell_type": "code",
   "execution_count": null,
   "metadata": {
    "autoscroll": false,
    "ein.hycell": false,
    "ein.tags": "worksheet-0",
    "slideshow": {
     "slide_type": "-"
    }
   },
   "outputs": [],
   "source": [
    "aprods = map(filter(prods) do p\n",
    "        p[\"flavor\"] == \"Installer-DVD\" && p[\"distri\"] == \"sle\" && p[\"version\"] == \"15-SP1\"\n",
    "    end) do p\n",
    "        p[\"arch\"] => p[\"id\"]\n",
    "    end |> Dict"
   ]
  },
  {
   "cell_type": "code",
   "execution_count": null,
   "metadata": {
    "autoscroll": false,
    "ein.hycell": false,
    "ein.tags": "worksheet-0",
    "slideshow": {
     "slide_type": "-"
    }
   },
   "outputs": [],
   "source": [
    "jobids = OpenQA.get_json(OpenQA.osd, \"jobs?group_id=155\")"
   ]
  },
  {
   "cell_type": "markdown",
   "metadata": {
    "ein.tags": "worksheet-0",
    "slideshow": {
     "slide_type": "-"
    }
   },
   "source": [
    "## Job template definitions\n",
    "\n",
    "Get the current definitions, filter them and map them to a tuple of new templates (but don't actually sumbit them yet to OpenQA)."
   ]
  },
  {
   "cell_type": "code",
   "execution_count": null,
   "metadata": {
    "autoscroll": false,
    "ein.hycell": false,
    "ein.tags": "worksheet-0",
    "scrolled": true,
    "slideshow": {
     "slide_type": "-"
    }
   },
   "outputs": [],
   "source": [
    "jobs = OpenQA.get_json(OpenQA.osd, \"job_templates?group_id=155\")[\"JobTemplates\"]\n",
    "jobs[1]"
   ]
  },
  {
   "cell_type": "code",
   "execution_count": null,
   "metadata": {
    "autoscroll": false,
    "ein.hycell": false,
    "ein.tags": "worksheet-0",
    "scrolled": true,
    "slideshow": {
     "slide_type": "-"
    }
   },
   "outputs": [],
   "source": [
    "jobs = OpenQA.get_json(OpenQA.osd, \"job_templates\")[\"JobTemplates\"]\n",
    "jobs[1]"
   ]
  },
  {
   "cell_type": "code",
   "execution_count": null,
   "metadata": {
    "autoscroll": false,
    "ein.hycell": false,
    "ein.tags": "worksheet-0",
    "slideshow": {
     "slide_type": "-"
    }
   },
   "outputs": [],
   "source": [
    "spvmjobs = filter(jobs) do j\n",
    "    j[\"machine\"][\"name\"] == \"ppc64le-pvm\"\n",
    "end"
   ]
  },
  {
   "cell_type": "code",
   "execution_count": null,
   "metadata": {
    "autoscroll": false,
    "ein.hycell": false,
    "ein.tags": "worksheet-0",
    "slideshow": {
     "slide_type": "-"
    }
   },
   "outputs": [],
   "source": [
    "foreach(display, spvmjobs)"
   ]
  },
  {
   "cell_type": "code",
   "execution_count": null,
   "metadata": {
    "autoscroll": false,
    "ein.hycell": false,
    "ein.tags": "worksheet-0",
    "slideshow": {
     "slide_type": "-"
    }
   },
   "outputs": [],
   "source": [
    "spvmjobs[1][\"product\"]"
   ]
  },
  {
   "cell_type": "code",
   "execution_count": null,
   "metadata": {
    "autoscroll": false,
    "ein.hycell": false,
    "ein.tags": "worksheet-0",
    "slideshow": {
     "slide_type": "-"
    }
   },
   "outputs": [],
   "source": [
    "nujobs = map(filter(jobs) do j\n",
    "    startswith(j[\"test_suite\"][\"name\"], \"xfstests\")      \n",
    "end) do j\n",
    "    (id = j[\"id\"],\n",
    "     product_id = aprods[j[\"product\"][\"arch\"]],\n",
    "     machine_id = j[\"machine\"][\"id\"],\n",
    "     test_suite_id = j[\"test_suite\"][\"id\"],\n",
    "     name = j[\"test_suite\"][\"name\"])\n",
    "end"
   ]
  },
  {
   "cell_type": "markdown",
   "metadata": {
    "ein.tags": "worksheet-0",
    "slideshow": {
     "slide_type": "-"
    }
   },
   "source": [
    "## Sumbitting changes\n",
    "\n",
    "Send the changes to OpenQA"
   ]
  },
  {
   "cell_type": "code",
   "execution_count": null,
   "metadata": {
    "autoscroll": false,
    "ein.hycell": false,
    "ein.tags": "worksheet-0",
    "slideshow": {
     "slide_type": "-"
    }
   },
   "outputs": [],
   "source": [
    "client_script = `openqa-client --host openqa.suse.de --apikey C6C16EEAC002010A --apisecret A411FEDE926A5A9A`"
   ]
  },
  {
   "cell_type": "markdown",
   "metadata": {
    "ein.tags": "worksheet-0",
    "slideshow": {
     "slide_type": "-"
    }
   },
   "source": [
    "Delete the templates we queried earlier"
   ]
  },
  {
   "cell_type": "code",
   "execution_count": null,
   "metadata": {
    "autoscroll": false,
    "ein.hycell": false,
    "ein.tags": "worksheet-0",
    "slideshow": {
     "slide_type": "-"
    }
   },
   "outputs": [],
   "source": [
    "fails = []\n",
    "\n",
    "for j in nujobs\n",
    "    try\n",
    "        run(`$client_script job_templates/$(j.id) delete`)\n",
    "    catch e\n",
    "        push!(fails, (error = e, job = j))\n",
    "    end\n",
    "end"
   ]
  },
  {
   "cell_type": "markdown",
   "metadata": {
    "ein.tags": "worksheet-0",
    "slideshow": {
     "slide_type": "-"
    }
   },
   "source": [
    "Create new templates from what we queried earlier"
   ]
  },
  {
   "cell_type": "code",
   "execution_count": null,
   "metadata": {
    "autoscroll": false,
    "ein.hycell": false,
    "ein.tags": "worksheet-0",
    "slideshow": {
     "slide_type": "-"
    }
   },
   "outputs": [],
   "source": [
    "fails = []\n",
    "\n",
    "for j in nujobs\n",
    "    try\n",
    "        run(`$client_script job_templates post product_id=$(j.product_id) machine_id=$(j.machine_id) test_suite_id=$(j.test_suite_id) group_id=116`)\n",
    "    catch e\n",
    "        push!(fails, (error = e, job = j))\n",
    "    end\n",
    "end"
   ]
  },
  {
   "cell_type": "markdown",
   "metadata": {
    "ein.tags": "worksheet-0",
    "slideshow": {
     "slide_type": "-"
    }
   },
   "source": [
    "If there were failures then we can try to find out why. Usually it is because some test suite is already being run for a particular product, but in a different group."
   ]
  },
  {
   "cell_type": "code",
   "execution_count": null,
   "metadata": {
    "autoscroll": false,
    "ein.hycell": false,
    "ein.tags": "worksheet-0",
    "scrolled": true,
    "slideshow": {
     "slide_type": "-"
    }
   },
   "outputs": [],
   "source": [
    "ftemplates = map(fails) do f\n",
    "    jid = f.job.test_suite_id\n",
    "    OpenQA.get_json(OpenQA.osd, \"job_templates?test_suite_id=$jid\")[\"JobTemplates\"]\n",
    "end"
   ]
  },
  {
   "cell_type": "code",
   "execution_count": null,
   "metadata": {
    "autoscroll": false,
    "ein.hycell": false,
    "ein.tags": "worksheet-0",
    "scrolled": false,
    "slideshow": {
     "slide_type": "-"
    }
   },
   "outputs": [],
   "source": [
    "for f in ftemplates\n",
    "    println(f[1][\"test_suite\"][\"name\"], \" => \")\n",
    "    for ff in f\n",
    "        if ff[\"product\"][\"version\"] == \"15-SP1\"\n",
    "            println(\"\\t\", ff[\"group_name\"])\n",
    "        end\n",
    "    end\n",
    "end\n",
    "    "
   ]
  }
 ],
 "metadata": {
  "kernelspec": {
   "display_name": "Julia 1.0.3",
   "language": "julia",
   "name": "julia-1.0"
  },
  "language_info": {
   "file_extension": ".jl",
   "mimetype": "application/julia",
   "name": "julia",
   "version": "1.0.3"
  },
  "name": "openqa-job-templates.ipynb"
 },
 "nbformat": 4,
 "nbformat_minor": 2
}
