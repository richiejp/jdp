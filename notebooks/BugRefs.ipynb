{
 "cells": [
  {
   "cell_type": "markdown",
   "metadata": {},
   "source": [
    "# Bug Reference Utils\n",
    "\n",
    "Code snippets useful for working with bug references and bug trackers"
   ]
  },
  {
   "cell_type": "code",
   "execution_count": null,
   "metadata": {},
   "outputs": [],
   "source": [
    "include(\"../src/init.jl\") # Configure and install (if necessary) the JDP project\n",
    "\n",
    "import JDP.BugRefs\n",
    "import JDP.Trackers.Bugzilla"
   ]
  },
  {
   "cell_type": "markdown",
   "metadata": {},
   "source": [
    "Extract bug references from the specified string and display them as hyper links using Markdown."
   ]
  },
  {
   "cell_type": "code",
   "execution_count": null,
   "metadata": {},
   "outputs": [],
   "source": [
    "BugRefs.extract_refs(\"bsc#1111458 bsc#1111464 bsc#1111466 bsc#1111469\") |> BugRefs.to_md"
   ]
  },
  {
   "cell_type": "code",
   "execution_count": null,
   "metadata": {},
   "outputs": [],
   "source": [
    "BugRefs.extract_refs(\"bsc#1110703 bsc#1111488\") |> BugRefs.to_md\n",
    "    "
   ]
  },
  {
   "cell_type": "markdown",
   "metadata": {},
   "source": [
    "Displaying them as hyperlinks is OK, but we can go further by automatically fetching data from Bugzilla and displaying it here. First we need to login to Bugzilla, if you have not set a user name and password in the trackers config file then you will be prompted for them.\n",
    "\n",
    "> WARNING: This initially uses HTTP basic auth which inserts your user name and password into the URI, however subsequent requests use a cookie stored in the ses object"
   ]
  },
  {
   "cell_type": "code",
   "execution_count": null,
   "metadata": {},
   "outputs": [],
   "source": [
    "ses = Bugzilla.login(\"bsc\");"
   ]
  },
  {
   "cell_type": "markdown",
   "metadata": {},
   "source": [
    "Now we can get a bug. The object returned is a Dictionary derived from Bugzilla's XML output."
   ]
  },
  {
   "cell_type": "code",
   "execution_count": null,
   "metadata": {},
   "outputs": [],
   "source": [
    "bug = Bugzilla.get_bug(ses, 1103543)"
   ]
  },
  {
   "cell_type": "markdown",
   "metadata": {},
   "source": [
    "This can be converted to a Markdown object which Jupyter will display nicely."
   ]
  },
  {
   "cell_type": "code",
   "execution_count": null,
   "metadata": {},
   "outputs": [],
   "source": [
    "md = Bugzilla.to_md(bug)"
   ]
  },
  {
   "cell_type": "markdown",
   "metadata": {},
   "source": [
    "We can take a bunch of bugs from the report notebook and display a summary of all of them."
   ]
  },
  {
   "cell_type": "code",
   "execution_count": null,
   "metadata": {},
   "outputs": [],
   "source": [
    "bugs = []\n",
    "\n",
    "for ref in (\"bsc#1099134\", \"bsc#1074293\", \"poo#35347\", \"bsc#1099173\", \"bsc#1102358\", \"bsc#1102250\", \"bsc#1108010\", \"bsc#1108028\", \"poo#40424\")\n",
    "    if startswith(ref, \"bsc\")\n",
    "        push!(bugs, Bugzilla.get_bug(ses, parse(Int, ref[5:end])))\n",
    "    end\n",
    "end\n",
    "\n",
    "bugs"
   ]
  },
  {
   "cell_type": "code",
   "execution_count": null,
   "metadata": {},
   "outputs": [],
   "source": [
    "using Markdown\n",
    "import Markdown: Paragraph, MD\n",
    "\n",
    "map(Bugzilla.to_md, bugs) |> MD"
   ]
  }
 ],
 "metadata": {
  "kernelspec": {
   "display_name": "Julia 1.0.3",
   "language": "julia",
   "name": "julia-1.0"
  },
  "language_info": {
   "file_extension": ".jl",
   "mimetype": "application/julia",
   "name": "julia",
   "version": "1.0.3"
  }
 },
 "nbformat": 4,
 "nbformat_minor": 2
}
