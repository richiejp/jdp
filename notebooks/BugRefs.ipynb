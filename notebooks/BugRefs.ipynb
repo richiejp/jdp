{
 "cells": [
  {
   "cell_type": "markdown",
   "metadata": {},
   "source": [
    "# Bug Reference Utils\n",
    "\n",
    "Code snippets useful for working with bug references and bug trackers"
   ]
  },
  {
   "cell_type": "code",
   "execution_count": null,
   "metadata": {},
   "outputs": [],
   "source": [
    "include(\"../src/init.jl\") # Configure and install (if necessary) the JDP project\n",
    "\n",
    "import JDP.BugRefs\n",
    "import JDP.Trackers.Bugzilla"
   ]
  },
  {
   "cell_type": "markdown",
   "metadata": {},
   "source": [
    "Extract bug references from the specified string and display them as hyper links using Markdown."
   ]
  },
  {
   "cell_type": "code",
   "execution_count": 12,
   "metadata": {},
   "outputs": [
    {
     "data": {
      "text/markdown": [
       "[bsc#1111458](https://bugzilla.suse.com/show_bug.cgi?id=1111458)\n",
       "[bsc#1111464](https://bugzilla.suse.com/show_bug.cgi?id=1111464)\n",
       "[bsc#1111466](https://bugzilla.suse.com/show_bug.cgi?id=1111466)\n",
       "[bsc#1111469](https://bugzilla.suse.com/show_bug.cgi?id=1111469)\n",
       "\n"
      ],
      "text/plain": [
       "  bsc#1111458 (https://bugzilla.suse.com/show_bug.cgi?id=1111458)\n",
       "  bsc#1111464 (https://bugzilla.suse.com/show_bug.cgi?id=1111464)\n",
       "  bsc#1111466 (https://bugzilla.suse.com/show_bug.cgi?id=1111466)\n",
       "  bsc#1111469 (https://bugzilla.suse.com/show_bug.cgi?id=1111469)\n",
       "  "
      ]
     },
     "execution_count": 12,
     "metadata": {},
     "output_type": "execute_result"
    }
   ],
   "source": [
    "BugRefs.extract_refs(\"bsc#1111458 bsc#1111464 bsc#1111466 bsc#1111469\") |> BugRefs.to_md"
   ]
  },
  {
   "cell_type": "code",
   "execution_count": 7,
   "metadata": {},
   "outputs": [
    {
     "data": {
      "text/markdown": [
       "[bsc#1110703](https://bugzilla.suse.com/show_bug.cgi?id=1110703)\n",
       "[bsc#1111488](https://bugzilla.suse.com/show_bug.cgi?id=1111488)\n",
       "\n"
      ],
      "text/plain": [
       "  bsc#1110703 (https://bugzilla.suse.com/show_bug.cgi?id=1110703)\n",
       "  bsc#1111488 (https://bugzilla.suse.com/show_bug.cgi?id=1111488)\n",
       "  "
      ]
     },
     "execution_count": 7,
     "metadata": {},
     "output_type": "execute_result"
    }
   ],
   "source": [
    "BugRefs.extract_refs(\"bsc#1110703 bsc#1111488\") |> BugRefs.to_md\n",
    "    "
   ]
  },
  {
   "cell_type": "markdown",
   "metadata": {},
   "source": [
    "Displaying them as hyperlinks is OK, but we can go further by automatically fetching data from Bugzilla and displaying it here. First we need to login to Bugzilla, if you have not set a user name and password in the trackers config file then you will be prompted for them.\n",
    "\n",
    "> WARNING: This initially uses HTTP basic auth which inserts your user name and password into the URI, however subsequent requests use a cookie stored in the ses object"
   ]
  },
  {
   "cell_type": "code",
   "execution_count": 14,
   "metadata": {},
   "outputs": [
    {
     "name": "stdout",
     "output_type": "stream",
     "text": [
      "User Name: rpalethorpe\n",
      "Password: ········\n"
     ]
    }
   ],
   "source": [
    "ses = Bugzilla.login(\"bsc\");"
   ]
  },
  {
   "cell_type": "markdown",
   "metadata": {},
   "source": [
    "Now we can get a bug. The object returned is a Dictionary derived from Bugzilla's XML output."
   ]
  },
  {
   "cell_type": "code",
   "execution_count": 15,
   "metadata": {
    "collapsed": true
   },
   "outputs": [
    {
     "data": {
      "text/plain": [
       "Dict{Union{String, Symbol},Any} with 41 entries:\n",
       "  \"rep_platform\"           => \"Other\"\n",
       "  \"bug_severity\"           => \"Normal\"\n",
       "  \"cclist_accessible\"      => \"1\"\n",
       "  \"bug_status\"             => \"RESOLVED\"\n",
       "  \"cf_nts_priority\"        => SubString{String}[\"\", \"\"]\n",
       "  \"classification_id\"      => \"27\"\n",
       "  \"reporter_accessible\"    => \"1\"\n",
       "  \"bug_id\"                 => \"1103543\"\n",
       "  \"keywords\"               => \"\"\n",
       "  \"cf_marketing_qa_status\" => \"---\"\n",
       "  \"cf_it_deployment\"       => \"---\"\n",
       "  \"estimated_time\"         => \"0.00\"\n",
       "  \"classification\"         => \"SUSE Linux Enterprise Server\"\n",
       "  \"priority\"               => \"P2 - High\"\n",
       "  \"short_desc\"             => \"xftests generic/502 fails for btrfs\"\n",
       "  \"cf_foundby\"             => SubString{String}[\"---\", \"---\"]\n",
       "  \"creation_ts\"            => \"2018-08-02 09:45:00 +0000\"\n",
       "  \"assigned_to\"            => EzXML.Node(<ELEMENT_NODE@0x00000000059f2f10>)\n",
       "  \"op_sys\"                 => \"Other\"\n",
       "  \"version\"                => \"Beta 2\"\n",
       "  \"qa_contact\"             => EzXML.Node(<ELEMENT_NODE@0x000000000437b800>)\n",
       "  \"resolution\"             => \"FIXED\"\n",
       "  \"remaining_time\"         => \"0.00\"\n",
       "  \"status_whiteboard\"      => \"\"\n",
       "  \"delta_ts\"               => \"2018-10-18 09:25:19 +0000\"\n",
       "  ⋮                        => ⋮"
      ]
     },
     "execution_count": 15,
     "metadata": {},
     "output_type": "execute_result"
    }
   ],
   "source": [
    "bug = Bugzilla.get_bug(ses, 1103543)"
   ]
  },
  {
   "cell_type": "markdown",
   "metadata": {},
   "source": [
    "This can be converted to a Markdown object which Jupyter will display nicely."
   ]
  },
  {
   "cell_type": "code",
   "execution_count": 16,
   "metadata": {},
   "outputs": [
    {
     "data": {
      "text/markdown": [
       "**P2 - High**(*Normal*) RESOLVED: xftests generic/502 fails for btrfs\n"
      ],
      "text/plain": [
       "  \u001b[1mP2 - High\u001b[22m(\u001b[4mNormal\u001b[24m) RESOLVED: xftests generic/502 fails for btrfs"
      ]
     },
     "execution_count": 16,
     "metadata": {},
     "output_type": "execute_result"
    }
   ],
   "source": [
    "md = Bugzilla.to_md(bug)"
   ]
  },
  {
   "cell_type": "markdown",
   "metadata": {},
   "source": [
    "We can take a bunch of bugs from the report notebook and display a summary of all of them."
   ]
  },
  {
   "cell_type": "code",
   "execution_count": 6,
   "metadata": {
    "collapsed": true
   },
   "outputs": [
    {
     "data": {
      "text/plain": [
       "7-element Array{Any,1}:\n",
       " Dict{Union{String, Symbol},Any}(\"rep_platform\"=>\"PowerPC-64\",\"bug_severity\"=>\"Normal\",\"cclist_accessible\"=>\"1\",\"bug_status\"=>\"NEW\",\"dependson\"=>\"1098652\",\"cf_nts_priority\"=>SubString{String}[\"\", \"\"],\"classification_id\"=>\"27\",\"reporter_accessible\"=>\"1\",\"bug_id\"=>\"1099134\",\"keywords\"=>\"\"…)            \n",
       " Dict{Union{String, Symbol},Any}(\"rep_platform\"=>\"Other\",\"bug_severity\"=>\"Major\",\"cclist_accessible\"=>\"1\",\"bug_status\"=>\"RESOLVED\",\"cf_nts_priority\"=>SubString{String}[\"\", \"\"],\"classification_id\"=>\"2\",\"reporter_accessible\"=>\"1\",\"bug_id\"=>\"1074293\",\"keywords\"=>\"\",\"cf_marketing_qa_status\"=>\"---\"…)     \n",
       " Dict{Union{String, Symbol},Any}(\"rep_platform\"=>\"Other\",\"bug_severity\"=>\"Normal\",\"cclist_accessible\"=>\"1\",\"bug_status\"=>\"RESOLVED\",\"cf_nts_priority\"=>SubString{String}[\"\", \"\"],\"classification_id\"=>\"27\",\"reporter_accessible\"=>\"1\",\"bug_id\"=>\"1099173\",\"keywords\"=>\"\",\"cf_marketing_qa_status\"=>\"---\"…)   \n",
       " Dict{Union{String, Symbol},Any}(\"rep_platform\"=>\"Other\",\"bug_severity\"=>\"Major\",\"cclist_accessible\"=>\"1\",\"bug_status\"=>\"RESOLVED\",\"cf_nts_priority\"=>SubString{String}[\"\", \"\"],\"classification_id\"=>\"27\",\"reporter_accessible\"=>\"1\",\"bug_id\"=>\"1102358\",\"keywords\"=>\"\",\"cf_marketing_qa_status\"=>\"---\"…)    \n",
       " Dict{Union{String, Symbol},Any}(\"rep_platform\"=>\"x86-64\",\"bug_severity\"=>\"Critical\",\"cclist_accessible\"=>\"1\",\"bug_status\"=>\"RESOLVED\",\"cf_nts_priority\"=>SubString{String}[\"\", \"\"],\"classification_id\"=>\"27\",\"reporter_accessible\"=>\"1\",\"bug_id\"=>\"1102250\",\"keywords\"=>\"\",\"cf_marketing_qa_status\"=>\"---\"…)\n",
       " Dict{Union{String, Symbol},Any}(\"rep_platform\"=>\"aarch64\",\"bug_severity\"=>\"Normal\",\"cclist_accessible\"=>\"1\",\"bug_status\"=>\"RESOLVED\",\"cf_nts_priority\"=>SubString{String}[\"\", \"\"],\"classification_id\"=>\"27\",\"reporter_accessible\"=>\"1\",\"bug_id\"=>\"1108010\",\"keywords\"=>\"\",\"cf_marketing_qa_status\"=>\"---\"…) \n",
       " Dict{Union{String, Symbol},Any}(\"rep_platform\"=>\"x86-64\",\"bug_severity\"=>\"Normal\",\"cclist_accessible\"=>\"1\",\"bug_status\"=>\"RESOLVED\",\"cf_nts_priority\"=>SubString{String}[\"\", \"\"],\"classification_id\"=>\"27\",\"reporter_accessible\"=>\"1\",\"bug_id\"=>\"1108028\",\"keywords\"=>\"\",\"cf_marketing_qa_status\"=>\"---\"…)  "
      ]
     },
     "execution_count": 6,
     "metadata": {},
     "output_type": "execute_result"
    }
   ],
   "source": [
    "bugs = []\n",
    "\n",
    "for ref in (\"bsc#1099134\", \"bsc#1074293\", \"poo#35347\", \"bsc#1099173\", \"bsc#1102358\", \"bsc#1102250\", \"bsc#1108010\", \"bsc#1108028\", \"poo#40424\")\n",
    "    if startswith(ref, \"bsc\")\n",
    "        push!(bugs, Bugzilla.get_bug(ses, parse(Int, ref[5:end])))\n",
    "    end\n",
    "end\n",
    "\n",
    "bugs"
   ]
  },
  {
   "cell_type": "code",
   "execution_count": 11,
   "metadata": {},
   "outputs": [
    {
     "data": {
      "text/markdown": [
       "**P3 - Medium**(*Normal*) NEW: Btrfs fallocate PUNCH_HOLE | KEEP_SIZE fails on filled up FS on ppc64le\n",
       "\n",
       "**P3 - Medium**(*Major*) RESOLVED: VUL-0: CVE-2018-1000001: glibc: privilege escalation bug in glibc\n",
       "\n",
       "**P2 - High**(*Normal*) RESOLVED: inotify overlayfs fixes\n",
       "\n",
       "**P5 - None**(*Major*) RESOLVED: mm/pgtable-generic.c:39: bad pmd and hvc hvc0: unknown flag\n",
       "\n",
       "**P1 - Urgent**(*Critical*) RESOLVED: cgroup related NULL pointer dereference during shutdown\n",
       "\n",
       "**P2 - High**(*Normal*) RESOLVED: MADV_FREE does not seem to work on aarch64\n",
       "\n",
       "**P2 - High**(*Normal*) RESOLVED: statx() does not seem to fill in stx_attributes on Btrfs\n"
      ],
      "text/plain": [
       "  \u001b[1mP3 - Medium\u001b[22m(\u001b[4mNormal\u001b[24m) NEW: Btrfs fallocate PUNCH_HOLE | KEEP_SIZE fails on\n",
       "  filled up FS on ppc64le\n",
       "\n",
       "  \u001b[1mP3 - Medium\u001b[22m(\u001b[4mMajor\u001b[24m) RESOLVED: VUL-0: CVE-2018-1000001: glibc: privilege\n",
       "  escalation bug in glibc\n",
       "\n",
       "  \u001b[1mP2 - High\u001b[22m(\u001b[4mNormal\u001b[24m) RESOLVED: inotify overlayfs fixes\n",
       "\n",
       "  \u001b[1mP5 - None\u001b[22m(\u001b[4mMajor\u001b[24m) RESOLVED: mm/pgtable-generic.c:39: bad pmd and hvc hvc0:\n",
       "  unknown flag\n",
       "\n",
       "  \u001b[1mP1 - Urgent\u001b[22m(\u001b[4mCritical\u001b[24m) RESOLVED: cgroup related NULL pointer dereference\n",
       "  during shutdown\n",
       "\n",
       "  \u001b[1mP2 - High\u001b[22m(\u001b[4mNormal\u001b[24m) RESOLVED: MADV_FREE does not seem to work on aarch64\n",
       "\n",
       "  \u001b[1mP2 - High\u001b[22m(\u001b[4mNormal\u001b[24m) RESOLVED: statx() does not seem to fill in stx_attributes\n",
       "  on Btrfs"
      ]
     },
     "execution_count": 11,
     "metadata": {},
     "output_type": "execute_result"
    }
   ],
   "source": [
    "using Markdown\n",
    "import Markdown: Paragraph, MD\n",
    "\n",
    "map(Bugzilla.to_md, bugs) |> MD"
   ]
  }
 ],
 "metadata": {
  "kernelspec": {
   "display_name": "Julia 1.0.1",
   "language": "julia",
   "name": "julia-1.0"
  },
  "language_info": {
   "file_extension": ".jl",
   "mimetype": "application/julia",
   "name": "julia",
   "version": "1.0.1"
  }
 },
 "nbformat": 4,
 "nbformat_minor": 2
}
