{
 "cells": [
  {
   "cell_type": "code",
   "execution_count": null,
   "metadata": {},
   "outputs": [],
   "source": [
    "# Monitors library source files and recompiles them after most changes\n",
    "import Revise\n",
    "\n",
    "# Run the init script which will setup the JDP project if necessary\n",
    "include(\"../src/init.jl\")\n",
    "\n",
    "using Markdown\n",
    "\n",
    "# Import some libraries from the JDP project\n",
    "using JDP.BugRefs\n",
    "using JDP.Trackers\n",
    "using JDP.Trackers.OpenQA    # Contains functions for dealing with the OpenQA web API\n",
    "using JDP.Trackers.Bugzilla  # Functions for accessing the Bugzilla API(s)\n",
    "using JDP.Repository\n",
    "using JDP.Functional\n",
    "\n",
    "trackers = load_trackers()"
   ]
  },
  {
   "cell_type": "markdown",
   "metadata": {},
   "source": [
    "# Bug Tag Propogation\n",
    "\n",
    "This partially automates copying existing bug tags from one failed test result to another."
   ]
  },
  {
   "cell_type": "markdown",
   "metadata": {},
   "source": [
    "## Find untagged test failures\n",
    "\n",
    "First we fetch the test results from OpenQA."
   ]
  },
  {
   "cell_type": "code",
   "execution_count": null,
   "metadata": {
    "scrolled": true
   },
   "outputs": [],
   "source": [
    "# Get some job results from the openqa.suse.de (osd) OpenQA instance.\n",
    "# Optional arguments (after the ';') like 'groupid' are passed to the OpenQA API\n",
    "allres = Repository.fetch(OpenQA.TestResult, Vector, \"osd\"; refresh=false, groupid=116)"
   ]
  },
  {
   "cell_type": "markdown",
   "metadata": {},
   "source": [
    "Then filter the results to only include fails from a particular build with no bug references."
   ]
  },
  {
   "cell_type": "code",
   "execution_count": null,
   "metadata": {},
   "outputs": [],
   "source": [
    "build = \"137.1\"\n",
    "\n",
    "untagged = filter(allres) do res\n",
    "    res.build == build &&\n",
    "    occursin(r\"failed\", res.result) &&\n",
    "    isempty(res.refs)\n",
    "end"
   ]
  },
  {
   "cell_type": "markdown",
   "metadata": {},
   "source": [
    "## Find existing bug references for tests\n",
    "\n",
    "Now we search all the test results for bug tags that were added in other builds or architectures."
   ]
  },
  {
   "cell_type": "code",
   "execution_count": 40,
   "metadata": {},
   "outputs": [
    {
     "data": {
      "text/plain": [
       "Dict{String,Set{JDP.BugRefs.Ref}} with 97 entries:\n",
       "  \"btrfs-012\"               => Set(JDP.BugRefs.Ref[])\n",
       "  \"xfs-189\"                 => Set(JDP.BugRefs.Ref[])\n",
       "  \"trinity\"                 => Set(JDP.BugRefs.Ref[])\n",
       "  \"shutdown_ltp\"            => Set(JDP.BugRefs.Ref[])\n",
       "  \"generic-320\"             => Set(JDP.BugRefs.Ref[])\n",
       "  \"xfs-150\"                 => Set(JDP.BugRefs.Ref[])\n",
       "  \"btrfs-122\"               => Set(JDP.BugRefs.Ref[])\n",
       "  \"xfs-145\"                 => Set(JDP.BugRefs.Ref[])\n",
       "  \"xfs-147\"                 => Set(JDP.BugRefs.Ref[])\n",
       "  \"btrfs-171\"               => Set(JDP.BugRefs.Ref[bsc#1120036])\n",
       "  \"xfs-027\"                 => Set(JDP.BugRefs.Ref[])\n",
       "  \"generic-252\"             => Set(JDP.BugRefs.Ref[])\n",
       "  \"xfs-059\"                 => Set(JDP.BugRefs.Ref[])\n",
       "  \"btrfs-139\"               => Set(JDP.BugRefs.Ref[bsc#1114393])\n",
       "  \"btrfs-152\"               => Set(JDP.BugRefs.Ref[])\n",
       "  \"xfs-151\"                 => Set(JDP.BugRefs.Ref[])\n",
       "  \"mcast6-group-same-group\" => Set(JDP.BugRefs.Ref[])\n",
       "  \"generic-501\"             => Set(JDP.BugRefs.Ref[])\n",
       "  \"bootloader_zkvm\"         => Set(JDP.BugRefs.Ref[])\n",
       "  \"xfs-095\"                 => Set(JDP.BugRefs.Ref[])\n",
       "  \"xfs-146\"                 => Set(JDP.BugRefs.Ref[])\n",
       "  \"xfs-348\"                 => Set(JDP.BugRefs.Ref[bsc#1085909])\n",
       "  \"xfs-087\"                 => Set(JDP.BugRefs.Ref[])\n",
       "  \"xfs-168\"                 => Set(JDP.BugRefs.Ref[])\n",
       "  \"xfs-154\"                 => Set(JDP.BugRefs.Ref[])\n",
       "  ⋮                         => ⋮"
      ]
     },
     "execution_count": 40,
     "metadata": {},
     "output_type": "execute_result"
    }
   ],
   "source": [
    "tagdict = Dict{String, Set{JDP.BugRefs.Ref}}(res.name => Set() for res in untagged)\n",
    "\n",
    "for res in allres\n",
    "    if haskey(tagdict, res.name) && length(res.refs) > 0\n",
    "        push!(tagdict[res.name], res.refs...)\n",
    "    end\n",
    "end\n",
    "\n",
    "tagdict"
   ]
  },
  {
   "cell_type": "markdown",
   "metadata": {},
   "source": [
    "Optionally we can get a summary of the bug tags it has found from Bugzilla.\n",
    "\n",
    "> TODO: look on Progress instead for poo refs"
   ]
  },
  {
   "cell_type": "code",
   "execution_count": 6,
   "metadata": {},
   "outputs": [
    {
     "name": "stdout",
     "output_type": "stream",
     "text": [
      "User Name: rpalethorpe\n",
      "Password: ········\n"
     ]
    }
   ],
   "source": [
    "bses = Bugzilla.login(\"bsc\");"
   ]
  },
  {
   "cell_type": "code",
   "execution_count": null,
   "metadata": {},
   "outputs": [],
   "source": [
    "bugdict = Dict(name => [] for name in keys(tagdict))\n",
    "for (k, v) in pairs(tagdict)\n",
    "    for rf in v\n",
    "        @info \"Fetching $rf for $k\"\n",
    "        push!(bugdict[k], rf => Bugzilla.get_bug(bses, parse(Int, rf.id)))\n",
    "    end\n",
    "end"
   ]
  },
  {
   "cell_type": "code",
   "execution_count": 8,
   "metadata": {},
   "outputs": [
    {
     "data": {
      "text/markdown": [
       "  * btrfs-171\n",
       "\n",
       "      * [bsc#1120036](https://apibugzilla.suse.com/show_bug.cgi?id=1120036) **P2 - High**(*Normal*) NEW: xfstests btrfs/171 fails on 4.12.14-25.23-default\n",
       "  * btrfs-139\n",
       "\n",
       "      * [bsc#1114393](https://apibugzilla.suse.com/show_bug.cgi?id=1114393) **P2 - High**(*Normal*) NEW: xfstests btrfs/139 fails only in ppc64le in btrfs\n",
       "  * xfs-348\n",
       "\n",
       "      * [bsc#1085909](https://apibugzilla.suse.com/show_bug.cgi?id=1085909) **P3 - Medium**(*Normal*) NEW: fstests with xfs on xfs/348 with xfs regression 4.12.14-14-default\n",
       "  * generic-484\n",
       "\n",
       "      * [bsc#1111466](https://apibugzilla.suse.com/show_bug.cgi?id=1111466) **P3 - Medium**(*Normal*) NEW: fstests: generic/484 fails with record lock is not preserved across execve(2)\n",
       "  * btrfs-172\n",
       "\n",
       "      * [bsc#1114270](https://apibugzilla.suse.com/show_bug.cgi?id=1114270) **P4 - Low**(*Normal*) NEW: xfstests btrfs/172 fails in btrfs\n",
       "  * generic-521\n",
       "\n",
       "      * [bsc#1119212](https://apibugzilla.suse.com/show_bug.cgi?id=1119212) **P1 - Urgent**(*Critical*) NEW: generic/091 has a regression fail in xfs\n",
       "  * generic-471\n",
       "\n",
       "      * [bsc#1120171](https://apibugzilla.suse.com/show_bug.cgi?id=1120171) **P3 - Medium**(*Normal*) NEW: xfstests generic/471 in btrfs fails on 4.12.14-25.23-default\n",
       "  * generic-091\n",
       "\n",
       "      * [bsc#1119212](https://apibugzilla.suse.com/show_bug.cgi?id=1119212) **P1 - Urgent**(*Critical*) NEW: generic/091 has a regression fail in xfs\n",
       "  * btrfs-131\n",
       "\n",
       "      * [bsc#1120051](https://apibugzilla.suse.com/show_bug.cgi?id=1120051) **P2 - High**(*Normal*) NEW: xfstests btrfs/131 fails on 4.12.14-25.23-default\n",
       "  * btrfs-170\n",
       "\n",
       "      * [poo#39839](https://progress.opensuse.org/issues/39839) **P3 - Medium**(*Minor*) RESOLVED: Wireless: cannot enter ascii keys in wireless network setup\n",
       "      * [bsc#1120166](https://apibugzilla.suse.com/show_bug.cgi?id=1120166) **P2 - High**(*Normal*) NEW: xfstests btrfs/170 fails on 4.12.14-25.23-default\n",
       "  * generic-388\n",
       "\n",
       "      * [bsc#1085400](https://apibugzilla.suse.com/show_bug.cgi?id=1085400) **P3 - Medium**(*Normal*) IN_PROGRESS: xfstests generic/388 fails with xfs\n",
       "  * fanotify09\n",
       "\n",
       "      * [bsc#1110880](https://apibugzilla.suse.com/show_bug.cgi?id=1110880) **P5 - None**(*Normal*) NEW: LTP test fanotify09 fails in SLE12-SP3\n",
       "  * btrfs-078\n",
       "\n",
       "      * [bsc#1119089](https://apibugzilla.suse.com/show_bug.cgi?id=1119089) **P2 - High**(*Normal*) NEW: xfstests btrfs/078 fails on 4.12.14-25.22-default\n",
       "  * generic-488\n",
       "\n",
       "      * [bsc#1111469](https://apibugzilla.suse.com/show_bug.cgi?id=1111469) **P3 - Medium**(*Normal*) NEW: generic/488 fails by having many file descriptors referring to deleted files open on btrfs\n",
       "  * generic-263\n",
       "\n",
       "      * [bsc#1119212](https://apibugzilla.suse.com/show_bug.cgi?id=1119212) **P1 - Urgent**(*Critical*) NEW: generic/091 has a regression fail in xfs\n",
       "  * generic-513\n",
       "\n",
       "      * [bsc#1114278](https://apibugzilla.suse.com/show_bug.cgi?id=1114278) **P3 - Medium**(*Normal*) NEW: xfstests generic/513 fails in btrfs\n",
       "  * fallocate05\n",
       "\n",
       "      * [bsc#1099134](https://apibugzilla.suse.com/show_bug.cgi?id=1099134) **P3 - Medium**(*Normal*) NEW: Btrfs fallocate PUNCH*HOLE | KEEP*SIZE fails on filled up FS on ppc64le\n",
       "  * generic-475\n",
       "\n",
       "      * [bsc#1078009](https://apibugzilla.suse.com/show_bug.cgi?id=1078009) **P2 - High**(*Normal*) NEW: btrfs: soft lockup in __endio*write*update_ordered via xfstests generic/475\n",
       "      * [bsc#1120167](https://apibugzilla.suse.com/show_bug.cgi?id=1120167) **P2 - High**(*Normal*) NEW: xfstests generic/475 triggered a Call Trace in BTRFS, kernel BUG at ../fs/btrfs/extent-tree.c:9906\n",
       "  * getrlimit03\n",
       "\n",
       "      * [bsc#1119409](https://apibugzilla.suse.com/show_bug.cgi?id=1119409) **P2 - High**(*Minor*) NEW: LTP getrlimit03 test fails on s390x probably due to returned limit size\n",
       "      * [poo#44933](https://progress.opensuse.org/issues/44933) **P3 - Medium**(*Normal*) RESOLVED: can't downsize ntfs partition while installation\n",
       "  * generic-520\n",
       "\n",
       "      * [bsc#1120173](https://apibugzilla.suse.com/show_bug.cgi?id=1120173) **P3 - Medium**(*Normal*) NEW: xfstests generic/520 in btrfs fails on 4.12.14-25.23-default\n"
      ],
      "text/plain": [
       "    •    btrfs-171\n",
       "      \n",
       "          •    bsc#1120036\n",
       "              (https://apibugzilla.suse.com/show_bug.cgi?id=1120036)\n",
       "              \u001b[1mP2 - High\u001b[22m(\u001b[4mNormal\u001b[24m) NEW: xfstests btrfs/171 fails on\n",
       "              4.12.14-25.23-default\n",
       "\n",
       "    •    btrfs-139\n",
       "      \n",
       "          •    bsc#1114393\n",
       "              (https://apibugzilla.suse.com/show_bug.cgi?id=1114393)\n",
       "              \u001b[1mP2 - High\u001b[22m(\u001b[4mNormal\u001b[24m) NEW: xfstests btrfs/139 fails only in\n",
       "              ppc64le in btrfs\n",
       "\n",
       "    •    xfs-348\n",
       "      \n",
       "          •    bsc#1085909\n",
       "              (https://apibugzilla.suse.com/show_bug.cgi?id=1085909)\n",
       "              \u001b[1mP3 - Medium\u001b[22m(\u001b[4mNormal\u001b[24m) NEW: fstests with xfs on xfs/348\n",
       "              with xfs regression 4.12.14-14-default\n",
       "\n",
       "    •    generic-484\n",
       "      \n",
       "          •    bsc#1111466\n",
       "              (https://apibugzilla.suse.com/show_bug.cgi?id=1111466)\n",
       "              \u001b[1mP3 - Medium\u001b[22m(\u001b[4mNormal\u001b[24m) NEW: fstests: generic/484 fails with\n",
       "              record lock is not preserved across execve(2)\n",
       "\n",
       "    •    btrfs-172\n",
       "      \n",
       "          •    bsc#1114270\n",
       "              (https://apibugzilla.suse.com/show_bug.cgi?id=1114270)\n",
       "              \u001b[1mP4 - Low\u001b[22m(\u001b[4mNormal\u001b[24m) NEW: xfstests btrfs/172 fails in btrfs\n",
       "\n",
       "    •    generic-521\n",
       "      \n",
       "          •    bsc#1119212\n",
       "              (https://apibugzilla.suse.com/show_bug.cgi?id=1119212)\n",
       "              \u001b[1mP1 - Urgent\u001b[22m(\u001b[4mCritical\u001b[24m) NEW: generic/091 has a regression\n",
       "              fail in xfs\n",
       "\n",
       "    •    generic-471\n",
       "      \n",
       "          •    bsc#1120171\n",
       "              (https://apibugzilla.suse.com/show_bug.cgi?id=1120171)\n",
       "              \u001b[1mP3 - Medium\u001b[22m(\u001b[4mNormal\u001b[24m) NEW: xfstests generic/471 in btrfs\n",
       "              fails on 4.12.14-25.23-default\n",
       "\n",
       "    •    generic-091\n",
       "      \n",
       "          •    bsc#1119212\n",
       "              (https://apibugzilla.suse.com/show_bug.cgi?id=1119212)\n",
       "              \u001b[1mP1 - Urgent\u001b[22m(\u001b[4mCritical\u001b[24m) NEW: generic/091 has a regression\n",
       "              fail in xfs\n",
       "\n",
       "    •    btrfs-131\n",
       "      \n",
       "          •    bsc#1120051\n",
       "              (https://apibugzilla.suse.com/show_bug.cgi?id=1120051)\n",
       "              \u001b[1mP2 - High\u001b[22m(\u001b[4mNormal\u001b[24m) NEW: xfstests btrfs/131 fails on\n",
       "              4.12.14-25.23-default\n",
       "\n",
       "    •    btrfs-170\n",
       "      \n",
       "          •    poo#39839 (https://progress.opensuse.org/issues/39839)\n",
       "              \u001b[1mP3 - Medium\u001b[22m(\u001b[4mMinor\u001b[24m) RESOLVED: Wireless: cannot enter\n",
       "              ascii keys in wireless network setup\n",
       "      \n",
       "          •    bsc#1120166\n",
       "              (https://apibugzilla.suse.com/show_bug.cgi?id=1120166)\n",
       "              \u001b[1mP2 - High\u001b[22m(\u001b[4mNormal\u001b[24m) NEW: xfstests btrfs/170 fails on\n",
       "              4.12.14-25.23-default\n",
       "\n",
       "    •    generic-388\n",
       "      \n",
       "          •    bsc#1085400\n",
       "              (https://apibugzilla.suse.com/show_bug.cgi?id=1085400)\n",
       "              \u001b[1mP3 - Medium\u001b[22m(\u001b[4mNormal\u001b[24m) IN_PROGRESS: xfstests generic/388\n",
       "              fails with xfs\n",
       "\n",
       "    •    fanotify09\n",
       "      \n",
       "          •    bsc#1110880\n",
       "              (https://apibugzilla.suse.com/show_bug.cgi?id=1110880)\n",
       "              \u001b[1mP5 - None\u001b[22m(\u001b[4mNormal\u001b[24m) NEW: LTP test fanotify09 fails in\n",
       "              SLE12-SP3\n",
       "\n",
       "    •    btrfs-078\n",
       "      \n",
       "          •    bsc#1119089\n",
       "              (https://apibugzilla.suse.com/show_bug.cgi?id=1119089)\n",
       "              \u001b[1mP2 - High\u001b[22m(\u001b[4mNormal\u001b[24m) NEW: xfstests btrfs/078 fails on\n",
       "              4.12.14-25.22-default\n",
       "\n",
       "    •    generic-488\n",
       "      \n",
       "          •    bsc#1111469\n",
       "              (https://apibugzilla.suse.com/show_bug.cgi?id=1111469)\n",
       "              \u001b[1mP3 - Medium\u001b[22m(\u001b[4mNormal\u001b[24m) NEW: generic/488 fails by having\n",
       "              many file descriptors referring to deleted files open on\n",
       "              btrfs\n",
       "\n",
       "    •    generic-263\n",
       "      \n",
       "          •    bsc#1119212\n",
       "              (https://apibugzilla.suse.com/show_bug.cgi?id=1119212)\n",
       "              \u001b[1mP1 - Urgent\u001b[22m(\u001b[4mCritical\u001b[24m) NEW: generic/091 has a regression\n",
       "              fail in xfs\n",
       "\n",
       "    •    generic-513\n",
       "      \n",
       "          •    bsc#1114278\n",
       "              (https://apibugzilla.suse.com/show_bug.cgi?id=1114278)\n",
       "              \u001b[1mP3 - Medium\u001b[22m(\u001b[4mNormal\u001b[24m) NEW: xfstests generic/513 fails in\n",
       "              btrfs\n",
       "\n",
       "    •    fallocate05\n",
       "      \n",
       "          •    bsc#1099134\n",
       "              (https://apibugzilla.suse.com/show_bug.cgi?id=1099134)\n",
       "              \u001b[1mP3 - Medium\u001b[22m(\u001b[4mNormal\u001b[24m) NEW: Btrfs fallocate PUNCH\u001b[4mHOLE |\n",
       "              KEEP\u001b[24mSIZE fails on filled up FS on ppc64le\n",
       "\n",
       "    •    generic-475\n",
       "      \n",
       "          •    bsc#1078009\n",
       "              (https://apibugzilla.suse.com/show_bug.cgi?id=1078009)\n",
       "              \u001b[1mP2 - High\u001b[22m(\u001b[4mNormal\u001b[24m) NEW: btrfs: soft lockup in\n",
       "              __endio\u001b[4mwrite\u001b[24mupdate_ordered via xfstests generic/475\n",
       "      \n",
       "          •    bsc#1120167\n",
       "              (https://apibugzilla.suse.com/show_bug.cgi?id=1120167)\n",
       "              \u001b[1mP2 - High\u001b[22m(\u001b[4mNormal\u001b[24m) NEW: xfstests generic/475 triggered a\n",
       "              Call Trace in BTRFS, kernel BUG at\n",
       "              ../fs/btrfs/extent-tree.c:9906\n",
       "\n",
       "    •    getrlimit03\n",
       "      \n",
       "          •    bsc#1119409\n",
       "              (https://apibugzilla.suse.com/show_bug.cgi?id=1119409)\n",
       "              \u001b[1mP2 - High\u001b[22m(\u001b[4mMinor\u001b[24m) NEW: LTP getrlimit03 test fails on\n",
       "              s390x probably due to returned limit size\n",
       "      \n",
       "          •    poo#44933 (https://progress.opensuse.org/issues/44933)\n",
       "              \u001b[1mP3 - Medium\u001b[22m(\u001b[4mNormal\u001b[24m) RESOLVED: can't downsize ntfs\n",
       "              partition while installation\n",
       "\n",
       "    •    generic-520\n",
       "      \n",
       "          •    bsc#1120173\n",
       "              (https://apibugzilla.suse.com/show_bug.cgi?id=1120173)\n",
       "              \u001b[1mP3 - Medium\u001b[22m(\u001b[4mNormal\u001b[24m) NEW: xfstests generic/520 in btrfs\n",
       "              fails on 4.12.14-25.23-default"
      ]
     },
     "execution_count": 8,
     "metadata": {},
     "output_type": "execute_result"
    }
   ],
   "source": [
    "mdbuf = IOBuffer()\n",
    "\n",
    "for (k, v) in pairs(bugdict)\n",
    "    if isempty(v)\n",
    "        continue\n",
    "    end\n",
    "    \n",
    "    println(mdbuf, \"- \", k)\n",
    "    for (rf, bug) in v\n",
    "        print(mdbuf, \"   * \")\n",
    "        show(mdbuf, MIME(\"text/markdown\"), rf)\n",
    "        print(mdbuf, \" \")\n",
    "        show(mdbuf, MIME(\"text/markdown\"), Bugzilla.to_md(bug))\n",
    "        println(mdbuf)\n",
    "    end\n",
    "    \n",
    "end\n",
    "\n",
    "seek(mdbuf, 0)\n",
    "Markdown.parse(mdbuf)"
   ]
  },
  {
   "cell_type": "markdown",
   "metadata": {},
   "source": [
    "If necessary some tags can be removed"
   ]
  },
  {
   "cell_type": "code",
   "execution_count": 47,
   "metadata": {},
   "outputs": [
    {
     "data": {
      "text/plain": [
       "3-element Array{Any,1}:\n",
       " Set(JDP.BugRefs.Ref[bsc#1119409])\n",
       " Set(JDP.BugRefs.Ref[bsc#1120166])\n",
       " Set(JDP.BugRefs.Ref[])           "
      ]
     },
     "execution_count": 47,
     "metadata": {},
     "output_type": "execute_result"
    }
   ],
   "source": [
    "modded = []\n",
    "\n",
    "for (t, rf) in [\"getrlimit03\" => \"poo#44933\", \n",
    "                \"btrfs-170\" => \"poo#39839\", \n",
    "                \"fanotify09\" => \"bsc#1110880\"]\n",
    "    delete!(tagdict[t], BugRefs.Ref(rf, trackers))\n",
    "    push!(modded, tagdict[t])\n",
    "end\n",
    "\n",
    "modded"
   ]
  },
  {
   "cell_type": "code",
   "execution_count": 43,
   "metadata": {},
   "outputs": [
    {
     "data": {
      "text/plain": [
       "(Set(JDP.BugRefs.Ref[bsc#1119409]), Set(JDP.BugRefs.Ref[bsc#1120166]))"
      ]
     },
     "execution_count": 43,
     "metadata": {},
     "output_type": "execute_result"
    }
   ],
   "source": [
    "tagdict[\"getrlimit03\"], tagdict[\"btrfs-170\"]"
   ]
  },
  {
   "cell_type": "markdown",
   "metadata": {},
   "source": [
    "## Posting back to OpenQA\n",
    "\n",
    "Now we can post the results back to OpenQA. First we create a dictionary of jobs which we will post the bug tags to."
   ]
  },
  {
   "cell_type": "code",
   "execution_count": 48,
   "metadata": {},
   "outputs": [
    {
     "data": {
      "text/plain": [
       "Dict{Any,Any} with 21 entries:\n",
       "  2369906 => Any[\"btrfs-131\"=>bsc#1120051, \"btrfs-139\"=>bsc#1114393]\n",
       "  2369790 => Any[\"btrfs-170\"=>bsc#1120166, \"generic-475\"=>bsc#1120167, \"generic…\n",
       "  2370439 => Any[\"generic-471\"=>bsc#1120171, \"generic-520\"=>bsc#1120173]\n",
       "  2369474 => Any[\"btrfs-170\"=>bsc#1120166, \"generic-475\"=>bsc#1120167, \"generic…\n",
       "  2369479 => Any[\"generic-471\"=>bsc#1120171, \"generic-513\"=>bsc#1114278, \"gener…\n",
       "  2369477 => Any[\"generic-263\"=>bsc#1119212]\n",
       "  2369796 => Any[\"btrfs-170\"=>bsc#1120166, \"generic-475\"=>bsc#1120167, \"generic…\n",
       "  2369475 => Any[\"generic-091\"=>bsc#1119212]\n",
       "  2370492 => Any[\"xfs-348\"=>bsc#1085909]\n",
       "  2370491 => Any[\"btrfs-170\"=>bsc#1120166, \"generic-475\"=>bsc#1120167, \"generic…\n",
       "  2373336 => Any[\"getrlimit03\"=>bsc#1119409]\n",
       "  2369852 => Any[\"fallocate05\"=>bsc#1099134]\n",
       "  2369783 => Any[\"btrfs-131\"=>bsc#1120051, \"btrfs-139\"=>bsc#1114393]\n",
       "  2369905 => Any[\"btrfs-078\"=>bsc#1119089]\n",
       "  2369833 => Any[\"generic-388\"=>bsc#1085400]\n",
       "  2369760 => Any[\"btrfs-171\"=>bsc#1120036, \"btrfs-172\"=>bsc#1114270]\n",
       "  2369791 => Any[\"btrfs-171\"=>bsc#1120036, \"btrfs-172\"=>bsc#1114270]\n",
       "  2369473 => Any[\"btrfs-171\"=>bsc#1120036, \"btrfs-172\"=>bsc#1114270]\n",
       "  2369820 => Any[\"generic-471\"=>bsc#1120171, \"generic-513\"=>bsc#1114278, \"gener…\n",
       "  2369472 => Any[\"btrfs-131\"=>bsc#1120051]\n",
       "  2369788 => Any[\"generic-471\"=>bsc#1120171, \"generic-513\"=>bsc#1114278, \"gener…"
      ]
     },
     "execution_count": 48,
     "metadata": {},
     "output_type": "execute_result"
    }
   ],
   "source": [
    "taggings = Dict()\n",
    "\n",
    "for res in untagged\n",
    "    for rf in tagdict[res.name]\n",
    "        tags = get!(taggings, res.job.id, [])\n",
    "        push!(tags, res.name => rf)\n",
    "    end\n",
    "end\n",
    "        \n",
    "taggings     "
   ]
  },
  {
   "cell_type": "code",
   "execution_count": null,
   "metadata": {},
   "outputs": [],
   "source": [
    "oqa = get_tracker(trackers, \"osd\")\n",
    "ses = Trackers.ensure_login!(oqa)\n",
    "\n",
    "for (jid, refs) in taggings\n",
    "    mdbuf = IOBuffer()\n",
    "    \n",
    "    print(mdbuf, \n",
    "        \"This is an automated message from [JDP](https://gitlab.suse.de/rpalethorpe/jdp)\",\n",
    "        \"<br><br>\",\n",
    "        \"The following bug tags have been propogated: <br>\")\n",
    "    for (name, rf) in refs\n",
    "        print(mdbuf, name, \": \", rf, \"<br>\")\n",
    "    end\n",
    "    \n",
    "    text = String(take!(mdbuf))\n",
    "    \n",
    "    @info \"Posting comment to job $jid: \\n$text\"\n",
    "    OpenQA.post_job_comment(ses, jid, text)\n",
    "end"
   ]
  },
  {
   "cell_type": "markdown",
   "metadata": {},
   "source": [
    "## Failures still missing a tag"
   ]
  },
  {
   "cell_type": "code",
   "execution_count": 52,
   "metadata": {},
   "outputs": [
    {
     "data": {
      "text/plain": [
       "Base.KeySet for a Dict{String,Set{JDP.BugRefs.Ref}} with 78 entries. Keys:\n",
       "  \"btrfs-012\"\n",
       "  \"xfs-189\"\n",
       "  \"trinity\"\n",
       "  \"shutdown_ltp\"\n",
       "  \"generic-320\"\n",
       "  \"xfs-150\"\n",
       "  \"btrfs-122\"\n",
       "  \"xfs-145\"\n",
       "  \"xfs-147\"\n",
       "  \"xfs-059\"\n",
       "  \"xfs-027\"\n",
       "  \"generic-252\"\n",
       "  \"btrfs-152\"\n",
       "  \"xfs-151\"\n",
       "  \"mcast6-group-same-group\"\n",
       "  \"generic-501\"\n",
       "  \"bootloader_zkvm\"\n",
       "  \"xfs-095\"\n",
       "  \"xfs-146\"\n",
       "  \"xfs-087\"\n",
       "  \"xfs-168\"\n",
       "  \"xfs-154\"\n",
       "  \"xfs-075\"\n",
       "  \"xfs-158\"\n",
       "  \"generic-226\"\n",
       "  ⋮"
      ]
     },
     "execution_count": 52,
     "metadata": {},
     "output_type": "execute_result"
    }
   ],
   "source": [
    "filter(kv -> isempty(kv.second), pairs(tagdict)) |> keys"
   ]
  }
 ],
 "metadata": {
  "kernelspec": {
   "display_name": "Julia 1.0.1",
   "language": "julia",
   "name": "julia-1.0"
  },
  "language_info": {
   "file_extension": ".jl",
   "mimetype": "application/julia",
   "name": "julia",
   "version": "1.0.1"
  }
 },
 "nbformat": 4,
 "nbformat_minor": 2
}
