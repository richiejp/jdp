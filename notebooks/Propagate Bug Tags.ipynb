{
 "cells": [
  {
   "cell_type": "code",
   "execution_count": null,
   "metadata": {},
   "outputs": [],
   "source": [
    "# Monitors library source files and recompiles them after most changes\n",
    "import Revise\n",
    "\n",
    "# Run the init script which will setup the JDP project if necessary\n",
    "include(\"../src/init.jl\")\n",
    "\n",
    "using Markdown\n",
    "import Dates: Day\n",
    "\n",
    "# Import some libraries from the JDP project\n",
    "using JDP.BugRefs\n",
    "using JDP.Tracker\n",
    "using JDP.Spammer\n",
    "using JDP.Trackers.OpenQA    # Contains functions for dealing with the OpenQA web API\n",
    "using JDP.Trackers.Bugzilla\n",
    "using JDP.Trackers.Redmine\n",
    "using JDP.Repository\n",
    "using JDP.Functional\n",
    "\n",
    "trackers = load_trackers();\n",
    "\n",
    "args = try\n",
    "    WEAVE_ARGS\n",
    "catch\n",
    "    Dict()\n",
    "end"
   ]
  },
  {
   "cell_type": "code",
   "execution_count": null,
   "metadata": {},
   "outputs": [],
   "source": [
    "product = get(args, \"product\", \"opensuse-Tumbleweed\")\n",
    "dryrun = get(args, \"dryrun\", false)\n",
    "host = get(args, \"host\", \"ooo\")\n",
    "public = get(args, \"public\", false)"
   ]
  },
  {
   "cell_type": "markdown",
   "metadata": {},
   "source": [
    "# Bug Tag Propagation\n",
    "\n",
    "This partially automates copying existing bug tags from one failed test result to another."
   ]
  },
  {
   "cell_type": "markdown",
   "metadata": {},
   "source": [
    "## Find untagged test failures\n",
    "\n",
    "First we fetch the test results from OpenQA."
   ]
  },
  {
   "cell_type": "code",
   "execution_count": null,
   "metadata": {
    "scrolled": true
   },
   "outputs": [],
   "source": [
    "# Get some cached job results from the instance specified by `host`\n",
    "# The final arg limits the number of results which will be loaded\n",
    "allres = Repository.fetch(OpenQA.TestResult, Vector, host, OpenQA.RecentOrInterestingJobsDef)\n",
    "md\"We now have $(length(allres)) test results\""
   ]
  },
  {
   "cell_type": "markdown",
   "metadata": {},
   "source": [
    "Next we find the latest build for product which matches our product filter."
   ]
  },
  {
   "cell_type": "code",
   "execution_count": null,
   "metadata": {},
   "outputs": [],
   "source": [
    "prodbuilds = OpenQA.get_product_builds(filter(r -> occursin(Regex(product), r.product), allres))\n",
    "\n",
    "[p => [b.val for b in Iterators.take(bs, 5)] for (p, bs) in prodbuilds]"
   ]
  },
  {
   "cell_type": "markdown",
   "metadata": {},
   "source": [
    "Then filter the results to only include fails from a particular build with no bug references."
   ]
  },
  {
   "cell_type": "code",
   "execution_count": null,
   "metadata": {
    "scrolled": true
   },
   "outputs": [],
   "source": [
    "untagged = filter(allres) do res\n",
    "    (builds = get(prodbuilds, res.product, nothing)) ≠ nothing &&\n",
    "    first(builds).orig == res.build &&\n",
    "    occursin(r\"failed\", res.result) &&\n",
    "    (isempty(res.refs) || all(rf -> rf.negated, res.refs))\n",
    "end\n",
    "\n",
    "length(untagged)"
   ]
  },
  {
   "cell_type": "markdown",
   "metadata": {},
   "source": [
    "## Find existing bug references for tests\n",
    "\n",
    "Now we search all the test results for bug tags that were added in other builds or architectures."
   ]
  },
  {
   "cell_type": "code",
   "execution_count": null,
   "metadata": {},
   "outputs": [],
   "source": [
    "fqn = OpenQA.get_fqn\n",
    "\n",
    "tagdict = Dict(fqn(res) => Dict{BugRefs.Ref, OpenQA.TestResult}() for res in untagged)\n",
    "\n",
    "for res in allres\n",
    "    if haskey(tagdict, fqn(res)) && length(res.refs) > 0\n",
    "        refs = tagdict[fqn(res)]\n",
    "        \n",
    "        for rf in res.refs\n",
    "            # Negated bugrefs permanently stop a bugref from being used on the same test\n",
    "            if rf.negated\n",
    "                delete!(refs, BugRefs.Ref(rf.tracker, rf.id, false))\n",
    "                refs[rf] = res\n",
    "            elseif !haskey(refs, BugRefs.Ref(rf.tracker, rf.id, true))\n",
    "                refs[rf] = res\n",
    "            end\n",
    "        end\n",
    "    end\n",
    "end\n",
    "\n",
    "# Anti-tags are not propogated for the same reason graveyards don't scale\n",
    "for refs in values(tagdict)\n",
    "    filter!(p -> !p.first.negated, refs)\n",
    "end\n",
    "\n",
    "length(tagdict)"
   ]
  },
  {
   "cell_type": "markdown",
   "metadata": {},
   "source": [
    "Next we fetch the bug data for each bug reference. This allows further filtering."
   ]
  },
  {
   "cell_type": "code",
   "execution_count": null,
   "metadata": {},
   "outputs": [],
   "source": [
    "# Always match for tracker items which don't specify the arch\n",
    "arch_matches(b, arch::String) = true\n",
    "\n",
    "# If a bug doesn't have an arch set or we don't recognise it, then we assume the arch matches\n",
    "function arch_matches(b::Redmine.Bug, arch::String)\n",
    "    arch_tags = filter(in([\"aarch64\", \"ppc64le\", \"x86_64\", \"s390x\"]), Redmine.tags(b))\n",
    "    isempty(arch_tags) || arch in arch_tags\n",
    "end\n",
    "\n",
    "arch_map = Dict(\"x86-64\" => \"x86_64\", \n",
    "                \"aarch64\" => \"aarch64\",\n",
    "                \"PowerPC-64\" => \"ppc64le\",\n",
    "                \"S/390-64\" => \"s390x\")\n",
    "\n",
    "function arch_matches(b::Bugzilla.Bug, arch::String)\n",
    "    !haskey(arch_map, arch) || arch_map[arch] == arch\n",
    "end"
   ]
  },
  {
   "cell_type": "code",
   "execution_count": null,
   "metadata": {},
   "outputs": [],
   "source": [
    "bugdict = Dict(name => Tuple{BugRefs.Ref, Any, OpenQA.TestResult, OpenQA.TestResult}[] for name in keys(tagdict))\n",
    "\n",
    "for res in untagged\n",
    "    for (rf, orig_res) in tagdict[fqn(res)]\n",
    "        bug = Repository.fetch(rf)\n",
    "        \n",
    "        arch_matches(bug, res.arch) || continue\n",
    "        \n",
    "        push!(bugdict[fqn(res)], (rf, bug, res, orig_res))\n",
    "    end\n",
    "end\n",
    "\n",
    "length(bugdict)"
   ]
  },
  {
   "cell_type": "code",
   "execution_count": null,
   "metadata": {},
   "outputs": [],
   "source": [
    "mdbuf = IOBuffer()\n",
    "\n",
    "for (k, v) in pairs(bugdict)\n",
    "    if isempty(v)\n",
    "        continue\n",
    "    end\n",
    "    \n",
    "    println(mdbuf, \"- \", k)\n",
    "    for (rf, bug, res, orig_res) in v\n",
    "        print(mdbuf, \"    * \")\n",
    "        show(mdbuf, MIME(\"text/markdown\"), rf)\n",
    "        print(mdbuf, \" \")\n",
    "        if bug != nothing\n",
    "            show(mdbuf, MIME(\"text/markdown\"), bug)\n",
    "        else\n",
    "            print(mdbuf, \"*no data*\")\n",
    "        end\n",
    "        println(mdbuf)\n",
    "    end\n",
    "    \n",
    "end\n",
    "\n",
    "seek(mdbuf, 0)\n",
    "Markdown.parse(mdbuf)"
   ]
  },
  {
   "cell_type": "markdown",
   "metadata": {},
   "source": [
    "## Posting back to OpenQA\n",
    "\n",
    "Now we can post the results back to OpenQA. We create two sets of tags; one set we will post back as full tags, the other we will post as advisory notices. The advisory notices will not be recognised by OpenQA, or anything else, as legitimate tags."
   ]
  },
  {
   "cell_type": "code",
   "execution_count": null,
   "metadata": {},
   "outputs": [],
   "source": [
    "taggings = Dict()\n",
    "advisory = Dict()\n",
    "\n",
    "advisory_statuses = [\"RESOLVED\", \"Resolved\", \"Feedback\", \"Closed\", \"Rejected\"]\n",
    "\n",
    "for  v = values(bugdict), (rf, bug, res, orig_res) = v\n",
    "    tags = if bug.status in advisory_statuses\n",
    "        get!(advisory, res.job.id, [])\n",
    "    else\n",
    "        get!(taggings, res.job.id, [])\n",
    "    end\n",
    "    \n",
    "    push!(tags, (res, rf, bug, orig_res))\n",
    "end\n",
    "        \n",
    "\"$(length(taggings)) full tags and $(length(advisory)) advisory notices\"     "
   ]
  },
  {
   "cell_type": "code",
   "execution_count": null,
   "metadata": {
    "scrolled": true
   },
   "outputs": [],
   "source": [
    "oqa = get_tracker(trackers, host)\n",
    "ses = Tracker.ensure_login!(oqa)\n",
    "modified_jobs = Set{Int64}()\n",
    "pages_host = public ? \"https://palethorpe.gitlab.io\" : \"https://rpalethorpe.io.suse.de\"\n",
    "\n",
    "if dryrun\n",
    "    @warn \"Nothing will be posted because dryrun is set\"\n",
    "end\n",
    "\n",
    "for (jid, refs) in taggings\n",
    "    mdbuf = IOBuffer()\n",
    "    \n",
    "    print(mdbuf,\n",
    "        \"This is an automated message from the [JDP Propagate Bug Tags]($pages_host/jdp/reports/Propagate%20Bug%20Tags.html) report\",\n",
    "        \"\\n\\n\",\n",
    "        \"The following bug tags have been propagated: \\n\\n\")\n",
    "    for (res, rf, bug, orig_res) in refs\n",
    "        print(mdbuf, \"- `\", res.name, \"`\", rf.negated ? \":\" : \": \", rf)\n",
    "        if rf.negated\n",
    "            print(mdbuf, \" *This is an anti-tag to prevent the following bug being used again*\")\n",
    "        end\n",
    "        print(mdbuf, \" [\")\n",
    "        show(mdbuf, MIME(\"text/markdown\"), bug)\n",
    "        println(mdbuf, \"]\")\n",
    "        print(mdbuf, \"    + From \")\n",
    "        show(mdbuf, MIME(\"text/markdown\"), orig_res)\n",
    "        println(mdbuf)\n",
    "    end\n",
    "    \n",
    "    text = String(take!(mdbuf))\n",
    "    \n",
    "    @info \"Posting comment to job $jid\" text\n",
    "    display(Markdown.parse(text))\n",
    "    if !dryrun\n",
    "        OpenQA.post_job_comment(ses, jid, text)\n",
    "        push!(modified_jobs, jid)\n",
    "    end\n",
    "end\n",
    "\n",
    "for (jid, refs) in advisory\n",
    "    mdbuf = IOBuffer()\n",
    "    \n",
    "    print(mdbuf,\n",
    "        \"This is an automated message from the [JDP Propagate Bug Tags]($pages_host/jdp/reports/Propagate%20Bug%20Tags.html) report\",\n",
    "        \"\\n\\n\",\n",
    "        \"The following tags have not been propagated, but may be of interest: \\n\\n\")\n",
    "    for (res, rf, bug, orig_res) in refs\n",
    "        print(mdbuf, \"- `\", res.name, \"`: \", rf.tracker.tla, \"@\", rf.id, \" [\")\n",
    "        show(mdbuf, MIME(\"text/markdown\"), Repository.fetch(rf))\n",
    "        println(mdbuf, \"]\")\n",
    "        print(mdbuf, \"    + From \")\n",
    "        show(mdbuf, MIME(\"text/markdown\"), orig_res)\n",
    "        println(mdbuf)\n",
    "    end\n",
    "    \n",
    "    text = String(take!(mdbuf))\n",
    "    \n",
    "    @info \"Posting comment to job $jid\" text\n",
    "    display(Markdown.parse(text))\n",
    "    if !dryrun\n",
    "        try\n",
    "            OpenQA.post_job_comment(ses, jid, text)\n",
    "            push!(modified_jobs, jid)\n",
    "        catch error\n",
    "            @error \"Error while trying to post comment\" error\n",
    "        end\n",
    "    end\n",
    "end"
   ]
  },
  {
   "cell_type": "markdown",
   "metadata": {},
   "source": [
    "## Notifications\n",
    "\n",
    "Send out notifications if some tags were propagated."
   ]
  },
  {
   "cell_type": "code",
   "execution_count": null,
   "metadata": {},
   "outputs": [],
   "source": [
    "if !isempty(taggings) || !isempty(untagged)\n",
    "    spam = IOBuffer()\n",
    "    \n",
    "    if !isempty(taggings)\n",
    "        println(spam, length(taggings), \" bug tags propagated on:\")\n",
    "        for (p, bs) in prodbuilds\n",
    "            println(spam, \"  * \", p, \" build \", first(bs).orig)\n",
    "        end\n",
    "    end\n",
    "    \n",
    "    ulen = sum(untagged) do res\n",
    "        haskey(taggings, res.name) ? 0 : 1\n",
    "    end\n",
    "    if ulen > 0\n",
    "        flag_name = \"notify-untagged\"\n",
    "        flag_val = join((first(bs).orig for bs in values(prodbuilds)), \"-\")\n",
    "        if flag_val ≠ Repository.get_temp_flag(flag_name)\n",
    "            println(spam, ulen, \" failing tests are still missing bug tags!\")\n",
    "            Repository.set_temp_flag(flag_name, flag_val, Day(2))\n",
    "        end\n",
    "    end\n",
    "    \n",
    "    if position(spam) > 0\n",
    "        println(spam, \"See the [Propagate Bug Tags]($pages_host/jdp/reports/Propagate%20Bug%20Tags.html) report for details.\")\n",
    "    end    \n",
    "    text = String(take!(spam))\n",
    "    \n",
    "    if dryrun\n",
    "        display(Markdown.parse(text))\n",
    "    elseif !isempty(text)\n",
    "        Spammer.post_message(Spammer.Message(text, [\"rpalethorpe\"]))\n",
    "    end\n",
    "end"
   ]
  },
  {
   "cell_type": "markdown",
   "metadata": {},
   "source": [
    "## Refresh effected jobs\n",
    "\n",
    "Redownload the comments for jobs which we just tried to post to."
   ]
  },
  {
   "cell_type": "code",
   "execution_count": null,
   "metadata": {},
   "outputs": [],
   "source": [
    "let n = length(modified_jobs)\n",
    "    @info \"$host: Refreshing $n job comments\"\n",
    "\n",
    "    for (i, jid) in enumerate(modified_jobs)\n",
    "        @info \"$host: GET job $jid ($i of $n)\"\n",
    "        \n",
    "        comments = try\n",
    "            OpenQA.json_to_comments(OpenQA.get_job_comments(ses, jid))\n",
    "        catch\n",
    "            nothing\n",
    "        end\n",
    "        \n",
    "        if comments != nothing\n",
    "            job = Repository.fetch(OpenQA.JobResult, host, jid)\n",
    "            job.comments = comments\n",
    "            Repository.store(\"$host-job-$(jid)\", job)\n",
    "        end\n",
    "    end\n",
    "end"
   ]
  }
 ],
 "metadata": {
  "kernelspec": {
   "display_name": "Julia 1.1.0",
   "language": "julia",
   "name": "julia-1.1"
  },
  "language_info": {
   "file_extension": ".jl",
   "mimetype": "application/julia",
   "name": "julia",
   "version": "1.1.0"
  }
 },
 "nbformat": 4,
 "nbformat_minor": 2
}
