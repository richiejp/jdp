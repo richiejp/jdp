{
 "cells": [
  {
   "cell_type": "code",
   "execution_count": null,
   "metadata": {},
   "outputs": [],
   "source": [
    "# Monitors library source files and recompiles them after most changes\n",
    "import Revise\n",
    "\n",
    "# Run the init script which will setup the JDP project if necessary\n",
    "include(\"../src/init.jl\")\n",
    "\n",
    "using Markdown\n",
    "import Dates: Day\n",
    "\n",
    "# Import some libraries from the JDP project\n",
    "using JDP.BugRefs\n",
    "using JDP.Tracker\n",
    "using JDP.Spammer\n",
    "using JDP.Trackers.OpenQA    # Contains functions for dealing with the OpenQA web API\n",
    "using JDP.Repository\n",
    "using JDP.Functional\n",
    "\n",
    "trackers = load_trackers();\n",
    "\n",
    "args = try\n",
    "    WEAVE_ARGS\n",
    "catch\n",
    "    Dict()\n",
    "end"
   ]
  },
  {
   "cell_type": "code",
   "execution_count": null,
   "metadata": {},
   "outputs": [],
   "source": [
    "product = get(args, \"product\", \"opensuse-Tumbleweed\")\n",
    "dryrun = get(args, \"dryrun\", false);\n",
    "host = get(args, \"host\", \"ooo\")"
   ]
  },
  {
   "cell_type": "markdown",
   "metadata": {},
   "source": [
    "# Bug Tag Propagation\n",
    "\n",
    "This partially automates copying existing bug tags from one failed test result to another."
   ]
  },
  {
   "cell_type": "markdown",
   "metadata": {},
   "source": [
    "## Find untagged test failures\n",
    "\n",
    "First we fetch the test results from OpenQA."
   ]
  },
  {
   "cell_type": "code",
   "execution_count": null,
   "metadata": {
    "scrolled": true
   },
   "outputs": [],
   "source": [
    "# Get some cached job results from the instance specified by `host`\n",
    "# The final arg limits the number of results which will be loaded\n",
    "allres = Repository.fetch(OpenQA.TestResult, Vector, host, OpenQA.RecentOrInterestingJobsDef)\n",
    "md\"We now have $(length(allres)) test results\""
   ]
  },
  {
   "cell_type": "markdown",
   "metadata": {},
   "source": [
    "Next we find the latest build for product which matches our product filter."
   ]
  },
  {
   "cell_type": "code",
   "execution_count": null,
   "metadata": {},
   "outputs": [],
   "source": [
    "prodbuilds = OpenQA.get_product_builds(filter(r -> occursin(Regex(product), r.product), allres))\n",
    "\n",
    "[p => [b.orig for b in Iterators.take(bs, 5)] for (p, bs) in prodbuilds]"
   ]
  },
  {
   "cell_type": "markdown",
   "metadata": {},
   "source": [
    "Then filter the results to only include fails from a particular build with no bug references."
   ]
  },
  {
   "cell_type": "code",
   "execution_count": null,
   "metadata": {
    "scrolled": true
   },
   "outputs": [],
   "source": [
    "untagged = filter(allres) do res\n",
    "    (builds = get(prodbuilds, res.product, nothing)) ≠ nothing &&\n",
    "    first(builds).orig == res.build &&\n",
    "    occursin(r\"failed\", res.result) &&\n",
    "    (isempty(res.refs) || all(rf -> rf.negated, res.refs))\n",
    "end\n",
    "\n",
    "for res in untagged\n",
    "    display(res)\n",
    "end"
   ]
  },
  {
   "cell_type": "markdown",
   "metadata": {},
   "source": [
    "## Find existing bug references for tests\n",
    "\n",
    "Now we search all the test results for bug tags that were added in other builds or architectures."
   ]
  },
  {
   "cell_type": "code",
   "execution_count": null,
   "metadata": {},
   "outputs": [],
   "source": [
    "fqn = OpenQA.get_fqn\n",
    "\n",
    "tagdict = Dict{String, Set{JDP.BugRefs.Ref}}(fqn(res) => Set() for res in untagged)\n",
    "\n",
    "for res in allres\n",
    "    if haskey(tagdict, fqn(res)) && length(res.refs) > 0\n",
    "        refs = tagdict[fqn(res)]\n",
    "        \n",
    "        for rf in res.refs\n",
    "            # Negated bugrefs permanently stop a bugref from being used on the same test\n",
    "            if rf.negated\n",
    "                delete!(refs, BugRefs.Ref(rf.tracker, rf.id, false))\n",
    "                push!(refs, rf)\n",
    "            elseif !(BugRefs.Ref(rf.tracker, rf.id, true) in refs)\n",
    "                push!(refs, rf)\n",
    "            end\n",
    "        end\n",
    "    end\n",
    "end\n",
    "\n",
    "# Anti-tags are not propogated for the same reason graveyards don't scale\n",
    "for refs in values(tagdict)\n",
    "    filter!(rf -> !rf.negated, refs)\n",
    "end\n",
    "\n",
    "length(tagdict)"
   ]
  },
  {
   "cell_type": "code",
   "execution_count": null,
   "metadata": {
    "scrolled": true
   },
   "outputs": [],
   "source": [
    "filter(p -> !isempty(p[2]), pairs(tagdict))"
   ]
  },
  {
   "cell_type": "markdown",
   "metadata": {},
   "source": [
    "Optionally we can get a summary of the bug tags it has found from Bugzilla, Redmine and any other trackers which we have defined a `Bug` type for."
   ]
  },
  {
   "cell_type": "code",
   "execution_count": null,
   "metadata": {},
   "outputs": [],
   "source": [
    "bugdict = Dict(name => [] for name in keys(tagdict))\n",
    "for (k, v) in pairs(tagdict)\n",
    "    for rf in v\n",
    "        bug = Repository.fetch(rf)\n",
    "        push!(bugdict[k], rf => bug)\n",
    "    end\n",
    "end\n",
    "\n",
    "bugdict"
   ]
  },
  {
   "cell_type": "code",
   "execution_count": null,
   "metadata": {},
   "outputs": [],
   "source": [
    "mdbuf = IOBuffer()\n",
    "\n",
    "for (k, v) in pairs(bugdict)\n",
    "    if isempty(v)\n",
    "        continue\n",
    "    end\n",
    "    \n",
    "    println(mdbuf, \"- \", k)\n",
    "    for (rf, bug) in v\n",
    "        print(mdbuf, \"   * \")\n",
    "        show(mdbuf, MIME(\"text/markdown\"), rf)\n",
    "        print(mdbuf, \" \")\n",
    "        if bug != nothing\n",
    "            show(mdbuf, MIME(\"text/markdown\"), bug)\n",
    "        else\n",
    "            print(mdbuf, \"*no data*\")\n",
    "        end\n",
    "        println(mdbuf)\n",
    "    end\n",
    "    \n",
    "end\n",
    "\n",
    "seek(mdbuf, 0)\n",
    "Markdown.parse(mdbuf)"
   ]
  },
  {
   "cell_type": "markdown",
   "metadata": {},
   "source": [
    "## Manual additions and removals\n",
    "\n",
    "If necessary some tags can be removed, although you should generally use anti-tags or modify the search algorithm."
   ]
  },
  {
   "cell_type": "code",
   "execution_count": null,
   "metadata": {},
   "outputs": [],
   "source": [
    "modded = []\n",
    "\n",
    "for (t, rf) in []\n",
    "    if haskey(tagdict, t)\n",
    "        delete!(tagdict[t], BugRefs.Ref(rf, trackers))\n",
    "        push!(modded, t => tagdict[t])\n",
    "    end\n",
    "end\n",
    "\n",
    "modded"
   ]
  },
  {
   "cell_type": "markdown",
   "metadata": {},
   "source": [
    "While others can be added, which may be quicker than commenting directly on OpenQA or implementing some new tagging logic."
   ]
  },
  {
   "cell_type": "code",
   "execution_count": null,
   "metadata": {},
   "outputs": [],
   "source": [
    "modded = []\n",
    "\n",
    "for (t, rf) in []\n",
    "    if haskey(tagdict, t)\n",
    "        delete!(tagdict[t], BugRefs.Ref(rf[1], trackers, !rf[2]))\n",
    "        push!(tagdict[t], BugRefs.Ref(rf[1], trackers, rf[2]))\n",
    "        push!(modded, t => tagdict[t])\n",
    "    end\n",
    "end\n",
    "\n",
    "modded"
   ]
  },
  {
   "cell_type": "markdown",
   "metadata": {},
   "source": [
    "## Posting back to OpenQA\n",
    "\n",
    "Now we can post the results back to OpenQA. First we create a dictionary of jobs which we will post the bug tags to."
   ]
  },
  {
   "cell_type": "code",
   "execution_count": null,
   "metadata": {},
   "outputs": [],
   "source": [
    "taggings = Dict()\n",
    "\n",
    "for res in untagged\n",
    "    for rf in tagdict[fqn(res)]\n",
    "        tags = get!(taggings, res.job.id, [])\n",
    "        push!(tags, res => rf)\n",
    "    end\n",
    "end\n",
    "        \n",
    "taggings     "
   ]
  },
  {
   "cell_type": "code",
   "execution_count": null,
   "metadata": {
    "scrolled": false
   },
   "outputs": [],
   "source": [
    "oqa = get_tracker(trackers, host)\n",
    "ses = Tracker.ensure_login!(oqa)\n",
    "modified_jobs = Set{Int64}()\n",
    "\n",
    "if dryrun\n",
    "    @warn \"Nothing will be posted because dryrun is set\"\n",
    "end\n",
    "\n",
    "for (jid, refs) in taggings\n",
    "    mdbuf = IOBuffer()\n",
    "    \n",
    "    print(mdbuf,\n",
    "        \"This is an automated message from the [JDP Propagate Bug Tags](https://rpalethorpe.io.suse.de/jdp/reports/Propagate%20Bug%20Tags.html) report\",\n",
    "        \"<br><br>\",\n",
    "        \"The following bug tags have been propagated: <br>\")\n",
    "    for (res, rf) in refs\n",
    "        print(mdbuf, res.name, rf.negated ? \":\" : \": \", rf)\n",
    "        if rf.negated\n",
    "            print(mdbuf, \" *This is an anti-tag to prevent the following bug being used again* <br>\")\n",
    "        end\n",
    "        print(mdbuf, \" [\")\n",
    "        show(mdbuf, MIME(\"text/markdown\"), Repository.fetch(rf))\n",
    "        print(mdbuf, \"] <br>\")\n",
    "    end\n",
    "    \n",
    "    text = String(take!(mdbuf))\n",
    "    \n",
    "    @info \"Posting comment to job $jid\" text\n",
    "    display(Markdown.parse(text))\n",
    "    if !dryrun\n",
    "        OpenQA.post_job_comment(ses, jid, text)\n",
    "        push!(modified_jobs, jid)\n",
    "    end\n",
    "end"
   ]
  },
  {
   "cell_type": "markdown",
   "metadata": {},
   "source": [
    "## Notifications\n",
    "\n",
    "Send out notifications if some tags were propagated."
   ]
  },
  {
   "cell_type": "code",
   "execution_count": null,
   "metadata": {},
   "outputs": [],
   "source": [
    "if !isempty(taggings) || !isempty(untagged)\n",
    "    spam = IOBuffer()\n",
    "    \n",
    "    if !isempty(taggings)\n",
    "        println(spam, length(taggings), \" bug tags propagated on:\")\n",
    "        for (p, bs) in prodbuilds\n",
    "            println(spam, \"  * \", p, \" build \", first(bs).orig)\n",
    "        end\n",
    "    end\n",
    "    \n",
    "    ulen = sum(untagged) do res\n",
    "        haskey(taggings, res.name) ? 0 : 1\n",
    "    end\n",
    "    if ulen > 0\n",
    "        flag_name = \"notify-untagged\"\n",
    "        flag_val = join((first(bs).orig for bs in values(prodbuilds)), \"-\")\n",
    "        if flag_val ≠ Repository.get_temp_flag(flag_name)\n",
    "            println(spam, ulen, \" failing tests are still missing bug tags!\")\n",
    "            Repository.set_temp_flag(flag_name, flag_val, Day(2))\n",
    "        end\n",
    "    end\n",
    "    \n",
    "    if position(spam) > 0\n",
    "        println(spam, \"See the [Propagate Bug Tags](https://rpalethorpe.io.suse.de/jdp/reports/Propagate%20Bug%20Tags.html) report for details.\")\n",
    "    end    \n",
    "    text = String(take!(spam))\n",
    "    \n",
    "    if dryrun\n",
    "        display(Markdown.parse(text))\n",
    "    elseif !isempty(text)\n",
    "        Spammer.post_message(Spammer.Message(text, [\"rpalethorpe\"]))\n",
    "    end\n",
    "end"
   ]
  },
  {
   "cell_type": "markdown",
   "metadata": {},
   "source": [
    "## Refresh effected jobs\n",
    "\n",
    "Redownload the comments for jobs which we just tried to post to."
   ]
  },
  {
   "cell_type": "code",
   "execution_count": null,
   "metadata": {},
   "outputs": [],
   "source": [
    "let n = length(modified_jobs)\n",
    "    @info \"$host: Refreshing $n job comments\"\n",
    "\n",
    "    for (i, jid) in enumerate(modified_jobs)\n",
    "        @info \"$host: GET job $jid ($i of $n)\"\n",
    "        \n",
    "        comments = try\n",
    "            OpenQA.json_to_comments(OpenQA.get_job_comments(ses, jid))\n",
    "        catch\n",
    "            nothing\n",
    "        end\n",
    "        \n",
    "        if comments != nothing\n",
    "            job = Repository.fetch(OpenQA.JobResult, host, jid)\n",
    "            job.comments = comments\n",
    "            Repository.store(\"$host-job-$(jid)\", job)\n",
    "        end\n",
    "    end\n",
    "end"
   ]
  }
 ],
 "metadata": {
  "kernelspec": {
   "display_name": "Julia 1.1.0",
   "language": "julia",
   "name": "julia-1.1"
  },
  "language_info": {
   "file_extension": ".jl",
   "mimetype": "application/julia",
   "name": "julia",
   "version": "1.1.0"
  }
 },
 "nbformat": 4,
 "nbformat_minor": 2
}
