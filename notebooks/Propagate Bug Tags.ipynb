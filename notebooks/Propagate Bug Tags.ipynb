{
 "cells": [
  {
   "cell_type": "code",
   "execution_count": null,
   "metadata": {},
   "outputs": [],
   "source": [
    "# Monitors library source files and recompiles them after most changes\n",
    "import Revise\n",
    "\n",
    "# Run the init script which will setup the JDP project if necessary\n",
    "include(\"../src/init.jl\")\n",
    "\n",
    "using Markdown\n",
    "\n",
    "# Import some libraries from the JDP project\n",
    "using JDP.BugRefs\n",
    "using JDP.Tracker\n",
    "using JDP.Trackers.OpenQA    # Contains functions for dealing with the OpenQA web API\n",
    "using JDP.Trackers.Bugzilla  # Functions for accessing the Bugzilla API(s)\n",
    "using JDP.Repository\n",
    "using JDP.Functional\n",
    "\n",
    "trackers = load_trackers();"
   ]
  },
  {
   "cell_type": "markdown",
   "metadata": {},
   "source": [
    "# Bug Tag Propagation\n",
    "\n",
    "This partially automates copying existing bug tags from one failed test result to another."
   ]
  },
  {
   "cell_type": "markdown",
   "metadata": {},
   "source": [
    "## Find untagged test failures\n",
    "\n",
    "First we fetch the test results from OpenQA."
   ]
  },
  {
   "cell_type": "code",
   "execution_count": null,
   "metadata": {},
   "outputs": [],
   "source": [
    "OpenQA.refresh_comments(job -> job.vars[\"BUILD\"] == \"158.4\", \"osd\")"
   ]
  },
  {
   "cell_type": "code",
   "execution_count": null,
   "metadata": {
    "scrolled": true
   },
   "outputs": [],
   "source": [
    "# Get some job results from the openqa.suse.de (osd) OpenQA instance.\n",
    "# Optional arguments (after the ';') like 'groupid' are passed to the OpenQA API\n",
    "allres = Repository.fetch(OpenQA.TestResult, Vector, \"osd\"; refresh=false, groupid=116)"
   ]
  },
  {
   "cell_type": "markdown",
   "metadata": {},
   "source": [
    "Then filter the results to only include fails from a particular build with no bug references."
   ]
  },
  {
   "cell_type": "code",
   "execution_count": null,
   "metadata": {
    "scrolled": true
   },
   "outputs": [],
   "source": [
    "build = \"158.4\"\n",
    "\n",
    "untagged = filter(allres) do res\n",
    "    res.build == build &&\n",
    "    occursin(r\"failed\", res.result) &&\n",
    "    (isempty(res.refs) || all(rf -> rf.negated, res.refs))\n",
    "end\n",
    "\n",
    "for res in untagged\n",
    "    display(res)\n",
    "end"
   ]
  },
  {
   "cell_type": "markdown",
   "metadata": {},
   "source": [
    "## Find existing bug references for tests\n",
    "\n",
    "Now we search all the test results for bug tags that were added in other builds or architectures."
   ]
  },
  {
   "cell_type": "code",
   "execution_count": null,
   "metadata": {},
   "outputs": [],
   "source": [
    "fqn = OpenQA.get_fqn\n",
    "\n",
    "tagdict = Dict{String, Set{JDP.BugRefs.Ref}}(fqn(res) => Set() for res in untagged)\n",
    "\n",
    "for res in allres\n",
    "    if haskey(tagdict, fqn(res)) && length(res.refs) > 0\n",
    "        refs = tagdict[fqn(res)]\n",
    "        \n",
    "        for rf in res.refs\n",
    "            # Negated bugrefs premenently stop a bugref from being used on the same test\n",
    "            if rf.negated\n",
    "                delete!(refs, BugRefs.Ref(rf.tracker, rf.id, false))\n",
    "                push!(refs, rf)\n",
    "            elseif !(BugRefs.Ref(rf.tracker, rf.id, true) in refs)\n",
    "                push!(refs, rf)\n",
    "            end\n",
    "        end\n",
    "    end\n",
    "end\n",
    "\n",
    "length(tagdict)"
   ]
  },
  {
   "cell_type": "code",
   "execution_count": null,
   "metadata": {
    "scrolled": true
   },
   "outputs": [],
   "source": [
    "filter(p -> !isempty(p[2]), pairs(tagdict))"
   ]
  },
  {
   "cell_type": "markdown",
   "metadata": {},
   "source": [
    "Optionally we can get a summary of the bug tags it has found from Bugzilla.\n",
    "\n",
    "> TODO: look on Progress instead for poo refs"
   ]
  },
  {
   "cell_type": "code",
   "execution_count": null,
   "metadata": {},
   "outputs": [],
   "source": [
    "bugdict = Dict(name => [] for name in keys(tagdict))\n",
    "for (k, v) in pairs(tagdict)\n",
    "    for rf in v\n",
    "        bug = Repository.fetch(Bugzilla.Bug, rf)\n",
    "        if bug != nothing\n",
    "            push!(bugdict[k], rf => bug)\n",
    "        end\n",
    "    end\n",
    "end\n",
    "\n",
    "bugdict"
   ]
  },
  {
   "cell_type": "code",
   "execution_count": null,
   "metadata": {},
   "outputs": [],
   "source": [
    "mdbuf = IOBuffer()\n",
    "\n",
    "for (k, v) in pairs(bugdict)\n",
    "    if isempty(v)\n",
    "        continue\n",
    "    end\n",
    "    \n",
    "    println(mdbuf, \"- \", k)\n",
    "    for (rf, bug) in v\n",
    "        print(mdbuf, \"   * \")\n",
    "        show(mdbuf, MIME(\"text/markdown\"), rf)\n",
    "        print(mdbuf, \" \")\n",
    "        show(mdbuf, MIME(\"text/markdown\"), bug)\n",
    "        println(mdbuf)\n",
    "    end\n",
    "    \n",
    "end\n",
    "\n",
    "seek(mdbuf, 0)\n",
    "Markdown.parse(mdbuf)"
   ]
  },
  {
   "cell_type": "markdown",
   "metadata": {},
   "source": [
    "## Manual additions and removals\n",
    "\n",
    "If necessary some tags can be removed, although you should generally use anti-tags or modify the search algorithm."
   ]
  },
  {
   "cell_type": "code",
   "execution_count": null,
   "metadata": {},
   "outputs": [],
   "source": [
    "modded = []\n",
    "\n",
    "for (t, rf) in [\"fstests-btrfs-generic-521\" => \"bsc#1119212\", \n",
    "                \"fstests-btrfs-generic-263\" => \"bsc#1119212\",\n",
    "                \"fstests-btrfs-generic-091\" => \"bsc#1119212\",\n",
    "                \"LTP-syscalls-fanotify09\" => \"bsc#1110880\"]\n",
    "    if haskey(tagdict, t)\n",
    "        delete!(tagdict[t], BugRefs.Ref(rf, trackers))\n",
    "        push!(modded, tagdict[t])\n",
    "    end\n",
    "end\n",
    "\n",
    "modded"
   ]
  },
  {
   "cell_type": "markdown",
   "metadata": {},
   "source": [
    "While others can be added, which may be quicker than commenting directly on OpenQA or implementing some new tagging logic."
   ]
  },
  {
   "cell_type": "markdown",
   "metadata": {},
   "source": [
    "## Posting back to OpenQA\n",
    "\n",
    "Now we can post the results back to OpenQA. First we create a dictionary of jobs which we will post the bug tags to."
   ]
  },
  {
   "cell_type": "code",
   "execution_count": null,
   "metadata": {},
   "outputs": [],
   "source": [
    "taggings = Dict()\n",
    "\n",
    "for res in untagged\n",
    "    for rf in tagdict[fqn(res)]\n",
    "        if rf.tracker.tla != \"poo\"\n",
    "            tags = get!(taggings, res.job.id, [])\n",
    "            push!(tags, res.name => rf)\n",
    "        end\n",
    "    end\n",
    "end\n",
    "        \n",
    "taggings     "
   ]
  },
  {
   "cell_type": "code",
   "execution_count": null,
   "metadata": {},
   "outputs": [],
   "source": [
    "oqa = get_tracker(trackers, \"osd\")\n",
    "ses = Tracker.ensure_login!(oqa)\n",
    "\n",
    "for (jid, refs) in taggings\n",
    "    mdbuf = IOBuffer()\n",
    "    \n",
    "    print(mdbuf, \n",
    "        \"This is an automated message from [JDP](https://gitlab.suse.de/rpalethorpe/jdp)\",\n",
    "        \"<br><br>\",\n",
    "        \"The following bug tags have been propogated: <br>\")\n",
    "    for (name, rf) in refs\n",
    "        print(mdbuf, name, \": \", rf, \"<br>\")\n",
    "    end\n",
    "    \n",
    "    print(mdbuf, \"<br>This superscedes any (Automatic takeover from t#...) messages\")\n",
    "    text = String(take!(mdbuf))\n",
    "    \n",
    "    @info \"Posting comment to job $jid: \\n$text\"\n",
    "    OpenQA.post_job_comment(ses, jid, text)\n",
    "end"
   ]
  },
  {
   "cell_type": "markdown",
   "metadata": {},
   "source": [
    "## Failures still missing a tag"
   ]
  },
  {
   "cell_type": "code",
   "execution_count": null,
   "metadata": {},
   "outputs": [],
   "source": [
    "filter(kv -> isempty(kv.second), pairs(tagdict)) |> keys"
   ]
  }
 ],
 "metadata": {
  "kernelspec": {
   "display_name": "Julia 1.0.3",
   "language": "julia",
   "name": "julia-1.0"
  },
  "language_info": {
   "file_extension": ".jl",
   "mimetype": "application/julia",
   "name": "julia",
   "version": "1.0.3"
  }
 },
 "nbformat": 4,
 "nbformat_minor": 2
}
