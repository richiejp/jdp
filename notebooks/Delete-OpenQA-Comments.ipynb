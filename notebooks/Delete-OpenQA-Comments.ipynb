{
 "cells": [
  {
   "cell_type": "code",
   "execution_count": null,
   "metadata": {},
   "outputs": [],
   "source": [
    "# Monitors library source files and recompiles them after most changes\n",
    "import Revise\n",
    "\n",
    "# Run the init script which will setup the JDP project if necessary\n",
    "include(\"../src/init.jl\")\n",
    "\n",
    "using Markdown\n",
    "\n",
    "# Import some libraries from the JDP project\n",
    "using JDP.BugRefs\n",
    "using JDP.Tracker\n",
    "using JDP.Trackers.OpenQA    # Contains functions for dealing with the OpenQA web API\n",
    "using JDP.Trackers.Bugzilla  # Functions for accessing the Bugzilla API(s)\n",
    "using JDP.Repository\n",
    "using JDP.Functional"
   ]
  },
  {
   "cell_type": "markdown",
   "metadata": {},
   "source": [
    "# Deleting OpenQA comments\n",
    "\n",
    "This workbook demonstrates deleting OpenQA comments programatically\n",
    "\n",
    "## Refreshing/Getting the data\n",
    "\n",
    "We can choose to refresh the comments based on some arbitrary filter. Comments are refreshed on a per job basis."
   ]
  },
  {
   "cell_type": "code",
   "execution_count": null,
   "metadata": {},
   "outputs": [],
   "source": [
    "build = \"188.1\"\n",
    "    \n",
    "OpenQA.refresh_comments(job -> job.vars[\"BUILD\"] == build, \"osd\")"
   ]
  },
  {
   "cell_type": "markdown",
   "metadata": {},
   "source": [
    "Then we get all the jobs"
   ]
  },
  {
   "cell_type": "code",
   "execution_count": null,
   "metadata": {},
   "outputs": [],
   "source": [
    "alljobs = Repository.fetch(OpenQA.JobResult, Vector, \"osd\")\n",
    "md\"We now have $(length(allres)) job results\""
   ]
  },
  {
   "cell_type": "markdown",
   "metadata": {},
   "source": [
    "## Choosing which comments to delete\n",
    "\n",
    "Now we have a vector of `JobResult` structs"
   ]
  },
  {
   "cell_type": "code",
   "execution_count": null,
   "metadata": {},
   "outputs": [],
   "source": [
    "@doc OpenQA.JobResult"
   ]
  },
  {
   "cell_type": "markdown",
   "metadata": {},
   "source": [
    "We can filter this in a number of stages, narrowing it down to just the jobs containing comments we care about"
   ]
  },
  {
   "cell_type": "code",
   "execution_count": null,
   "metadata": {},
   "outputs": [],
   "source": [
    "jobs = filter(alljobs) do job\n",
    "    job.vars[\"BUILD\"] == build\n",
    "end"
   ]
  },
  {
   "cell_type": "code",
   "execution_count": null,
   "metadata": {},
   "outputs": [],
   "source": [
    "jobs = filter(jobs) do job\n",
    "    !isempty(job.comments)\n",
    "end"
   ]
  },
  {
   "cell_type": "markdown",
   "metadata": {},
   "source": [
    "Before doing further filtering we can project the comments into a new, flattened, array. This just makes the next stage of filtering easier because we are not dealing with a nested structure."
   ]
  },
  {
   "cell_type": "code",
   "execution_count": null,
   "metadata": {},
   "outputs": [],
   "source": [
    "coms = (((job.id, comment) for comment in job.comments) for job in jobs) |> \n",
    "    Iterators.flatten |>\n",
    "    collect\n",
    "    "
   ]
  },
  {
   "cell_type": "markdown",
   "metadata": {},
   "source": [
    "Then we find filter the comments to only those starting with `label:linked` and display them to do a sanity check."
   ]
  },
  {
   "cell_type": "code",
   "execution_count": null,
   "metadata": {},
   "outputs": [],
   "source": [
    "todel = filter(coms) do (id, com)\n",
    "    startswith(com.text, \"label:linked\")\n",
    "end\n",
    "\n",
    "for (id, com) in todel\n",
    "    display(md\"## Comment $(com.id) on $id by $(com.author)\")\n",
    "    display(Markdown.parse(com.text))\n",
    "end"
   ]
  },
  {
   "cell_type": "markdown",
   "metadata": {},
   "source": [
    "## Deleting the comments\n",
    "\n",
    "Finally we actually delete them."
   ]
  },
  {
   "cell_type": "code",
   "execution_count": null,
   "metadata": {},
   "outputs": [],
   "source": [
    "oqa = get_tracker(load_trackers(), \"osd\")\n",
    "ses = Tracker.ensure_login!(oqa)\n",
    "\n",
    "for (id, com) in todel\n",
    "    @info \"Deleting $(com.id)\"\n",
    "    OpenQA.delete_job_comment(ses, id, com.id)\n",
    "end"
   ]
  }
 ],
 "metadata": {
  "kernelspec": {
   "display_name": "Julia 1.0.3",
   "language": "julia",
   "name": "julia-1.0"
  },
  "language_info": {
   "file_extension": ".jl",
   "mimetype": "application/julia",
   "name": "julia",
   "version": "1.0.3"
  }
 },
 "nbformat": 4,
 "nbformat_minor": 2
}
