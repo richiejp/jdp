{
 "cells": [
  {
   "cell_type": "markdown",
   "metadata": {
    "ein.tags": "worksheet-0",
    "slideshow": {
     "slide_type": "-"
    }
   },
   "source": [
    "# Test Results Review Report\n",
    "\n",
    "This is supposed to help create the milestone report for now and eventuall generate it automatically. It is an interactive Jupyter document (or a static view of such a document) containing Julia code segments and their output. It is part of the JDP project which aims to create an *easily accessible* system for exploring test results and automating *arbitrary* workflows. Notebooks such as these are intended to provide an easy starting point for engineers and other technical users to create their own reports, possibly just by tweaking the existing ones.\n",
    "\n",
    "Eventually this workbook should be easily installable locally or accessible from some remote location with zero knowledge of Julia or Jupyter. However right now it is not, but you can still try by visiting: https://github.com/richiejp/jdp.\n",
    "\n",
    "Obviously you can also access the library from a REPL or use it in a traditional script or application, but Jupyter provides a nice, persistent, graphical environment. I won't discuss how to use Jupyter in this notebook (just click on help at the top), but will heavily annotate the code.\n",
    "\n",
    "## Setup\n",
    "\n",
    "First we need to load the JDP library which does the heavy lifting; importing and transforming the test result data from OpenQA into something useable. Note that this assumes you started this notebook by running `julia src/notebook.jl`.\n",
    "\n",
    "> NOTE: It is required that you run this cell before the code cells following it. However not all of the cells need to be executed in order.\n",
    "\n",
    "You may see a bunch of horrible angry red text when running this. Unfortunately this could either be info messages or error messages from the logging system, Jupyter treats both to a red background."
   ]
  },
  {
   "cell_type": "code",
   "execution_count": 3,
   "metadata": {
    "autoscroll": false,
    "ein.hycell": false,
    "ein.tags": "worksheet-0",
    "scrolled": true,
    "slideshow": {
     "slide_type": "-"
    }
   },
   "outputs": [
    {
     "name": "stderr",
     "output_type": "stream",
     "text": [
      "┌ Info: Activating JDP package at /home/rich/julia/jdp/\n",
      "└ @ Main /home/rich/julia/jdp/src/init.jl:5\n",
      "┌ Info: Precompiling JDP [6d7e372e-c0bd-11e8-2b07-216b8359d694]\n",
      "└ @ Base loading.jl:1186\n"
     ]
    }
   ],
   "source": [
    "# Monitors library source files and recompiles them after most changes\n",
    "import Revise\n",
    "\n",
    "# Run the init script which will setup the JDP project if necessary\n",
    "include(\"../src/init.jl\")\n",
    "\n",
    "# Bring DataFrame's _members_ into our namespace, so we can call them directly\n",
    "using DataFrames\n",
    "\n",
    "# Import some libraries from the JDP project\n",
    "using JDP.Conf\n",
    "using JDP.Trackers.OpenQA    # Contains functions for dealing with the OpenQA web API\n",
    "using JDP.Trackers.Bugzilla  # Functions for accessing the Bugzilla API(s)\n",
    "using JDP.Repository\n"
   ]
  },
  {
   "cell_type": "markdown",
   "metadata": {
    "ein.tags": "worksheet-0",
    "slideshow": {
     "slide_type": "-"
    }
   },
   "source": [
    "> NOTE: Julia has a _very_ strong type system, but we can still assign variables like a dynamic language. For library code it is generally a good idea to explicitly state what types you are expecting, but in Notebook code we can just let the compiler guess the type."
   ]
  },
  {
   "cell_type": "markdown",
   "metadata": {
    "ein.tags": "worksheet-0",
    "slideshow": {
     "slide_type": "-"
    }
   },
   "source": [
    "Next we may download some new results for a given build or builds to our local cache. This usually takes a long time, hence why there is a local cache. The results are then loaded into a `DataFrame` object. Alternatively you can specify `Vector` as the second argument, in which case you will get an array of `TestResult` objects."
   ]
  },
  {
   "cell_type": "code",
   "execution_count": null,
   "metadata": {
    "autoscroll": false,
    "ein.hycell": false,
    "ein.tags": "worksheet-0",
    "scrolled": true,
    "slideshow": {
     "slide_type": "-"
    }
   },
   "outputs": [],
   "source": [
    "# Get some job results from the openqa.suse.de (osd) OpenQA instance.\n",
    "# Optional arguments (after the ';') like 'build' and 'groupid' are passed to the OpenQA API\n",
    "df = Repository.fetch(OpenQA.TestResult, DataFrame, \"osd\"; refresh=false, groupid=116)"
   ]
  },
  {
   "cell_type": "markdown",
   "metadata": {
    "ein.tags": "worksheet-0",
    "slideshow": {
     "slide_type": "-"
    }
   },
   "source": [
    "The function `describe` from the DataFrames package gives us some stats and information about the structure of the loaded data."
   ]
  },
  {
   "cell_type": "code",
   "execution_count": 3,
   "metadata": {
    "autoscroll": false,
    "ein.hycell": false,
    "ein.tags": "worksheet-0",
    "slideshow": {
     "slide_type": "-"
    }
   },
   "outputs": [
    {
     "data": {
      "text/html": [
       "<table class=\"data-frame\"><thead><tr><th></th><th>variable</th><th>nunique</th><th>min</th><th>max</th><th>eltype</th></tr><tr><th></th><th>Symbol</th><th>Int64</th><th>Any</th><th>Any</th><th>DataType</th></tr></thead><tbody><p>7 rows × 5 columns</p><tr><th>1</th><td>name</td><td>6401</td><td>1_autotest</td><td>zram03</td><td>String</td></tr><tr><th>2</th><td>suit</td><td>67</td><td>[\"LTP\", \"can\"]</td><td>[\"fstests\", \"xfs-xfs\"]</td><td>Array{String,1}</td></tr><tr><th>3</th><td>product</td><td>6</td><td>Unknown</td><td>sle-15-SP1-Installer-DVD</td><td>String</td></tr><tr><th>4</th><td>build</td><td>139</td><td>0250</td><td>98.1</td><td>String</td></tr><tr><th>5</th><td>result</td><td>6</td><td>canceled</td><td>softfailed</td><td>String</td></tr><tr><th>6</th><td>arch</td><td>4</td><td>aarch64</td><td>x86_64</td><td>String</td></tr><tr><th>7</th><td>refs</td><td>57</td><td></td><td></td><td>Array{Ref,1}</td></tr></tbody></table>"
      ],
      "text/plain": [
       "7×5 DataFrame. Omitted printing of 1 columns\n",
       "│ Row │ variable │ nunique │ min            │ max                      │\n",
       "│     │ \u001b[90mSymbol\u001b[39m   │ \u001b[90mInt64\u001b[39m   │ \u001b[90mAny\u001b[39m            │ \u001b[90mAny\u001b[39m                      │\n",
       "├─────┼──────────┼─────────┼────────────────┼──────────────────────────┤\n",
       "│ 1   │ name     │ 6401    │ 1_autotest     │ zram03                   │\n",
       "│ 2   │ suit     │ 67      │ [\"LTP\", \"can\"] │ [\"fstests\", \"xfs-xfs\"]   │\n",
       "│ 3   │ product  │ 6       │ Unknown        │ sle-15-SP1-Installer-DVD │\n",
       "│ 4   │ build    │ 139     │ 0250           │ 98.1                     │\n",
       "│ 5   │ result   │ 6       │ canceled       │ softfailed               │\n",
       "│ 6   │ arch     │ 4       │ aarch64        │ x86_64                   │\n",
       "│ 7   │ refs     │ 57      │                │                          │"
      ]
     },
     "execution_count": 3,
     "metadata": {},
     "output_type": "execute_result"
    }
   ],
   "source": [
    "describe(df, stats = [:nunique, :min, :max, :eltype])"
   ]
  },
  {
   "cell_type": "markdown",
   "metadata": {
    "ein.tags": "worksheet-0",
    "slideshow": {
     "slide_type": "-"
    }
   },
   "source": [
    "Look at the pretty table! We can also display graphs which could be even more delightful. Unfortunately it is slightly less pretty if you are viewing this as a static page."
   ]
  },
  {
   "cell_type": "markdown",
   "metadata": {
    "ein.tags": "worksheet-0",
    "slideshow": {
     "slide_type": "-"
    }
   },
   "source": [
    "## Failed tests for build\n",
    "\n",
    "Let's look at what tests failed for a given build. First we need to filter out passed test results and results from other builds. Then we can group the results by test name and suit, amalgamating some of the columns to make the table easier to view. Filter is fairly simple, but the grouping is a bit more complex and there is a bit of Julia magic, see [Split-Apply-Combine](http://juliadata.github.io/DataFrames.jl/stable/man/split_apply_combine.html) for help.\n",
    "\n",
    "> NOTE: Packages such as QUERY.jl allow one to use an SQL like syntax which is probably a lot easier to understand for most people."
   ]
  },
  {
   "cell_type": "code",
   "execution_count": 4,
   "metadata": {
    "autoscroll": false,
    "ein.hycell": false,
    "ein.tags": "worksheet-0",
    "slideshow": {
     "slide_type": "-"
    }
   },
   "outputs": [
    {
     "data": {
      "text/plain": [
       "\"125 tests failed this build\""
      ]
     },
     "execution_count": 4,
     "metadata": {},
     "output_type": "execute_result"
    }
   ],
   "source": [
    "build = \"136.2\"\n",
    "\n",
    "# The syntax \"var -> expr\" is an anonymous function, strings starting with 'r' are regexs.\n",
    "# In Julia you don't need to write 'return' (unless you want to return early), most \n",
    "# statements return whatever the value of the final expression is\n",
    "fails = filter(r -> r.build == build && occursin(r\"failed\", r[:result]), df)\n",
    "\n",
    "# group by name then apply the function defined by `do r ...` to each group\n",
    "# Putting `do r` after `by` is like writing `by(r -> ...`. i.e. `do r` defines a function\n",
    "# and passes it as the first argument to `by`.\n",
    "fails_by_name = by(fails, [:name, :suit]) do r\n",
    "    # 'by' first groups the results by name and suit then passes each group to us in the variable 'r'\n",
    "    # we then use 'r' to produce a new DataFrame containing a single row. We return the new DataFrames \n",
    "    # and `by` then combines them... at least I think that is what happpens.\n",
    "    DataFrame(\n",
    "        # We have to write [] otherwise DataFrame creates a multi-row result (because r.result is an array)\n",
    "        result = [unique(r.result)],\n",
    "        arch = [unique(r.arch)],\n",
    "        # Three dots `...` 'splats' an array (or tuple) into multiple function arguments \n",
    "        # and `vcat` concatenates it's arguments together\n",
    "        refs = [filter(br -> br.tracker.api == nothing || br.tracker.api.name != \"OpenQA\", \n",
    "                          vcat(r.refs...)) |> unique]\n",
    "        # also, and don't panic if this is a little more difficult to understand, \n",
    "        # 'unique' removes duplicate elements from a collection\n",
    "    )\n",
    "end\n",
    "\n",
    "\"$(nrow(fails_by_name)) tests failed this build\""
   ]
  },
  {
   "cell_type": "code",
   "execution_count": 5,
   "metadata": {
    "autoscroll": false,
    "ein.hycell": false,
    "ein.tags": "worksheet-0",
    "scrolled": false,
    "slideshow": {
     "slide_type": "-"
    }
   },
   "outputs": [
    {
     "data": {
      "text/html": [
       "<table class=\"data-frame\"><thead><tr><th></th><th>name</th><th>suit</th><th>result</th><th>arch</th><th>refs</th></tr><tr><th></th><th>String</th><th>Array…</th><th>Array…</th><th>Array…</th><th>Array…</th></tr></thead><tbody><p>125 rows × 5 columns</p><tr><th>1</th><td>btrfs-078</td><td>[\"fstests\", \"btrfs\"]</td><td>[\"failed\"]</td><td>[\"x86_64\", \"aarch64\"]</td><td>[bsc#1119089]</td></tr><tr><th>2</th><td>generic-263</td><td>[\"fstests\", \"xfs\"]</td><td>[\"failed\"]</td><td>[\"x86_64\", \"aarch64\"]</td><td>[bsc#1119212]</td></tr><tr><th>3</th><td>xfs-266</td><td>[\"fstests\", \"xfs\"]</td><td>[\"failed\"]</td><td>[\"aarch64\", \"x86_64\"]</td><td>[]</td></tr><tr><th>4</th><td>xfs-270</td><td>[\"fstests\", \"xfs\"]</td><td>[\"failed\"]</td><td>[\"aarch64\", \"x86_64\"]</td><td>[]</td></tr><tr><th>5</th><td>xfs-278</td><td>[\"fstests\", \"xfs\"]</td><td>[\"failed\"]</td><td>[\"aarch64\", \"x86_64\"]</td><td>[bsc#1110091]</td></tr><tr><th>6</th><td>xfs-281</td><td>[\"fstests\", \"xfs\"]</td><td>[\"failed\"]</td><td>[\"aarch64\", \"x86_64\"]</td><td>[]</td></tr><tr><th>7</th><td>xfs-282</td><td>[\"fstests\", \"xfs\"]</td><td>[\"failed\"]</td><td>[\"aarch64\", \"x86_64\"]</td><td>[]</td></tr><tr><th>8</th><td>xfs-283</td><td>[\"fstests\", \"xfs\"]</td><td>[\"failed\"]</td><td>[\"aarch64\", \"x86_64\"]</td><td>[]</td></tr><tr><th>9</th><td>xfs-285</td><td>[\"fstests\", \"xfs\"]</td><td>[\"failed\"]</td><td>[\"aarch64\", \"x86_64\"]</td><td>[bsc#1085914]</td></tr><tr><th>10</th><td>generic-050</td><td>[\"fstests\", \"xfs\"]</td><td>[\"failed\"]</td><td>[\"x86_64\", \"ppc64le\", \"aarch64\"]</td><td>[bsc#1119210]</td></tr><tr><th>11</th><td>generic-091</td><td>[\"fstests\", \"xfs\"]</td><td>[\"failed\"]</td><td>[\"x86_64\", \"aarch64\"]</td><td>[bsc#1119212]</td></tr><tr><th>12</th><td>btrfs-171</td><td>[\"fstests\", \"btrfs\"]</td><td>[\"failed\"]</td><td>[\"aarch64\", \"x86_64\", \"ppc64le\"]</td><td>[bsc#1120036]</td></tr><tr><th>13</th><td>btrfs-172</td><td>[\"fstests\", \"btrfs\"]</td><td>[\"failed\"]</td><td>[\"aarch64\", \"x86_64\"]</td><td>[bsc#1114270]</td></tr><tr><th>14</th><td>generic-471</td><td>[\"fstests\", \"btrfs\"]</td><td>[\"failed\"]</td><td>[\"aarch64\", \"x86_64\"]</td><td>[bsc#1120171]</td></tr><tr><th>15</th><td>generic-513</td><td>[\"fstests\", \"btrfs\"]</td><td>[\"failed\"]</td><td>[\"aarch64\", \"x86_64\"]</td><td>[bsc#1114278]</td></tr><tr><th>16</th><td>generic-520</td><td>[\"fstests\", \"btrfs\"]</td><td>[\"failed\"]</td><td>[\"aarch64\", \"x86_64\"]</td><td>[bsc#1120173]</td></tr><tr><th>17</th><td>generic-521</td><td>[\"fstests\", \"btrfs\"]</td><td>[\"failed\"]</td><td>[\"aarch64\"]</td><td>[]</td></tr><tr><th>18</th><td>trinity</td><td>[\"OpenQA\"]</td><td>[\"failed\"]</td><td>[\"x86_64\"]</td><td>[]</td></tr><tr><th>19</th><td>btrfs-131</td><td>[\"fstests\", \"btrfs\"]</td><td>[\"failed\"]</td><td>[\"x86_64\", \"aarch64\", \"ppc64le\"]</td><td>[bsc#1120051]</td></tr><tr><th>20</th><td>btrfs-118</td><td>[\"fstests\", \"btrfs\"]</td><td>[\"failed\"]</td><td>[\"aarch64\"]</td><td>[]</td></tr><tr><th>21</th><td>xfs-117</td><td>[\"fstests\", \"xfs\"]</td><td>[\"failed\"]</td><td>[\"aarch64\", \"x86_64\"]</td><td>[bsc#1074427]</td></tr><tr><th>22</th><td>xfs-137</td><td>[\"fstests\", \"xfs\"]</td><td>[\"failed\"]</td><td>[\"aarch64\", \"x86_64\"]</td><td>[]</td></tr><tr><th>23</th><td>xfs-142</td><td>[\"fstests\", \"xfs\"]</td><td>[\"failed\"]</td><td>[\"aarch64\", \"x86_64\"]</td><td>[]</td></tr><tr><th>24</th><td>xfs-143</td><td>[\"fstests\", \"xfs\"]</td><td>[\"failed\"]</td><td>[\"aarch64\", \"x86_64\"]</td><td>[]</td></tr><tr><th>25</th><td>xfs-144</td><td>[\"fstests\", \"xfs\"]</td><td>[\"failed\"]</td><td>[\"aarch64\", \"x86_64\"]</td><td>[]</td></tr><tr><th>26</th><td>xfs-145</td><td>[\"fstests\", \"xfs\"]</td><td>[\"failed\"]</td><td>[\"aarch64\", \"x86_64\"]</td><td>[]</td></tr><tr><th>27</th><td>xfs-146</td><td>[\"fstests\", \"xfs\"]</td><td>[\"failed\"]</td><td>[\"aarch64\", \"x86_64\"]</td><td>[]</td></tr><tr><th>28</th><td>xfs-147</td><td>[\"fstests\", \"xfs\"]</td><td>[\"failed\"]</td><td>[\"aarch64\", \"x86_64\"]</td><td>[]</td></tr><tr><th>29</th><td>xfs-150</td><td>[\"fstests\", \"xfs\"]</td><td>[\"failed\"]</td><td>[\"aarch64\", \"x86_64\"]</td><td>[]</td></tr><tr><th>30</th><td>xfs-151</td><td>[\"fstests\", \"xfs\"]</td><td>[\"failed\"]</td><td>[\"aarch64\", \"x86_64\"]</td><td>[]</td></tr><tr><th>31</th><td>xfs-152</td><td>[\"fstests\", \"xfs\"]</td><td>[\"failed\"]</td><td>[\"aarch64\", \"x86_64\"]</td><td>[]</td></tr><tr><th>32</th><td>xfs-153</td><td>[\"fstests\", \"xfs\"]</td><td>[\"failed\"]</td><td>[\"aarch64\", \"x86_64\"]</td><td>[]</td></tr><tr><th>33</th><td>xfs-154</td><td>[\"fstests\", \"xfs\"]</td><td>[\"failed\"]</td><td>[\"aarch64\", \"x86_64\"]</td><td>[]</td></tr><tr><th>34</th><td>xfs-155</td><td>[\"fstests\", \"xfs\"]</td><td>[\"failed\"]</td><td>[\"aarch64\", \"x86_64\"]</td><td>[]</td></tr><tr><th>35</th><td>xfs-156</td><td>[\"fstests\", \"xfs\"]</td><td>[\"failed\"]</td><td>[\"aarch64\", \"x86_64\"]</td><td>[]</td></tr><tr><th>36</th><td>xfs-157</td><td>[\"fstests\", \"xfs\"]</td><td>[\"failed\"]</td><td>[\"aarch64\", \"x86_64\"]</td><td>[]</td></tr><tr><th>37</th><td>xfs-158</td><td>[\"fstests\", \"xfs\"]</td><td>[\"failed\"]</td><td>[\"aarch64\", \"x86_64\"]</td><td>[]</td></tr><tr><th>38</th><td>xfs-159</td><td>[\"fstests\", \"xfs\"]</td><td>[\"failed\"]</td><td>[\"aarch64\", \"x86_64\"]</td><td>[]</td></tr><tr><th>39</th><td>xfs-160</td><td>[\"fstests\", \"xfs\"]</td><td>[\"failed\"]</td><td>[\"aarch64\", \"x86_64\"]</td><td>[]</td></tr><tr><th>40</th><td>xfs-161</td><td>[\"fstests\", \"xfs\"]</td><td>[\"failed\"]</td><td>[\"aarch64\", \"x86_64\"]</td><td>[]</td></tr><tr><th>41</th><td>xfs-162</td><td>[\"fstests\", \"xfs\"]</td><td>[\"failed\"]</td><td>[\"aarch64\", \"x86_64\"]</td><td>[]</td></tr><tr><th>42</th><td>xfs-163</td><td>[\"fstests\", \"xfs\"]</td><td>[\"failed\"]</td><td>[\"aarch64\", \"x86_64\"]</td><td>[]</td></tr><tr><th>43</th><td>xfs-168</td><td>[\"fstests\", \"xfs\"]</td><td>[\"failed\"]</td><td>[\"aarch64\", \"x86_64\"]</td><td>[]</td></tr><tr><th>44</th><td>xfs-175</td><td>[\"fstests\", \"xfs\"]</td><td>[\"failed\"]</td><td>[\"aarch64\", \"x86_64\"]</td><td>[]</td></tr><tr><th>45</th><td>xfs-176</td><td>[\"fstests\", \"xfs\"]</td><td>[\"failed\"]</td><td>[\"aarch64\", \"x86_64\"]</td><td>[]</td></tr><tr><th>46</th><td>xfs-177</td><td>[\"fstests\", \"xfs\"]</td><td>[\"failed\"]</td><td>[\"aarch64\", \"x86_64\"]</td><td>[]</td></tr><tr><th>47</th><td>xfs-185</td><td>[\"fstests\", \"xfs\"]</td><td>[\"failed\"]</td><td>[\"aarch64\", \"x86_64\"]</td><td>[]</td></tr><tr><th>48</th><td>xfs-189</td><td>[\"fstests\", \"xfs\"]</td><td>[\"failed\"]</td><td>[\"aarch64\", \"x86_64\"]</td><td>[]</td></tr><tr><th>49</th><td>generic-042</td><td>[\"fstests\", \"xfs\"]</td><td>[\"failed\"]</td><td>[\"aarch64\", \"x86_64\"]</td><td>[bsc#1073390]</td></tr><tr><th>50</th><td>generic-484</td><td>[\"fstests\", \"xfs\"]</td><td>[\"failed\"]</td><td>[\"aarch64\", \"x86_64\"]</td><td>[bsc#1111466]</td></tr><tr><th>51</th><td>xfs-018</td><td>[\"fstests\", \"xfs\"]</td><td>[\"failed\"]</td><td>[\"aarch64\", \"x86_64\"]</td><td>[bsc#1073413]</td></tr><tr><th>52</th><td>xfs-081</td><td>[\"fstests\", \"xfs\"]</td><td>[\"failed\"]</td><td>[\"aarch64\", \"x86_64\"]</td><td>[bsc#1073415]</td></tr><tr><th>53</th><td>xfs-082</td><td>[\"fstests\", \"xfs\"]</td><td>[\"failed\"]</td><td>[\"aarch64\", \"x86_64\"]</td><td>[bsc#1073417]</td></tr><tr><th>54</th><td>xfs-172</td><td>[\"fstests\", \"xfs\"]</td><td>[\"failed\"]</td><td>[\"aarch64\", \"x86_64\"]</td><td>[bsc#1073425]</td></tr><tr><th>55</th><td>xfs-263</td><td>[\"fstests\", \"xfs\"]</td><td>[\"failed\"]</td><td>[\"aarch64\", \"x86_64\"]</td><td>[]</td></tr><tr><th>56</th><td>xfs-348</td><td>[\"fstests\", \"xfs\"]</td><td>[\"failed\"]</td><td>[\"aarch64\", \"x86_64\"]</td><td>[bsc#1085909]</td></tr><tr><th>57</th><td>xfs-451</td><td>[\"fstests\", \"xfs\"]</td><td>[\"failed\"]</td><td>[\"aarch64\", \"x86_64\"]</td><td>[bsc#1119063]</td></tr><tr><th>58</th><td>generic-090</td><td>[\"fstests\", \"btrfs\"]</td><td>[\"failed\"]</td><td>[\"aarch64\"]</td><td>[]</td></tr><tr><th>59</th><td>generic-091</td><td>[\"fstests\", \"btrfs\"]</td><td>[\"failed\"]</td><td>[\"aarch64\"]</td><td>[]</td></tr><tr><th>60</th><td>btrfs-170</td><td>[\"fstests\", \"btrfs\"]</td><td>[\"failed\"]</td><td>[\"x86_64\", \"aarch64\"]</td><td>[bsc#1120166]</td></tr><tr><th>61</th><td>generic-475</td><td>[\"fstests\", \"btrfs\"]</td><td>[\"failed\"]</td><td>[\"x86_64\", \"aarch64\"]</td><td>[bsc#1120167]</td></tr><tr><th>62</th><td>generic-484</td><td>[\"fstests\", \"btrfs\"]</td><td>[\"failed\"]</td><td>[\"x86_64\", \"aarch64\"]</td><td>[bsc#1111466]</td></tr><tr><th>63</th><td>generic-488</td><td>[\"fstests\", \"btrfs\"]</td><td>[\"failed\"]</td><td>[\"x86_64\", \"aarch64\"]</td><td>[bsc#1111469]</td></tr><tr><th>64</th><td>xfs-026</td><td>[\"fstests\", \"xfs\"]</td><td>[\"failed\"]</td><td>[\"x86_64\", \"ppc64le\", \"aarch64\"]</td><td>[]</td></tr><tr><th>65</th><td>xfs-027</td><td>[\"fstests\", \"xfs\"]</td><td>[\"failed\"]</td><td>[\"x86_64\", \"ppc64le\", \"aarch64\"]</td><td>[]</td></tr><tr><th>66</th><td>xfs-045</td><td>[\"fstests\", \"xfs\"]</td><td>[\"failed\"]</td><td>[\"x86_64\", \"ppc64le\", \"aarch64\"]</td><td>[]</td></tr><tr><th>67</th><td>xfs-046</td><td>[\"fstests\", \"xfs\"]</td><td>[\"failed\"]</td><td>[\"x86_64\", \"ppc64le\", \"aarch64\"]</td><td>[]</td></tr><tr><th>68</th><td>xfs-059</td><td>[\"fstests\", \"xfs\"]</td><td>[\"failed\"]</td><td>[\"x86_64\", \"ppc64le\", \"aarch64\"]</td><td>[]</td></tr><tr><th>69</th><td>xfs-060</td><td>[\"fstests\", \"xfs\"]</td><td>[\"failed\"]</td><td>[\"x86_64\", \"ppc64le\", \"aarch64\"]</td><td>[]</td></tr><tr><th>70</th><td>xfs-075</td><td>[\"fstests\", \"xfs\"]</td><td>[\"failed\"]</td><td>[\"x86_64\", \"ppc64le\", \"aarch64\"]</td><td>[]</td></tr><tr><th>71</th><td>xfs-085</td><td>[\"fstests\", \"xfs\"]</td><td>[\"failed\"]</td><td>[\"x86_64\", \"ppc64le\", \"aarch64\"]</td><td>[]</td></tr><tr><th>72</th><td>xfs-087</td><td>[\"fstests\", \"xfs\"]</td><td>[\"failed\"]</td><td>[\"x86_64\", \"ppc64le\", \"aarch64\"]</td><td>[]</td></tr><tr><th>73</th><td>xfs-095</td><td>[\"fstests\", \"xfs\"]</td><td>[\"failed\"]</td><td>[\"x86_64\", \"ppc64le\", \"aarch64\"]</td><td>[]</td></tr><tr><th>74</th><td>xfs-097</td><td>[\"fstests\", \"xfs\"]</td><td>[\"failed\"]</td><td>[\"x86_64\", \"ppc64le\", \"aarch64\"]</td><td>[]</td></tr><tr><th>75</th><td>xfs-098</td><td>[\"fstests\", \"xfs\"]</td><td>[\"failed\"]</td><td>[\"x86_64\", \"ppc64le\", \"aarch64\"]</td><td>[bsc#1073421]</td></tr><tr><th>76</th><td>mcast4-group-same-group</td><td>[\"LTP\", \"net_stress.multicast\"]</td><td>[\"failed\"]</td><td>[\"aarch64\", \"x86_64\"]</td><td>[]</td></tr><tr><th>77</th><td>mcast4-group-source-filter</td><td>[\"LTP\", \"net_stress.multicast\"]</td><td>[\"failed\"]</td><td>[\"aarch64\", \"x86_64\"]</td><td>[]</td></tr><tr><th>78</th><td>mcast6-group-same-group</td><td>[\"LTP\", \"net_stress.multicast\"]</td><td>[\"failed\"]</td><td>[\"aarch64\", \"x86_64\"]</td><td>[]</td></tr><tr><th>79</th><td>mcast6-group-source-filter</td><td>[\"LTP\", \"net_stress.multicast\"]</td><td>[\"failed\"]</td><td>[\"aarch64\", \"x86_64\"]</td><td>[]</td></tr><tr><th>80</th><td>run</td><td>[\"fstests\", \"xfs\"]</td><td>[\"softfailed\", \"failed\"]</td><td>[\"x86_64\"]</td><td>[]</td></tr><tr><th>81</th><td>generic-521</td><td>[\"fstests\", \"xfs\"]</td><td>[\"failed\"]</td><td>[\"aarch64\", \"x86_64\"]</td><td>[bsc#1119212]</td></tr><tr><th>82</th><td>xfs-083</td><td>[\"fstests\", \"xfs\"]</td><td>[\"failed\"]</td><td>[\"x86_64\", \"ppc64le\"]</td><td>[]</td></tr><tr><th>83</th><td>xfs-014</td><td>[\"fstests\", \"xfs\"]</td><td>[\"failed\"]</td><td>[\"ppc64le\"]</td><td>[]</td></tr><tr><th>84</th><td>generic-107</td><td>[\"fstests\", \"btrfs\"]</td><td>[\"failed\"]</td><td>[\"x86_64\"]</td><td>[]</td></tr><tr><th>85</th><td>generic-269</td><td>[\"fstests\", \"btrfs\"]</td><td>[\"failed\"]</td><td>[\"aarch64\"]</td><td>[]</td></tr><tr><th>86</th><td>btrfs-139</td><td>[\"fstests\", \"btrfs\"]</td><td>[\"failed\"]</td><td>[\"ppc64le\"]</td><td>[]</td></tr><tr><th>87</th><td>btrfs-146</td><td>[\"fstests\", \"btrfs\"]</td><td>[\"failed\"]</td><td>[\"ppc64le\"]</td><td>[]</td></tr><tr><th>88</th><td>clock_nanosleep02</td><td>[\"LTP\", \"syscalls\"]</td><td>[\"failed\"]</td><td>[\"aarch64\"]</td><td>[]</td></tr><tr><th>89</th><td>fanotify09</td><td>[\"LTP\", \"syscalls\"]</td><td>[\"failed\"]</td><td>[\"aarch64\", \"x86_64\"]</td><td>[bsc#1110880]</td></tr><tr><th>90</th><td>xfs-173</td><td>[\"fstests\", \"xfs\"]</td><td>[\"failed\"]</td><td>[\"x86_64\"]</td><td>[]</td></tr><tr><th>91</th><td>shutdown_ltp</td><td>[\"LTP\", \"syscalls\"]</td><td>[\"failed\"]</td><td>[\"x86_64\"]</td><td>[]</td></tr><tr><th>92</th><td>btrfs-152</td><td>[\"fstests\", \"btrfs\"]</td><td>[\"failed\"]</td><td>[\"x86_64\"]</td><td>[]</td></tr><tr><th>93</th><td>xfs-401</td><td>[\"fstests\", \"xfs\"]</td><td>[\"failed\"]</td><td>[\"x86_64\"]</td><td>[]</td></tr><tr><th>94</th><td>xfs-402</td><td>[\"fstests\", \"xfs\"]</td><td>[\"failed\"]</td><td>[\"x86_64\"]</td><td>[]</td></tr><tr><th>95</th><td>xfs-403</td><td>[\"fstests\", \"xfs\"]</td><td>[\"failed\"]</td><td>[\"x86_64\"]</td><td>[]</td></tr><tr><th>96</th><td>xfs-404</td><td>[\"fstests\", \"xfs\"]</td><td>[\"failed\"]</td><td>[\"x86_64\"]</td><td>[]</td></tr><tr><th>97</th><td>xfs-405</td><td>[\"fstests\", \"xfs\"]</td><td>[\"failed\"]</td><td>[\"x86_64\"]</td><td>[]</td></tr><tr><th>98</th><td>xfs-412</td><td>[\"fstests\", \"xfs\"]</td><td>[\"failed\"]</td><td>[\"x86_64\"]</td><td>[]</td></tr><tr><th>99</th><td>xfs-413</td><td>[\"fstests\", \"xfs\"]</td><td>[\"failed\"]</td><td>[\"x86_64\"]</td><td>[]</td></tr><tr><th>100</th><td>xfs-414</td><td>[\"fstests\", \"xfs\"]</td><td>[\"failed\"]</td><td>[\"x86_64\"]</td><td>[]</td></tr><tr><th>&vellip;</th><td>&vellip;</td><td>&vellip;</td><td>&vellip;</td><td>&vellip;</td><td>&vellip;</td></tr></tbody></table>"
      ],
      "text/plain": [
       "125×5 DataFrame. Omitted printing of 2 columns\n",
       "│ Row │ name              │ suit                 │ result                   │\n",
       "│     │ \u001b[90mString\u001b[39m            │ \u001b[90mArray{String,1}\u001b[39m      │ \u001b[90mArray{String,1}\u001b[39m          │\n",
       "├─────┼───────────────────┼──────────────────────┼──────────────────────────┤\n",
       "│ 1   │ btrfs-078         │ [\"fstests\", \"btrfs\"] │ [\"failed\"]               │\n",
       "│ 2   │ generic-263       │ [\"fstests\", \"xfs\"]   │ [\"failed\"]               │\n",
       "│ 3   │ xfs-266           │ [\"fstests\", \"xfs\"]   │ [\"failed\"]               │\n",
       "│ 4   │ xfs-270           │ [\"fstests\", \"xfs\"]   │ [\"failed\"]               │\n",
       "│ 5   │ xfs-278           │ [\"fstests\", \"xfs\"]   │ [\"failed\"]               │\n",
       "│ 6   │ xfs-281           │ [\"fstests\", \"xfs\"]   │ [\"failed\"]               │\n",
       "│ 7   │ xfs-282           │ [\"fstests\", \"xfs\"]   │ [\"failed\"]               │\n",
       "│ 8   │ xfs-283           │ [\"fstests\", \"xfs\"]   │ [\"failed\"]               │\n",
       "│ 9   │ xfs-285           │ [\"fstests\", \"xfs\"]   │ [\"failed\"]               │\n",
       "│ 10  │ generic-050       │ [\"fstests\", \"xfs\"]   │ [\"failed\"]               │\n",
       "│ 11  │ generic-091       │ [\"fstests\", \"xfs\"]   │ [\"failed\"]               │\n",
       "│ 12  │ btrfs-171         │ [\"fstests\", \"btrfs\"] │ [\"failed\"]               │\n",
       "│ 13  │ btrfs-172         │ [\"fstests\", \"btrfs\"] │ [\"failed\"]               │\n",
       "│ 14  │ generic-471       │ [\"fstests\", \"btrfs\"] │ [\"failed\"]               │\n",
       "│ 15  │ generic-513       │ [\"fstests\", \"btrfs\"] │ [\"failed\"]               │\n",
       "│ 16  │ generic-520       │ [\"fstests\", \"btrfs\"] │ [\"failed\"]               │\n",
       "│ 17  │ generic-521       │ [\"fstests\", \"btrfs\"] │ [\"failed\"]               │\n",
       "│ 18  │ trinity           │ [\"OpenQA\"]           │ [\"failed\"]               │\n",
       "│ 19  │ btrfs-131         │ [\"fstests\", \"btrfs\"] │ [\"failed\"]               │\n",
       "│ 20  │ btrfs-118         │ [\"fstests\", \"btrfs\"] │ [\"failed\"]               │\n",
       "│ 21  │ xfs-117           │ [\"fstests\", \"xfs\"]   │ [\"failed\"]               │\n",
       "│ 22  │ xfs-137           │ [\"fstests\", \"xfs\"]   │ [\"failed\"]               │\n",
       "│ 23  │ xfs-142           │ [\"fstests\", \"xfs\"]   │ [\"failed\"]               │\n",
       "│ 24  │ xfs-143           │ [\"fstests\", \"xfs\"]   │ [\"failed\"]               │\n",
       "│ 25  │ xfs-144           │ [\"fstests\", \"xfs\"]   │ [\"failed\"]               │\n",
       "│ 26  │ xfs-145           │ [\"fstests\", \"xfs\"]   │ [\"failed\"]               │\n",
       "│ 27  │ xfs-146           │ [\"fstests\", \"xfs\"]   │ [\"failed\"]               │\n",
       "│ 28  │ xfs-147           │ [\"fstests\", \"xfs\"]   │ [\"failed\"]               │\n",
       "│ 29  │ xfs-150           │ [\"fstests\", \"xfs\"]   │ [\"failed\"]               │\n",
       "│ 30  │ xfs-151           │ [\"fstests\", \"xfs\"]   │ [\"failed\"]               │\n",
       "│ 31  │ xfs-152           │ [\"fstests\", \"xfs\"]   │ [\"failed\"]               │\n",
       "│ 32  │ xfs-153           │ [\"fstests\", \"xfs\"]   │ [\"failed\"]               │\n",
       "│ 33  │ xfs-154           │ [\"fstests\", \"xfs\"]   │ [\"failed\"]               │\n",
       "│ 34  │ xfs-155           │ [\"fstests\", \"xfs\"]   │ [\"failed\"]               │\n",
       "│ 35  │ xfs-156           │ [\"fstests\", \"xfs\"]   │ [\"failed\"]               │\n",
       "│ 36  │ xfs-157           │ [\"fstests\", \"xfs\"]   │ [\"failed\"]               │\n",
       "│ 37  │ xfs-158           │ [\"fstests\", \"xfs\"]   │ [\"failed\"]               │\n",
       "│ 38  │ xfs-159           │ [\"fstests\", \"xfs\"]   │ [\"failed\"]               │\n",
       "│ 39  │ xfs-160           │ [\"fstests\", \"xfs\"]   │ [\"failed\"]               │\n",
       "│ 40  │ xfs-161           │ [\"fstests\", \"xfs\"]   │ [\"failed\"]               │\n",
       "│ 41  │ xfs-162           │ [\"fstests\", \"xfs\"]   │ [\"failed\"]               │\n",
       "│ 42  │ xfs-163           │ [\"fstests\", \"xfs\"]   │ [\"failed\"]               │\n",
       "│ 43  │ xfs-168           │ [\"fstests\", \"xfs\"]   │ [\"failed\"]               │\n",
       "│ 44  │ xfs-175           │ [\"fstests\", \"xfs\"]   │ [\"failed\"]               │\n",
       "│ 45  │ xfs-176           │ [\"fstests\", \"xfs\"]   │ [\"failed\"]               │\n",
       "⋮\n",
       "│ 80  │ run               │ [\"fstests\", \"xfs\"]   │ [\"softfailed\", \"failed\"] │\n",
       "│ 81  │ generic-521       │ [\"fstests\", \"xfs\"]   │ [\"failed\"]               │\n",
       "│ 82  │ xfs-083           │ [\"fstests\", \"xfs\"]   │ [\"failed\"]               │\n",
       "│ 83  │ xfs-014           │ [\"fstests\", \"xfs\"]   │ [\"failed\"]               │\n",
       "│ 84  │ generic-107       │ [\"fstests\", \"btrfs\"] │ [\"failed\"]               │\n",
       "│ 85  │ generic-269       │ [\"fstests\", \"btrfs\"] │ [\"failed\"]               │\n",
       "│ 86  │ btrfs-139         │ [\"fstests\", \"btrfs\"] │ [\"failed\"]               │\n",
       "│ 87  │ btrfs-146         │ [\"fstests\", \"btrfs\"] │ [\"failed\"]               │\n",
       "│ 88  │ clock_nanosleep02 │ [\"LTP\", \"syscalls\"]  │ [\"failed\"]               │\n",
       "│ 89  │ fanotify09        │ [\"LTP\", \"syscalls\"]  │ [\"failed\"]               │\n",
       "│ 90  │ xfs-173           │ [\"fstests\", \"xfs\"]   │ [\"failed\"]               │\n",
       "│ 91  │ shutdown_ltp      │ [\"LTP\", \"syscalls\"]  │ [\"failed\"]               │\n",
       "│ 92  │ btrfs-152         │ [\"fstests\", \"btrfs\"] │ [\"failed\"]               │\n",
       "│ 93  │ xfs-401           │ [\"fstests\", \"xfs\"]   │ [\"failed\"]               │\n",
       "│ 94  │ xfs-402           │ [\"fstests\", \"xfs\"]   │ [\"failed\"]               │\n",
       "│ 95  │ xfs-403           │ [\"fstests\", \"xfs\"]   │ [\"failed\"]               │\n",
       "│ 96  │ xfs-404           │ [\"fstests\", \"xfs\"]   │ [\"failed\"]               │\n",
       "│ 97  │ xfs-405           │ [\"fstests\", \"xfs\"]   │ [\"failed\"]               │\n",
       "│ 98  │ xfs-412           │ [\"fstests\", \"xfs\"]   │ [\"failed\"]               │\n",
       "│ 99  │ xfs-413           │ [\"fstests\", \"xfs\"]   │ [\"failed\"]               │\n",
       "│ 100 │ xfs-414           │ [\"fstests\", \"xfs\"]   │ [\"failed\"]               │\n",
       "│ 101 │ xfs-415           │ [\"fstests\", \"xfs\"]   │ [\"failed\"]               │\n",
       "│ 102 │ xfs-416           │ [\"fstests\", \"xfs\"]   │ [\"failed\"]               │\n",
       "│ 103 │ xfs-417           │ [\"fstests\", \"xfs\"]   │ [\"failed\"]               │\n",
       "│ 104 │ xfs-418           │ [\"fstests\", \"xfs\"]   │ [\"failed\"]               │\n",
       "│ 105 │ xfs-425           │ [\"fstests\", \"xfs\"]   │ [\"failed\"]               │\n",
       "│ 106 │ xfs-426           │ [\"fstests\", \"xfs\"]   │ [\"failed\"]               │\n",
       "│ 107 │ xfs-427           │ [\"fstests\", \"xfs\"]   │ [\"failed\"]               │\n",
       "│ 108 │ xfs-428           │ [\"fstests\", \"xfs\"]   │ [\"failed\"]               │\n",
       "│ 109 │ xfs-429           │ [\"fstests\", \"xfs\"]   │ [\"failed\"]               │\n",
       "│ 110 │ xfs-430           │ [\"fstests\", \"xfs\"]   │ [\"failed\"]               │\n",
       "│ 111 │ xfs-439           │ [\"fstests\", \"xfs\"]   │ [\"failed\"]               │\n",
       "│ 112 │ xfs-473           │ [\"fstests\", \"xfs\"]   │ [\"failed\"]               │\n",
       "│ 113 │ xfs-491           │ [\"fstests\", \"xfs\"]   │ [\"failed\"]               │\n",
       "│ 114 │ xfs-492           │ [\"fstests\", \"xfs\"]   │ [\"failed\"]               │\n",
       "│ 115 │ xfs-493           │ [\"fstests\", \"xfs\"]   │ [\"failed\"]               │\n",
       "│ 116 │ xfs-495           │ [\"fstests\", \"xfs\"]   │ [\"failed\"]               │\n",
       "│ 117 │ xfs-496           │ [\"fstests\", \"xfs\"]   │ [\"failed\"]               │\n",
       "│ 118 │ xfs-497           │ [\"fstests\", \"xfs\"]   │ [\"failed\"]               │\n",
       "│ 119 │ xfs-498           │ [\"fstests\", \"xfs\"]   │ [\"failed\"]               │\n",
       "│ 120 │ xfs-499           │ [\"fstests\", \"xfs\"]   │ [\"failed\"]               │\n",
       "│ 121 │ btrfs-056         │ [\"fstests\", \"btrfs\"] │ [\"failed\"]               │\n",
       "│ 122 │ btrfs-080         │ [\"fstests\", \"btrfs\"] │ [\"failed\"]               │\n",
       "│ 123 │ generic-361       │ [\"fstests\", \"btrfs\"] │ [\"failed\"]               │\n",
       "│ 124 │ nvmftests         │ [\"OpenQA\"]           │ [\"failed\"]               │\n",
       "│ 125 │ generic-263       │ [\"fstests\", \"btrfs\"] │ [\"failed\"]               │"
      ]
     },
     "metadata": {},
     "output_type": "display_data"
    }
   ],
   "source": [
    "withenv(\"LINES\" => 100) do\n",
    "    display(fails_by_name)\n",
    "end"
   ]
  },
  {
   "cell_type": "markdown",
   "metadata": {
    "ein.tags": "worksheet-0",
    "slideshow": {
     "slide_type": "-"
    }
   },
   "source": [
    "We probably have too many failures to display in Jupyter, so let's just try displaying failures for a subset of tests. We can focus on a particular test suit and remove tests which already appear to be tagged."
   ]
  },
  {
   "cell_type": "code",
   "execution_count": 6,
   "metadata": {
    "autoscroll": false,
    "ein.hycell": false,
    "ein.tags": "worksheet-0",
    "scrolled": false,
    "slideshow": {
     "slide_type": "-"
    }
   },
   "outputs": [
    {
     "data": {
      "text/html": [
       "<table class=\"data-frame\"><thead><tr><th></th><th>name</th><th>suit</th><th>result</th><th>arch</th><th>refs</th></tr><tr><th></th><th>String</th><th>Array…</th><th>Array…</th><th>Array…</th><th>Array…</th></tr></thead><tbody><p>5 rows × 5 columns</p><tr><th>1</th><td>mcast4-group-same-group</td><td>[\"LTP\", \"net_stress.multicast\"]</td><td>[\"failed\"]</td><td>[\"aarch64\", \"x86_64\"]</td><td>[]</td></tr><tr><th>2</th><td>mcast4-group-source-filter</td><td>[\"LTP\", \"net_stress.multicast\"]</td><td>[\"failed\"]</td><td>[\"aarch64\", \"x86_64\"]</td><td>[]</td></tr><tr><th>3</th><td>mcast6-group-same-group</td><td>[\"LTP\", \"net_stress.multicast\"]</td><td>[\"failed\"]</td><td>[\"aarch64\", \"x86_64\"]</td><td>[]</td></tr><tr><th>4</th><td>mcast6-group-source-filter</td><td>[\"LTP\", \"net_stress.multicast\"]</td><td>[\"failed\"]</td><td>[\"aarch64\", \"x86_64\"]</td><td>[]</td></tr><tr><th>5</th><td>clock_nanosleep02</td><td>[\"LTP\", \"syscalls\"]</td><td>[\"failed\"]</td><td>[\"aarch64\"]</td><td>[]</td></tr></tbody></table>"
      ],
      "text/plain": [
       "5×5 DataFrame. Omitted printing of 3 columns\n",
       "│ Row │ name                       │ suit                            │\n",
       "│     │ \u001b[90mString\u001b[39m                     │ \u001b[90mArray{String,1}\u001b[39m                 │\n",
       "├─────┼────────────────────────────┼─────────────────────────────────┤\n",
       "│ 1   │ mcast4-group-same-group    │ [\"LTP\", \"net_stress.multicast\"] │\n",
       "│ 2   │ mcast4-group-source-filter │ [\"LTP\", \"net_stress.multicast\"] │\n",
       "│ 3   │ mcast6-group-same-group    │ [\"LTP\", \"net_stress.multicast\"] │\n",
       "│ 4   │ mcast6-group-source-filter │ [\"LTP\", \"net_stress.multicast\"] │\n",
       "│ 5   │ clock_nanosleep02          │ [\"LTP\", \"syscalls\"]             │"
      ]
     },
     "execution_count": 6,
     "metadata": {},
     "output_type": "execute_result"
    }
   ],
   "source": [
    "missing_bugrefs = filter(fails_by_name) do r\n",
    "    length(r.refs) < 1 && # Remove tests which already have bug refs\n",
    "    r.suit[1] == \"LTP\" &&    # Only include LTP results\n",
    "    r.name != \"boot_ltp\" &&  # Don't include boot_ltp and shutdown_ltp modules\n",
    "    r.name != \"shutdown_ltp\"\n",
    "end\n",
    "\n",
    "length(missing_bugrefs.name) > 0 ? missing_bugrefs : \"Nothing to see here\""
   ]
  },
  {
   "cell_type": "code",
   "execution_count": 7,
   "metadata": {},
   "outputs": [
    {
     "data": {
      "text/html": [
       "<table class=\"data-frame\"><thead><tr><th></th><th>name</th><th>suit</th><th>result</th><th>arch</th><th>refs</th></tr><tr><th></th><th>String</th><th>Array…</th><th>Array…</th><th>Array…</th><th>Array…</th></tr></thead><tbody><p>27 rows × 5 columns</p><tr><th>1</th><td>btrfs-078</td><td>[\"fstests\", \"btrfs\"]</td><td>[\"failed\"]</td><td>[\"x86_64\", \"aarch64\"]</td><td>[bsc#1119089]</td></tr><tr><th>2</th><td>generic-263</td><td>[\"fstests\", \"xfs\"]</td><td>[\"failed\"]</td><td>[\"x86_64\", \"aarch64\"]</td><td>[bsc#1119212]</td></tr><tr><th>3</th><td>xfs-278</td><td>[\"fstests\", \"xfs\"]</td><td>[\"failed\"]</td><td>[\"aarch64\", \"x86_64\"]</td><td>[bsc#1110091]</td></tr><tr><th>4</th><td>xfs-285</td><td>[\"fstests\", \"xfs\"]</td><td>[\"failed\"]</td><td>[\"aarch64\", \"x86_64\"]</td><td>[bsc#1085914]</td></tr><tr><th>5</th><td>generic-050</td><td>[\"fstests\", \"xfs\"]</td><td>[\"failed\"]</td><td>[\"x86_64\", \"ppc64le\", \"aarch64\"]</td><td>[bsc#1119210]</td></tr><tr><th>6</th><td>generic-091</td><td>[\"fstests\", \"xfs\"]</td><td>[\"failed\"]</td><td>[\"x86_64\", \"aarch64\"]</td><td>[bsc#1119212]</td></tr><tr><th>7</th><td>btrfs-171</td><td>[\"fstests\", \"btrfs\"]</td><td>[\"failed\"]</td><td>[\"aarch64\", \"x86_64\", \"ppc64le\"]</td><td>[bsc#1120036]</td></tr><tr><th>8</th><td>btrfs-172</td><td>[\"fstests\", \"btrfs\"]</td><td>[\"failed\"]</td><td>[\"aarch64\", \"x86_64\"]</td><td>[bsc#1114270]</td></tr><tr><th>9</th><td>generic-471</td><td>[\"fstests\", \"btrfs\"]</td><td>[\"failed\"]</td><td>[\"aarch64\", \"x86_64\"]</td><td>[bsc#1120171]</td></tr><tr><th>10</th><td>generic-513</td><td>[\"fstests\", \"btrfs\"]</td><td>[\"failed\"]</td><td>[\"aarch64\", \"x86_64\"]</td><td>[bsc#1114278]</td></tr><tr><th>11</th><td>generic-520</td><td>[\"fstests\", \"btrfs\"]</td><td>[\"failed\"]</td><td>[\"aarch64\", \"x86_64\"]</td><td>[bsc#1120173]</td></tr><tr><th>12</th><td>btrfs-131</td><td>[\"fstests\", \"btrfs\"]</td><td>[\"failed\"]</td><td>[\"x86_64\", \"aarch64\", \"ppc64le\"]</td><td>[bsc#1120051]</td></tr><tr><th>13</th><td>xfs-117</td><td>[\"fstests\", \"xfs\"]</td><td>[\"failed\"]</td><td>[\"aarch64\", \"x86_64\"]</td><td>[bsc#1074427]</td></tr><tr><th>14</th><td>generic-042</td><td>[\"fstests\", \"xfs\"]</td><td>[\"failed\"]</td><td>[\"aarch64\", \"x86_64\"]</td><td>[bsc#1073390]</td></tr><tr><th>15</th><td>generic-484</td><td>[\"fstests\", \"xfs\"]</td><td>[\"failed\"]</td><td>[\"aarch64\", \"x86_64\"]</td><td>[bsc#1111466]</td></tr><tr><th>16</th><td>xfs-018</td><td>[\"fstests\", \"xfs\"]</td><td>[\"failed\"]</td><td>[\"aarch64\", \"x86_64\"]</td><td>[bsc#1073413]</td></tr><tr><th>17</th><td>xfs-081</td><td>[\"fstests\", \"xfs\"]</td><td>[\"failed\"]</td><td>[\"aarch64\", \"x86_64\"]</td><td>[bsc#1073415]</td></tr><tr><th>18</th><td>xfs-082</td><td>[\"fstests\", \"xfs\"]</td><td>[\"failed\"]</td><td>[\"aarch64\", \"x86_64\"]</td><td>[bsc#1073417]</td></tr><tr><th>19</th><td>xfs-172</td><td>[\"fstests\", \"xfs\"]</td><td>[\"failed\"]</td><td>[\"aarch64\", \"x86_64\"]</td><td>[bsc#1073425]</td></tr><tr><th>20</th><td>xfs-348</td><td>[\"fstests\", \"xfs\"]</td><td>[\"failed\"]</td><td>[\"aarch64\", \"x86_64\"]</td><td>[bsc#1085909]</td></tr><tr><th>21</th><td>xfs-451</td><td>[\"fstests\", \"xfs\"]</td><td>[\"failed\"]</td><td>[\"aarch64\", \"x86_64\"]</td><td>[bsc#1119063]</td></tr><tr><th>22</th><td>btrfs-170</td><td>[\"fstests\", \"btrfs\"]</td><td>[\"failed\"]</td><td>[\"x86_64\", \"aarch64\"]</td><td>[bsc#1120166]</td></tr><tr><th>23</th><td>generic-475</td><td>[\"fstests\", \"btrfs\"]</td><td>[\"failed\"]</td><td>[\"x86_64\", \"aarch64\"]</td><td>[bsc#1120167]</td></tr><tr><th>24</th><td>generic-484</td><td>[\"fstests\", \"btrfs\"]</td><td>[\"failed\"]</td><td>[\"x86_64\", \"aarch64\"]</td><td>[bsc#1111466]</td></tr><tr><th>25</th><td>generic-488</td><td>[\"fstests\", \"btrfs\"]</td><td>[\"failed\"]</td><td>[\"x86_64\", \"aarch64\"]</td><td>[bsc#1111469]</td></tr><tr><th>26</th><td>xfs-098</td><td>[\"fstests\", \"xfs\"]</td><td>[\"failed\"]</td><td>[\"x86_64\", \"ppc64le\", \"aarch64\"]</td><td>[bsc#1073421]</td></tr><tr><th>27</th><td>generic-521</td><td>[\"fstests\", \"xfs\"]</td><td>[\"failed\"]</td><td>[\"aarch64\", \"x86_64\"]</td><td>[bsc#1119212]</td></tr></tbody></table>"
      ],
      "text/plain": [
       "27×5 DataFrame. Omitted printing of 2 columns\n",
       "│ Row │ name        │ suit                 │ result     │\n",
       "│     │ \u001b[90mString\u001b[39m      │ \u001b[90mArray{String,1}\u001b[39m      │ \u001b[90mArray…\u001b[39m     │\n",
       "├─────┼─────────────┼──────────────────────┼────────────┤\n",
       "│ 1   │ btrfs-078   │ [\"fstests\", \"btrfs\"] │ [\"failed\"] │\n",
       "│ 2   │ generic-263 │ [\"fstests\", \"xfs\"]   │ [\"failed\"] │\n",
       "│ 3   │ xfs-278     │ [\"fstests\", \"xfs\"]   │ [\"failed\"] │\n",
       "│ 4   │ xfs-285     │ [\"fstests\", \"xfs\"]   │ [\"failed\"] │\n",
       "│ 5   │ generic-050 │ [\"fstests\", \"xfs\"]   │ [\"failed\"] │\n",
       "│ 6   │ generic-091 │ [\"fstests\", \"xfs\"]   │ [\"failed\"] │\n",
       "│ 7   │ btrfs-171   │ [\"fstests\", \"btrfs\"] │ [\"failed\"] │\n",
       "│ 8   │ btrfs-172   │ [\"fstests\", \"btrfs\"] │ [\"failed\"] │\n",
       "│ 9   │ generic-471 │ [\"fstests\", \"btrfs\"] │ [\"failed\"] │\n",
       "│ 10  │ generic-513 │ [\"fstests\", \"btrfs\"] │ [\"failed\"] │\n",
       "⋮\n",
       "│ 17  │ xfs-081     │ [\"fstests\", \"xfs\"]   │ [\"failed\"] │\n",
       "│ 18  │ xfs-082     │ [\"fstests\", \"xfs\"]   │ [\"failed\"] │\n",
       "│ 19  │ xfs-172     │ [\"fstests\", \"xfs\"]   │ [\"failed\"] │\n",
       "│ 20  │ xfs-348     │ [\"fstests\", \"xfs\"]   │ [\"failed\"] │\n",
       "│ 21  │ xfs-451     │ [\"fstests\", \"xfs\"]   │ [\"failed\"] │\n",
       "│ 22  │ btrfs-170   │ [\"fstests\", \"btrfs\"] │ [\"failed\"] │\n",
       "│ 23  │ generic-475 │ [\"fstests\", \"btrfs\"] │ [\"failed\"] │\n",
       "│ 24  │ generic-484 │ [\"fstests\", \"btrfs\"] │ [\"failed\"] │\n",
       "│ 25  │ generic-488 │ [\"fstests\", \"btrfs\"] │ [\"failed\"] │\n",
       "│ 26  │ xfs-098     │ [\"fstests\", \"xfs\"]   │ [\"failed\"] │\n",
       "│ 27  │ generic-521 │ [\"fstests\", \"xfs\"]   │ [\"failed\"] │"
      ]
     },
     "execution_count": 7,
     "metadata": {},
     "output_type": "execute_result"
    }
   ],
   "source": [
    "has_bugrefs = filter(fails_by_name) do r\n",
    "    !isempty(r.refs) && r.suit[1] == \"fstests\"\n",
    "end"
   ]
  },
  {
   "cell_type": "code",
   "execution_count": 8,
   "metadata": {
    "autoscroll": false,
    "ein.hycell": false,
    "ein.tags": "worksheet-0",
    "slideshow": {
     "slide_type": "-"
    }
   },
   "outputs": [
    {
     "data": {
      "text/html": [
       "<table class=\"data-frame\"><thead><tr><th></th><th>name</th><th>suit</th><th>result</th><th>arch</th><th>refs</th></tr><tr><th></th><th>String</th><th>Array…</th><th>Array…</th><th>Array…</th><th>Array…</th></tr></thead><tbody><p>89 rows × 5 columns</p><tr><th>1</th><td>xfs-266</td><td>[\"fstests\", \"xfs\"]</td><td>[\"failed\"]</td><td>[\"aarch64\", \"x86_64\"]</td><td>[]</td></tr><tr><th>2</th><td>xfs-270</td><td>[\"fstests\", \"xfs\"]</td><td>[\"failed\"]</td><td>[\"aarch64\", \"x86_64\"]</td><td>[]</td></tr><tr><th>3</th><td>xfs-281</td><td>[\"fstests\", \"xfs\"]</td><td>[\"failed\"]</td><td>[\"aarch64\", \"x86_64\"]</td><td>[]</td></tr><tr><th>4</th><td>xfs-282</td><td>[\"fstests\", \"xfs\"]</td><td>[\"failed\"]</td><td>[\"aarch64\", \"x86_64\"]</td><td>[]</td></tr><tr><th>5</th><td>xfs-283</td><td>[\"fstests\", \"xfs\"]</td><td>[\"failed\"]</td><td>[\"aarch64\", \"x86_64\"]</td><td>[]</td></tr><tr><th>6</th><td>generic-521</td><td>[\"fstests\", \"btrfs\"]</td><td>[\"failed\"]</td><td>[\"aarch64\"]</td><td>[]</td></tr><tr><th>7</th><td>btrfs-118</td><td>[\"fstests\", \"btrfs\"]</td><td>[\"failed\"]</td><td>[\"aarch64\"]</td><td>[]</td></tr><tr><th>8</th><td>xfs-137</td><td>[\"fstests\", \"xfs\"]</td><td>[\"failed\"]</td><td>[\"aarch64\", \"x86_64\"]</td><td>[]</td></tr><tr><th>9</th><td>xfs-142</td><td>[\"fstests\", \"xfs\"]</td><td>[\"failed\"]</td><td>[\"aarch64\", \"x86_64\"]</td><td>[]</td></tr><tr><th>10</th><td>xfs-143</td><td>[\"fstests\", \"xfs\"]</td><td>[\"failed\"]</td><td>[\"aarch64\", \"x86_64\"]</td><td>[]</td></tr><tr><th>11</th><td>xfs-144</td><td>[\"fstests\", \"xfs\"]</td><td>[\"failed\"]</td><td>[\"aarch64\", \"x86_64\"]</td><td>[]</td></tr><tr><th>12</th><td>xfs-145</td><td>[\"fstests\", \"xfs\"]</td><td>[\"failed\"]</td><td>[\"aarch64\", \"x86_64\"]</td><td>[]</td></tr><tr><th>13</th><td>xfs-146</td><td>[\"fstests\", \"xfs\"]</td><td>[\"failed\"]</td><td>[\"aarch64\", \"x86_64\"]</td><td>[]</td></tr><tr><th>14</th><td>xfs-147</td><td>[\"fstests\", \"xfs\"]</td><td>[\"failed\"]</td><td>[\"aarch64\", \"x86_64\"]</td><td>[]</td></tr><tr><th>15</th><td>xfs-150</td><td>[\"fstests\", \"xfs\"]</td><td>[\"failed\"]</td><td>[\"aarch64\", \"x86_64\"]</td><td>[]</td></tr><tr><th>16</th><td>xfs-151</td><td>[\"fstests\", \"xfs\"]</td><td>[\"failed\"]</td><td>[\"aarch64\", \"x86_64\"]</td><td>[]</td></tr><tr><th>17</th><td>xfs-152</td><td>[\"fstests\", \"xfs\"]</td><td>[\"failed\"]</td><td>[\"aarch64\", \"x86_64\"]</td><td>[]</td></tr><tr><th>18</th><td>xfs-153</td><td>[\"fstests\", \"xfs\"]</td><td>[\"failed\"]</td><td>[\"aarch64\", \"x86_64\"]</td><td>[]</td></tr><tr><th>19</th><td>xfs-154</td><td>[\"fstests\", \"xfs\"]</td><td>[\"failed\"]</td><td>[\"aarch64\", \"x86_64\"]</td><td>[]</td></tr><tr><th>20</th><td>xfs-155</td><td>[\"fstests\", \"xfs\"]</td><td>[\"failed\"]</td><td>[\"aarch64\", \"x86_64\"]</td><td>[]</td></tr><tr><th>21</th><td>xfs-156</td><td>[\"fstests\", \"xfs\"]</td><td>[\"failed\"]</td><td>[\"aarch64\", \"x86_64\"]</td><td>[]</td></tr><tr><th>22</th><td>xfs-157</td><td>[\"fstests\", \"xfs\"]</td><td>[\"failed\"]</td><td>[\"aarch64\", \"x86_64\"]</td><td>[]</td></tr><tr><th>23</th><td>xfs-158</td><td>[\"fstests\", \"xfs\"]</td><td>[\"failed\"]</td><td>[\"aarch64\", \"x86_64\"]</td><td>[]</td></tr><tr><th>24</th><td>xfs-159</td><td>[\"fstests\", \"xfs\"]</td><td>[\"failed\"]</td><td>[\"aarch64\", \"x86_64\"]</td><td>[]</td></tr><tr><th>25</th><td>xfs-160</td><td>[\"fstests\", \"xfs\"]</td><td>[\"failed\"]</td><td>[\"aarch64\", \"x86_64\"]</td><td>[]</td></tr><tr><th>26</th><td>xfs-161</td><td>[\"fstests\", \"xfs\"]</td><td>[\"failed\"]</td><td>[\"aarch64\", \"x86_64\"]</td><td>[]</td></tr><tr><th>27</th><td>xfs-162</td><td>[\"fstests\", \"xfs\"]</td><td>[\"failed\"]</td><td>[\"aarch64\", \"x86_64\"]</td><td>[]</td></tr><tr><th>28</th><td>xfs-163</td><td>[\"fstests\", \"xfs\"]</td><td>[\"failed\"]</td><td>[\"aarch64\", \"x86_64\"]</td><td>[]</td></tr><tr><th>29</th><td>xfs-168</td><td>[\"fstests\", \"xfs\"]</td><td>[\"failed\"]</td><td>[\"aarch64\", \"x86_64\"]</td><td>[]</td></tr><tr><th>30</th><td>xfs-175</td><td>[\"fstests\", \"xfs\"]</td><td>[\"failed\"]</td><td>[\"aarch64\", \"x86_64\"]</td><td>[]</td></tr><tr><th>&vellip;</th><td>&vellip;</td><td>&vellip;</td><td>&vellip;</td><td>&vellip;</td><td>&vellip;</td></tr></tbody></table>"
      ],
      "text/plain": [
       "89×5 DataFrame. Omitted printing of 2 columns\n",
       "│ Row │ name        │ suit                 │ result     │\n",
       "│     │ \u001b[90mString\u001b[39m      │ \u001b[90mArray{String,1}\u001b[39m      │ \u001b[90mArray…\u001b[39m     │\n",
       "├─────┼─────────────┼──────────────────────┼────────────┤\n",
       "│ 1   │ xfs-266     │ [\"fstests\", \"xfs\"]   │ [\"failed\"] │\n",
       "│ 2   │ xfs-270     │ [\"fstests\", \"xfs\"]   │ [\"failed\"] │\n",
       "│ 3   │ xfs-281     │ [\"fstests\", \"xfs\"]   │ [\"failed\"] │\n",
       "│ 4   │ xfs-282     │ [\"fstests\", \"xfs\"]   │ [\"failed\"] │\n",
       "│ 5   │ xfs-283     │ [\"fstests\", \"xfs\"]   │ [\"failed\"] │\n",
       "│ 6   │ generic-521 │ [\"fstests\", \"btrfs\"] │ [\"failed\"] │\n",
       "│ 7   │ btrfs-118   │ [\"fstests\", \"btrfs\"] │ [\"failed\"] │\n",
       "│ 8   │ xfs-137     │ [\"fstests\", \"xfs\"]   │ [\"failed\"] │\n",
       "│ 9   │ xfs-142     │ [\"fstests\", \"xfs\"]   │ [\"failed\"] │\n",
       "│ 10  │ xfs-143     │ [\"fstests\", \"xfs\"]   │ [\"failed\"] │\n",
       "⋮\n",
       "│ 79  │ xfs-492     │ [\"fstests\", \"xfs\"]   │ [\"failed\"] │\n",
       "│ 80  │ xfs-493     │ [\"fstests\", \"xfs\"]   │ [\"failed\"] │\n",
       "│ 81  │ xfs-495     │ [\"fstests\", \"xfs\"]   │ [\"failed\"] │\n",
       "│ 82  │ xfs-496     │ [\"fstests\", \"xfs\"]   │ [\"failed\"] │\n",
       "│ 83  │ xfs-497     │ [\"fstests\", \"xfs\"]   │ [\"failed\"] │\n",
       "│ 84  │ xfs-498     │ [\"fstests\", \"xfs\"]   │ [\"failed\"] │\n",
       "│ 85  │ xfs-499     │ [\"fstests\", \"xfs\"]   │ [\"failed\"] │\n",
       "│ 86  │ btrfs-056   │ [\"fstests\", \"btrfs\"] │ [\"failed\"] │\n",
       "│ 87  │ btrfs-080   │ [\"fstests\", \"btrfs\"] │ [\"failed\"] │\n",
       "│ 88  │ generic-361 │ [\"fstests\", \"btrfs\"] │ [\"failed\"] │\n",
       "│ 89  │ generic-263 │ [\"fstests\", \"btrfs\"] │ [\"failed\"] │"
      ]
     },
     "execution_count": 8,
     "metadata": {},
     "output_type": "execute_result"
    }
   ],
   "source": [
    "missing_bugrefs = filter(fails_by_name) do r\n",
    "    length(r.refs) < 1 &&\n",
    "    r.suit[1] == \"fstests\"\n",
    "end\n",
    "\n",
    "length(missing_bugrefs.name) > 0 ? missing_bugrefs : \"Nothing to see here\""
   ]
  },
  {
   "cell_type": "markdown",
   "metadata": {
    "ein.tags": "worksheet-0",
    "slideshow": {
     "slide_type": "-"
    }
   },
   "source": [
    "Let's try to find if any of these tests had bug refs in past builds. Note that the result of this depends on which of the above cells you ran last. This is because we reuse `missing_bugrefs`."
   ]
  },
  {
   "cell_type": "code",
   "execution_count": 9,
   "metadata": {
    "autoscroll": false,
    "ein.hycell": false,
    "ein.tags": "worksheet-0",
    "slideshow": {
     "slide_type": "-"
    }
   },
   "outputs": [
    {
     "data": {
      "text/html": [
       "<table class=\"data-frame\"><thead><tr><th></th><th>name</th><th>suit</th><th>refs</th></tr><tr><th></th><th>String</th><th>Array…</th><th>Array…</th></tr></thead><tbody><p>7 rows × 3 columns</p><tr><th>1</th><td>generic-521</td><td>[\"fstests\", \"xfs\"]</td><td>[bsc#1119212]</td></tr><tr><th>2</th><td>btrfs-139</td><td>[\"fstests\", \"btrfs\"]</td><td>[bsc#1114393]</td></tr><tr><th>3</th><td>generic-263</td><td>[\"fstests\", \"xfs\"]</td><td>[bsc#1119212]</td></tr><tr><th>4</th><td>xfs-491</td><td>[\"fstests\", \"xfs\"]</td><td>[bsc#1114427]</td></tr><tr><th>5</th><td>xfs-492</td><td>[\"fstests\", \"xfs\"]</td><td>[bsc#1114427]</td></tr><tr><th>6</th><td>xfs-493</td><td>[\"fstests\", \"xfs\"]</td><td>[bsc#1114427]</td></tr><tr><th>7</th><td>generic-091</td><td>[\"fstests\", \"xfs\"]</td><td>[bsc#1119212]</td></tr></tbody></table>"
      ],
      "text/plain": [
       "7×3 DataFrame\n",
       "│ Row │ name        │ suit                 │ refs          │\n",
       "│     │ \u001b[90mString\u001b[39m      │ \u001b[90mArray{String,1}\u001b[39m      │ \u001b[90mArray…\u001b[39m        │\n",
       "├─────┼─────────────┼──────────────────────┼───────────────┤\n",
       "│ 1   │ generic-521 │ [\"fstests\", \"xfs\"]   │ [bsc#1119212] │\n",
       "│ 2   │ btrfs-139   │ [\"fstests\", \"btrfs\"] │ [bsc#1114393] │\n",
       "│ 3   │ generic-263 │ [\"fstests\", \"xfs\"]   │ [bsc#1119212] │\n",
       "│ 4   │ xfs-491     │ [\"fstests\", \"xfs\"]   │ [bsc#1114427] │\n",
       "│ 5   │ xfs-492     │ [\"fstests\", \"xfs\"]   │ [bsc#1114427] │\n",
       "│ 6   │ xfs-493     │ [\"fstests\", \"xfs\"]   │ [bsc#1114427] │\n",
       "│ 7   │ generic-091 │ [\"fstests\", \"xfs\"]   │ [bsc#1119212] │"
      ]
     },
     "execution_count": 9,
     "metadata": {},
     "output_type": "execute_result"
    }
   ],
   "source": [
    "names_index = Set(missing_bugrefs.name) # Convert the name column into a hash set\n",
    "\n",
    "past_results = by(filter(r -> r.name in names_index && length(r.refs) > 0, df), [:name, :suit]) do r\n",
    "    DataFrame(refs = [filter(unique(vcat(r.refs...))) do br\n",
    "                    br.tracker.api == nothing || br.tracker.api.name != \"OpenQA\"\n",
    "                end])\n",
    "end"
   ]
  },
  {
   "cell_type": "markdown",
   "metadata": {
    "ein.tags": "worksheet-0",
    "slideshow": {
     "slide_type": "-"
    }
   },
   "source": [
    "And now show the unique Bug references in a form you can click on.\n",
    "\n",
    "> NOTE: DataFrame's `show` implementation for HTML deliberately calls `show` with the text/plain MIME type for its cell values. So we can not make the bug refs clickable while they are in the table."
   ]
  },
  {
   "cell_type": "code",
   "execution_count": 10,
   "metadata": {
    "autoscroll": false,
    "ein.hycell": false,
    "ein.tags": "worksheet-0",
    "slideshow": {
     "slide_type": "-"
    }
   },
   "outputs": [
    {
     "data": {
      "text/markdown": [
       "[bsc#1119212](https://apibugzilla.suse.com/show_bug.cgi?id=1119212) [bsc#1114393](https://apibugzilla.suse.com/show_bug.cgi?id=1114393) [bsc#1114427](https://apibugzilla.suse.com/show_bug.cgi?id=1114427) "
      ],
      "text/plain": [
       "3-element Array{JDP.BugRefs.Ref,1}:\n",
       " bsc#1119212\n",
       " bsc#1114393\n",
       " bsc#1114427"
      ]
     },
     "execution_count": 10,
     "metadata": {},
     "output_type": "execute_result"
    }
   ],
   "source": [
    "unique(vcat(past_results.refs...))"
   ]
  },
  {
   "cell_type": "markdown",
   "metadata": {
    "ein.tags": "worksheet-0",
    "slideshow": {
     "slide_type": "-"
    }
   },
   "source": [
    "Finally show tests for which we can not find any bug references"
   ]
  },
  {
   "cell_type": "code",
   "execution_count": 13,
   "metadata": {
    "autoscroll": false,
    "ein.hycell": false,
    "ein.tags": "worksheet-0",
    "slideshow": {
     "slide_type": "-"
    }
   },
   "outputs": [
    {
     "data": {
      "text/plain": [
       "Set([\"xfs-150\", \"xfs-145\", \"btrfs-152\", \"xfs-418\", \"btrfs-118\", \"xfs-146\", \"xfs-087\", \"xfs-154\", \"xfs-075\", \"xfs-158\"  …  \"xfs-156\", \"xfs-160\", \"xfs-281\", \"xfs-083\", \"xfs-085\", \"xfs-425\", \"xfs-429\", \"xfs-097\", \"xfs-159\", \"xfs-161\", \"xfs-263\"])"
      ]
     },
     "execution_count": 13,
     "metadata": {},
     "output_type": "execute_result"
    }
   ],
   "source": [
    "setdiff(names_index, past_results.name)"
   ]
  }
 ],
 "metadata": {
  "kernelspec": {
   "display_name": "Julia 1.0.1",
   "language": "julia",
   "name": "julia-1.0"
  },
  "language_info": {
   "file_extension": ".jl",
   "mimetype": "application/julia",
   "name": "julia",
   "version": "1.0.0"
  },
  "name": "report.ipynb"
 },
 "nbformat": 4,
 "nbformat_minor": 2
}
